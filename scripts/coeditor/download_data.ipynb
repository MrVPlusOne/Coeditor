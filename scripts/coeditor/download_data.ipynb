{
 "cells": [
  {
   "cell_type": "code",
   "execution_count": 2,
   "metadata": {},
   "outputs": [],
   "source": [
    "%load_ext autoreload\n",
    "%autoreload 2\n",
    "\n",
    "from coeditor.common import *\n",
    "import os\n",
    "\n",
    "import requests\n",
    "import shutil\n",
    "import random\n",
    "\n",
    "os.chdir(proj_root())"
   ]
  },
  {
   "cell_type": "code",
   "execution_count": 3,
   "metadata": {},
   "outputs": [],
   "source": [
    "import requests\n",
    "import dateparser\n",
    "from spot.data import GitRepo\n",
    "import warnings\n",
    "\n",
    "\n",
    "def request_page(page: int, n_items: int = 10):\n",
    "    return requests.get(\n",
    "        f\"https://api.github.com/search/repositories?q=NOT+interview+NOT+reference+NOT+course+NOT+cheatsheet+created%3A>2018-01-01+stars%3A>1000+size%3A<20000+language%3APython&sort=stars&order=desc&per_page={n_items}&page={page}\"\n",
    "    ).json()\n",
    "\n",
    "\n",
    "def fetch_top_python_repos(n_repos: int):\n",
    "    repos = dict[str, GitRepo]()\n",
    "    i = 1\n",
    "    while len(repos) < n_repos:\n",
    "        page = request_page(i, n_items=100)\n",
    "        if not page.get(\"items\"):\n",
    "            print(\"Fetching page failed:\")\n",
    "            print(page)\n",
    "            break\n",
    "        for item in page[\"items\"]:\n",
    "            r = GitRepo(\n",
    "                author=item[\"owner\"][\"login\"],\n",
    "                name=item[\"name\"],\n",
    "                url=item[\"html_url\"],\n",
    "                description=item[\"description\"],\n",
    "                stars=item[\"stargazers_count\"],\n",
    "                forks=item[\"forks_count\"],\n",
    "                archived=item[\"archived\"],\n",
    "                last_update=dateparser.parse(item[\"pushed_at\"]).replace(tzinfo=None),\n",
    "            )\n",
    "            if not r.archived:\n",
    "                if r.authorname() in repos:\n",
    "                    warnings.warn(f\"{r.authorname()} already in repos\", UserWarning)\n",
    "                repos[r.authorname()] = r\n",
    "        i += 1\n",
    "    return [repos[k] for k in list(repos)[:n_repos]]\n"
   ]
  },
  {
   "cell_type": "code",
   "execution_count": 4,
   "metadata": {},
   "outputs": [
    {
     "name": "stdout",
     "output_type": "stream",
     "text": [
      "Repos: 200\n"
     ]
    }
   ],
   "source": [
    "repos = fetch_top_python_repos(200)\n",
    "print(\"Repos:\", len(repos))\n"
   ]
  },
  {
   "cell_type": "code",
   "execution_count": 11,
   "metadata": {},
   "outputs": [
    {
     "name": "stderr",
     "output_type": "stream",
     "text": [
      "downloading repos: 100%|██████████| 200/200 [01:07<00:00,  2.97it/s]"
     ]
    },
    {
     "name": "stdout",
     "output_type": "stream",
     "text": [
      "Successfully downloaded: 200\n"
     ]
    },
    {
     "name": "stderr",
     "output_type": "stream",
     "text": [
      "\n"
     ]
    }
   ],
   "source": [
    "dataset_name = \"medium\"\n",
    "repos_dir = get_dataset_dir(dataset_name)\n",
    "(repos_dir / \"downloading\").mkdir(exist_ok=True, parents=True)\n",
    "(repos_dir / \"downloaded\").mkdir(exist_ok=True, parents=True)\n",
    "\n",
    "downloaded = pmap(\n",
    "    GitRepo.download,\n",
    "    repos,\n",
    "    [repos_dir] * len(repos),\n",
    "    [True] * len(repos),\n",
    "    desc=\"downloading repos\",\n",
    "    max_workers=4,\n",
    ")\n",
    "\n",
    "print(\"Successfully downloaded:\", sum(downloaded))\n"
   ]
  },
  {
   "cell_type": "code",
   "execution_count": 8,
   "metadata": {},
   "outputs": [],
   "source": [
    "n_test = 20\n",
    "n_valid = 20\n",
    "n_train = 100\n",
    "\n",
    "downloaded_repos = [r for r, d in zip(repos, downloaded) if d]\n",
    "random.seed(42)\n",
    "random.shuffle(downloaded_repos)\n",
    "split = {\n",
    "    \"train\": downloaded_repos[n_test + n_valid :][:n_train],\n",
    "    \"test\": downloaded_repos[:n_test],\n",
    "    \"valid\": downloaded_repos[n_test : n_test + n_valid],\n",
    "}\n",
    "\n",
    "pickle_dump(repos_dir / \"repos_split.pkl\", split)\n"
   ]
  },
  {
   "cell_type": "code",
   "execution_count": 13,
   "metadata": {},
   "outputs": [
    {
     "name": "stderr",
     "output_type": "stream",
     "text": [
      "moving train: 100%|██████████| 170/170 [00:00<00:00, 717.00it/s]\n",
      "moving test: 100%|██████████| 20/20 [00:00<00:00, 725.43it/s]\n",
      "moving valid: 100%|██████████| 10/10 [00:00<00:00, 716.47it/s]\n"
     ]
    }
   ],
   "source": [
    "# move downloaded repos to their split group\n",
    "for group, repos in split.items():\n",
    "    for repo in tqdm(repos, desc=f\"moving {group}\"):\n",
    "        dest = repos_dir / \"repos\" / group\n",
    "        dest.mkdir(exist_ok=True, parents=True)\n",
    "        shutil.move(repos_dir / \"downloaded\" / repo.authorname(), dest)\n"
   ]
  }
 ],
 "metadata": {
  "kernelspec": {
   "display_name": "Python 3.10.4 ('.venv': pipenv)",
   "language": "python",
   "name": "python3"
  },
  "language_info": {
   "codemirror_mode": {
    "name": "ipython",
    "version": 3
   },
   "file_extension": ".py",
   "mimetype": "text/x-python",
   "name": "python",
   "nbconvert_exporter": "python",
   "pygments_lexer": "ipython3",
   "version": "3.10.4"
  },
  "orig_nbformat": 4,
  "vscode": {
   "interpreter": {
    "hash": "f6ffc72953da4dd16b2e00785be9c4013ef131f465a8658f3921b6634d4eeec8"
   }
  }
 },
 "nbformat": 4,
 "nbformat_minor": 2
}
