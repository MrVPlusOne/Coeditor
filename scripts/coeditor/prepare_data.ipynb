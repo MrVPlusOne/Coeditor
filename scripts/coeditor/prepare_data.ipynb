{
 "cells": [
  {
   "cell_type": "code",
   "execution_count": 1,
   "metadata": {},
   "outputs": [],
   "source": [
    "%load_ext autoreload\n",
    "%autoreload 2\n",
    "\n",
    "from coeditor.common import *\n",
    "from coeditor.dataset import *\n",
    "\n",
    "os.chdir(proj_root())"
   ]
  },
  {
   "cell_type": "code",
   "execution_count": 2,
   "metadata": {},
   "outputs": [],
   "source": [
    "dataset_name = \"small\"\n",
    "# dataset_name = \"SPOT\"\n",
    "save_dir = get_dataset_dir(dataset_name) / \"tokenized-file_based\""
   ]
  },
  {
   "cell_type": "code",
   "execution_count": 3,
   "metadata": {},
   "outputs": [
    {
     "name": "stderr",
     "output_type": "stream",
     "text": [
      "Getting commit histories: 100%|██████████| 9/9 [00:33<00:00,  3.76s/repo]\n",
      "Create tokenized edits: 100%|██████████| 81/81 [06:10<00:00,  4.58s/chunk]  \n"
     ]
    }
   ],
   "source": [
    "from coeditor.dataset import datasets_from_repos\n",
    "\n",
    "if dataset_name == \"SPOT\":\n",
    "    datasets = {\"test\": dataset_from_projects([proj_root()])}\n",
    "else:\n",
    "    datasets = datasets_from_repos(get_dataset_dir(dataset_name) / \"repos\")"
   ]
  },
  {
   "cell_type": "code",
   "execution_count": 4,
   "metadata": {},
   "outputs": [
    {
     "data": {
      "text/plain": [
       "{'train': TokenizedEditDataset(n_projects=7, n_edits=7945),\n",
       " 'test': TokenizedEditDataset(n_projects=2, n_edits=2186)}"
      ]
     },
     "metadata": {},
     "output_type": "display_data"
    },
    {
     "name": "stdout",
     "output_type": "stream",
     "text": [
      "Tokenized dataset saved to: /mnt/nas/jiayi/coeditor/datasets/small/tokenized-file_based\n"
     ]
    }
   ],
   "source": [
    "display(datasets)\n",
    "\n",
    "for name, dataset in datasets.items():\n",
    "    pickle_dump(save_dir / f\"{name}.pkl\", dataset)\n",
    "\n",
    "print(\"Tokenized dataset saved to:\", save_dir)"
   ]
  },
  {
   "cell_type": "code",
   "execution_count": 5,
   "metadata": {},
   "outputs": [
    {
     "name": "stdout",
     "output_type": "stream",
     "text": [
      "==================== train ====================\n"
     ]
    },
    {
     "data": {
      "text/html": [
       "<div>\n",
       "<style scoped>\n",
       "    .dataframe tbody tr th:only-of-type {\n",
       "        vertical-align: middle;\n",
       "    }\n",
       "\n",
       "    .dataframe tbody tr th {\n",
       "        vertical-align: top;\n",
       "    }\n",
       "\n",
       "    .dataframe thead th {\n",
       "        text-align: right;\n",
       "    }\n",
       "</style>\n",
       "<table border=\"1\" class=\"dataframe\">\n",
       "  <thead>\n",
       "    <tr style=\"text-align: right;\">\n",
       "      <th></th>\n",
       "      <th>repo</th>\n",
       "      <th>n_edits</th>\n",
       "      <th>avg_input_size</th>\n",
       "      <th>avg_target_size</th>\n",
       "    </tr>\n",
       "  </thead>\n",
       "  <tbody>\n",
       "    <tr>\n",
       "      <th>0</th>\n",
       "      <td>flask</td>\n",
       "      <td>851</td>\n",
       "      <td>7269.105758</td>\n",
       "      <td>79.665100</td>\n",
       "    </tr>\n",
       "    <tr>\n",
       "      <th>1</th>\n",
       "      <td>fastapi</td>\n",
       "      <td>1472</td>\n",
       "      <td>3609.942935</td>\n",
       "      <td>74.455842</td>\n",
       "    </tr>\n",
       "    <tr>\n",
       "      <th>2</th>\n",
       "      <td>you-get</td>\n",
       "      <td>1311</td>\n",
       "      <td>3380.981693</td>\n",
       "      <td>124.073989</td>\n",
       "    </tr>\n",
       "    <tr>\n",
       "      <th>3</th>\n",
       "      <td>yolov5</td>\n",
       "      <td>1111</td>\n",
       "      <td>6255.445545</td>\n",
       "      <td>111.352835</td>\n",
       "    </tr>\n",
       "    <tr>\n",
       "      <th>4</th>\n",
       "      <td>httpie</td>\n",
       "      <td>1731</td>\n",
       "      <td>3012.428076</td>\n",
       "      <td>62.803582</td>\n",
       "    </tr>\n",
       "    <tr>\n",
       "      <th>5</th>\n",
       "      <td>bert</td>\n",
       "      <td>77</td>\n",
       "      <td>7134.727273</td>\n",
       "      <td>138.753247</td>\n",
       "    </tr>\n",
       "    <tr>\n",
       "      <th>6</th>\n",
       "      <td>black</td>\n",
       "      <td>1392</td>\n",
       "      <td>21380.726293</td>\n",
       "      <td>78.109914</td>\n",
       "    </tr>\n",
       "  </tbody>\n",
       "</table>\n",
       "</div>"
      ],
      "text/plain": [
       "      repo  n_edits  avg_input_size  avg_target_size\n",
       "0    flask      851     7269.105758        79.665100\n",
       "1  fastapi     1472     3609.942935        74.455842\n",
       "2  you-get     1311     3380.981693       124.073989\n",
       "3   yolov5     1111     6255.445545       111.352835\n",
       "4   httpie     1731     3012.428076        62.803582\n",
       "5     bert       77     7134.727273       138.753247\n",
       "6    black     1392    21380.726293        78.109914"
      ]
     },
     "metadata": {},
     "output_type": "display_data"
    },
    {
     "name": "stdout",
     "output_type": "stream",
     "text": [
      "==================== test ====================\n"
     ]
    },
    {
     "data": {
      "text/html": [
       "<div>\n",
       "<style scoped>\n",
       "    .dataframe tbody tr th:only-of-type {\n",
       "        vertical-align: middle;\n",
       "    }\n",
       "\n",
       "    .dataframe tbody tr th {\n",
       "        vertical-align: top;\n",
       "    }\n",
       "\n",
       "    .dataframe thead th {\n",
       "        text-align: right;\n",
       "    }\n",
       "</style>\n",
       "<table border=\"1\" class=\"dataframe\">\n",
       "  <thead>\n",
       "    <tr style=\"text-align: right;\">\n",
       "      <th></th>\n",
       "      <th>repo</th>\n",
       "      <th>n_edits</th>\n",
       "      <th>avg_input_size</th>\n",
       "      <th>avg_target_size</th>\n",
       "    </tr>\n",
       "  </thead>\n",
       "  <tbody>\n",
       "    <tr>\n",
       "      <th>0</th>\n",
       "      <td>gym</td>\n",
       "      <td>1411</td>\n",
       "      <td>1906.742027</td>\n",
       "      <td>69.535790</td>\n",
       "    </tr>\n",
       "    <tr>\n",
       "      <th>1</th>\n",
       "      <td>requests</td>\n",
       "      <td>775</td>\n",
       "      <td>3599.452903</td>\n",
       "      <td>72.754839</td>\n",
       "    </tr>\n",
       "  </tbody>\n",
       "</table>\n",
       "</div>"
      ],
      "text/plain": [
       "       repo  n_edits  avg_input_size  avg_target_size\n",
       "0       gym     1411     1906.742027        69.535790\n",
       "1  requests      775     3599.452903        72.754839"
      ]
     },
     "metadata": {},
     "output_type": "display_data"
    }
   ],
   "source": [
    "for name in [\"train\", \"test\"]:\n",
    "    if not (save_dir / f\"{name}.pkl\").exists():\n",
    "        continue\n",
    "    dataset = pickle_load(save_dir / f\"{name}.pkl\")\n",
    "    print(\"=\" * 20, name, \"=\" * 20)\n",
    "    display(dataset.per_repo_stats())"
   ]
  },
  {
   "cell_type": "code",
   "execution_count": null,
   "metadata": {},
   "outputs": [
    {
     "name": "stdout",
     "output_type": "stream",
     "text": [
      "==================== train ====================\n"
     ]
    },
    {
     "data": {
      "text/html": [
       "<div>\n",
       "<style scoped>\n",
       "    .dataframe tbody tr th:only-of-type {\n",
       "        vertical-align: middle;\n",
       "    }\n",
       "\n",
       "    .dataframe tbody tr th {\n",
       "        vertical-align: top;\n",
       "    }\n",
       "\n",
       "    .dataframe thead th {\n",
       "        text-align: right;\n",
       "    }\n",
       "</style>\n",
       "<table border=\"1\" class=\"dataframe\">\n",
       "  <thead>\n",
       "    <tr style=\"text-align: right;\">\n",
       "      <th></th>\n",
       "      <th>repo</th>\n",
       "      <th>n_edits</th>\n",
       "      <th>avg_input_size</th>\n",
       "      <th>avg_target_size</th>\n",
       "    </tr>\n",
       "  </thead>\n",
       "  <tbody>\n",
       "    <tr>\n",
       "      <th>0</th>\n",
       "      <td>flask</td>\n",
       "      <td>1235</td>\n",
       "      <td>8513.451822</td>\n",
       "      <td>88.129555</td>\n",
       "    </tr>\n",
       "    <tr>\n",
       "      <th>1</th>\n",
       "      <td>fastapi</td>\n",
       "      <td>1566</td>\n",
       "      <td>3613.686462</td>\n",
       "      <td>75.245849</td>\n",
       "    </tr>\n",
       "    <tr>\n",
       "      <th>2</th>\n",
       "      <td>you-get</td>\n",
       "      <td>1387</td>\n",
       "      <td>3531.528479</td>\n",
       "      <td>120.326604</td>\n",
       "    </tr>\n",
       "    <tr>\n",
       "      <th>3</th>\n",
       "      <td>yolov5</td>\n",
       "      <td>1138</td>\n",
       "      <td>6266.356766</td>\n",
       "      <td>110.573814</td>\n",
       "    </tr>\n",
       "    <tr>\n",
       "      <th>4</th>\n",
       "      <td>httpie</td>\n",
       "      <td>1907</td>\n",
       "      <td>2979.315679</td>\n",
       "      <td>61.891977</td>\n",
       "    </tr>\n",
       "    <tr>\n",
       "      <th>5</th>\n",
       "      <td>bert</td>\n",
       "      <td>85</td>\n",
       "      <td>7257.411765</td>\n",
       "      <td>133.200000</td>\n",
       "    </tr>\n",
       "    <tr>\n",
       "      <th>6</th>\n",
       "      <td>black</td>\n",
       "      <td>1612</td>\n",
       "      <td>19975.775434</td>\n",
       "      <td>77.478908</td>\n",
       "    </tr>\n",
       "  </tbody>\n",
       "</table>\n",
       "</div>"
      ],
      "text/plain": [
       "      repo  n_edits  avg_input_size  avg_target_size\n",
       "0    flask     1235     8513.451822        88.129555\n",
       "1  fastapi     1566     3613.686462        75.245849\n",
       "2  you-get     1387     3531.528479       120.326604\n",
       "3   yolov5     1138     6266.356766       110.573814\n",
       "4   httpie     1907     2979.315679        61.891977\n",
       "5     bert       85     7257.411765       133.200000\n",
       "6    black     1612    19975.775434        77.478908"
      ]
     },
     "metadata": {},
     "output_type": "display_data"
    },
    {
     "name": "stdout",
     "output_type": "stream",
     "text": [
      "==================== test ====================\n"
     ]
    },
    {
     "data": {
      "text/html": [
       "<div>\n",
       "<style scoped>\n",
       "    .dataframe tbody tr th:only-of-type {\n",
       "        vertical-align: middle;\n",
       "    }\n",
       "\n",
       "    .dataframe tbody tr th {\n",
       "        vertical-align: top;\n",
       "    }\n",
       "\n",
       "    .dataframe thead th {\n",
       "        text-align: right;\n",
       "    }\n",
       "</style>\n",
       "<table border=\"1\" class=\"dataframe\">\n",
       "  <thead>\n",
       "    <tr style=\"text-align: right;\">\n",
       "      <th></th>\n",
       "      <th>repo</th>\n",
       "      <th>n_edits</th>\n",
       "      <th>avg_input_size</th>\n",
       "      <th>avg_target_size</th>\n",
       "    </tr>\n",
       "  </thead>\n",
       "  <tbody>\n",
       "    <tr>\n",
       "      <th>0</th>\n",
       "      <td>gym</td>\n",
       "      <td>1516</td>\n",
       "      <td>1949.631266</td>\n",
       "      <td>69.904354</td>\n",
       "    </tr>\n",
       "    <tr>\n",
       "      <th>1</th>\n",
       "      <td>requests</td>\n",
       "      <td>882</td>\n",
       "      <td>3540.645125</td>\n",
       "      <td>71.318594</td>\n",
       "    </tr>\n",
       "  </tbody>\n",
       "</table>\n",
       "</div>"
      ],
      "text/plain": [
       "       repo  n_edits  avg_input_size  avg_target_size\n",
       "0       gym     1516     1949.631266        69.904354\n",
       "1  requests      882     3540.645125        71.318594"
      ]
     },
     "metadata": {},
     "output_type": "display_data"
    }
   ],
   "source": []
  }
 ],
 "metadata": {
  "kernelspec": {
   "display_name": "Python 3.10.4 ('.venv': pipenv)",
   "language": "python",
   "name": "python3"
  },
  "language_info": {
   "codemirror_mode": {
    "name": "ipython",
    "version": 3
   },
   "file_extension": ".py",
   "mimetype": "text/x-python",
   "name": "python",
   "nbconvert_exporter": "python",
   "pygments_lexer": "ipython3",
   "version": "3.10.4"
  },
  "orig_nbformat": 4,
  "vscode": {
   "interpreter": {
    "hash": "f6ffc72953da4dd16b2e00785be9c4013ef131f465a8658f3921b6634d4eeec8"
   }
  }
 },
 "nbformat": 4,
 "nbformat_minor": 2
}
