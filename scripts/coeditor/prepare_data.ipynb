{
 "cells": [
  {
   "cell_type": "code",
   "execution_count": 1,
   "metadata": {},
   "outputs": [],
   "source": [
    "%load_ext autoreload\n",
    "%autoreload 2\n",
    "\n",
    "from coeditor.common import *\n",
    "from coeditor.dataset import *\n",
    "\n",
    "os.chdir(proj_root())"
   ]
  },
  {
   "cell_type": "code",
   "execution_count": 2,
   "metadata": {},
   "outputs": [],
   "source": [
    "dataset_name = \"small\"\n",
    "save_dir = get_dataset_dir(dataset_name) / \"tokenized-file_based\""
   ]
  },
  {
   "cell_type": "code",
   "execution_count": 3,
   "metadata": {},
   "outputs": [
    {
     "name": "stderr",
     "output_type": "stream",
     "text": [
      "Getting commit histories: 100%|██████████| 9/9 [00:35<00:00,  3.90s/repo]\n",
      "Create tokenized edits: 100%|██████████| 81/81 [06:05<00:00,  4.51s/chunk]  \n"
     ]
    }
   ],
   "source": [
    "from coeditor.dataset import datasets_from_repos\n",
    "\n",
    "datasets = datasets_from_repos(get_dataset_dir(dataset_name) / \"repos\")"
   ]
  },
  {
   "cell_type": "code",
   "execution_count": 5,
   "metadata": {},
   "outputs": [
    {
     "data": {
      "text/plain": [
       "{'train': TokenizedEditDataset(n_projects=7, n_edits=8930),\n",
       " 'test': TokenizedEditDataset(n_projects=2, n_edits=2398)}"
      ]
     },
     "metadata": {},
     "output_type": "display_data"
    },
    {
     "name": "stdout",
     "output_type": "stream",
     "text": [
      "Tokenized dataset saved to: /mnt/nas/jiayi/coeditor/datasets/small/tokenized-file_based\n"
     ]
    }
   ],
   "source": [
    "display(datasets)\n",
    "\n",
    "for name, dataset in datasets.items():\n",
    "    pickle_dump(save_dir / f\"{name}.pkl\", dataset)\n",
    "\n",
    "print(\"Tokenized dataset saved to:\", save_dir)"
   ]
  },
  {
   "cell_type": "code",
   "execution_count": 6,
   "metadata": {},
   "outputs": [
    {
     "name": "stdout",
     "output_type": "stream",
     "text": [
      "==================== train ====================\n"
     ]
    },
    {
     "data": {
      "text/html": [
       "<div>\n",
       "<style scoped>\n",
       "    .dataframe tbody tr th:only-of-type {\n",
       "        vertical-align: middle;\n",
       "    }\n",
       "\n",
       "    .dataframe tbody tr th {\n",
       "        vertical-align: top;\n",
       "    }\n",
       "\n",
       "    .dataframe thead th {\n",
       "        text-align: right;\n",
       "    }\n",
       "</style>\n",
       "<table border=\"1\" class=\"dataframe\">\n",
       "  <thead>\n",
       "    <tr style=\"text-align: right;\">\n",
       "      <th></th>\n",
       "      <th>repo</th>\n",
       "      <th>n_edits</th>\n",
       "      <th>avg_input_size</th>\n",
       "      <th>avg_target_size</th>\n",
       "    </tr>\n",
       "  </thead>\n",
       "  <tbody>\n",
       "    <tr>\n",
       "      <th>0</th>\n",
       "      <td>flask</td>\n",
       "      <td>1235</td>\n",
       "      <td>8505.678543</td>\n",
       "      <td>92.988664</td>\n",
       "    </tr>\n",
       "    <tr>\n",
       "      <th>1</th>\n",
       "      <td>fastapi</td>\n",
       "      <td>1566</td>\n",
       "      <td>3605.323755</td>\n",
       "      <td>76.697957</td>\n",
       "    </tr>\n",
       "    <tr>\n",
       "      <th>2</th>\n",
       "      <td>you-get</td>\n",
       "      <td>1387</td>\n",
       "      <td>3526.563086</td>\n",
       "      <td>127.019466</td>\n",
       "    </tr>\n",
       "    <tr>\n",
       "      <th>3</th>\n",
       "      <td>yolov5</td>\n",
       "      <td>1138</td>\n",
       "      <td>6262.162566</td>\n",
       "      <td>128.910369</td>\n",
       "    </tr>\n",
       "    <tr>\n",
       "      <th>4</th>\n",
       "      <td>httpie</td>\n",
       "      <td>1907</td>\n",
       "      <td>2974.235973</td>\n",
       "      <td>65.759832</td>\n",
       "    </tr>\n",
       "    <tr>\n",
       "      <th>5</th>\n",
       "      <td>bert</td>\n",
       "      <td>85</td>\n",
       "      <td>7252.164706</td>\n",
       "      <td>164.482353</td>\n",
       "    </tr>\n",
       "    <tr>\n",
       "      <th>6</th>\n",
       "      <td>black</td>\n",
       "      <td>1612</td>\n",
       "      <td>19970.601117</td>\n",
       "      <td>82.321340</td>\n",
       "    </tr>\n",
       "  </tbody>\n",
       "</table>\n",
       "</div>"
      ],
      "text/plain": [
       "      repo  n_edits  avg_input_size  avg_target_size\n",
       "0    flask     1235     8505.678543        92.988664\n",
       "1  fastapi     1566     3605.323755        76.697957\n",
       "2  you-get     1387     3526.563086       127.019466\n",
       "3   yolov5     1138     6262.162566       128.910369\n",
       "4   httpie     1907     2974.235973        65.759832\n",
       "5     bert       85     7252.164706       164.482353\n",
       "6    black     1612    19970.601117        82.321340"
      ]
     },
     "metadata": {},
     "output_type": "display_data"
    },
    {
     "name": "stdout",
     "output_type": "stream",
     "text": [
      "==================== test ====================\n"
     ]
    },
    {
     "data": {
      "text/html": [
       "<div>\n",
       "<style scoped>\n",
       "    .dataframe tbody tr th:only-of-type {\n",
       "        vertical-align: middle;\n",
       "    }\n",
       "\n",
       "    .dataframe tbody tr th {\n",
       "        vertical-align: top;\n",
       "    }\n",
       "\n",
       "    .dataframe thead th {\n",
       "        text-align: right;\n",
       "    }\n",
       "</style>\n",
       "<table border=\"1\" class=\"dataframe\">\n",
       "  <thead>\n",
       "    <tr style=\"text-align: right;\">\n",
       "      <th></th>\n",
       "      <th>repo</th>\n",
       "      <th>n_edits</th>\n",
       "      <th>avg_input_size</th>\n",
       "      <th>avg_target_size</th>\n",
       "    </tr>\n",
       "  </thead>\n",
       "  <tbody>\n",
       "    <tr>\n",
       "      <th>0</th>\n",
       "      <td>gym</td>\n",
       "      <td>1516</td>\n",
       "      <td>1943.487467</td>\n",
       "      <td>75.400396</td>\n",
       "    </tr>\n",
       "    <tr>\n",
       "      <th>1</th>\n",
       "      <td>requests</td>\n",
       "      <td>882</td>\n",
       "      <td>3534.580499</td>\n",
       "      <td>75.961451</td>\n",
       "    </tr>\n",
       "  </tbody>\n",
       "</table>\n",
       "</div>"
      ],
      "text/plain": [
       "       repo  n_edits  avg_input_size  avg_target_size\n",
       "0       gym     1516     1943.487467        75.400396\n",
       "1  requests      882     3534.580499        75.961451"
      ]
     },
     "metadata": {},
     "output_type": "display_data"
    }
   ],
   "source": [
    "for name in [\"train\", \"test\"]:\n",
    "    dataset = pickle_load(save_dir / f\"{name}.pkl\")\n",
    "    print(\"=\" * 20, name, \"=\" * 20)\n",
    "    display(dataset.per_repo_stats())"
   ]
  }
 ],
 "metadata": {
  "kernelspec": {
   "display_name": "Python 3.10.4 ('.venv': pipenv)",
   "language": "python",
   "name": "python3"
  },
  "language_info": {
   "codemirror_mode": {
    "name": "ipython",
    "version": 3
   },
   "file_extension": ".py",
   "mimetype": "text/x-python",
   "name": "python",
   "nbconvert_exporter": "python",
   "pygments_lexer": "ipython3",
   "version": "3.10.4"
  },
  "orig_nbformat": 4,
  "vscode": {
   "interpreter": {
    "hash": "f6ffc72953da4dd16b2e00785be9c4013ef131f465a8658f3921b6634d4eeec8"
   }
  }
 },
 "nbformat": 4,
 "nbformat_minor": 2
}
