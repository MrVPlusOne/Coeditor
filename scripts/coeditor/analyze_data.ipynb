{
 "cells": [
  {
   "cell_type": "code",
   "execution_count": 1,
   "metadata": {},
   "outputs": [],
   "source": [
    "%load_ext autoreload\n",
    "%autoreload 2\n",
    "\n",
    "from coeditor.common import *\n",
    "from coeditor.dataset import *\n",
    "from coeditor.encoding import *\n",
    "from coeditor.encoders import BasicQueryEditEncoder\n",
    "\n",
    "from spot.utils import pretty_print_dict\n",
    "\n",
    "os.chdir(proj_root())"
   ]
  },
  {
   "cell_type": "code",
   "execution_count": 2,
   "metadata": {},
   "outputs": [
    {
     "name": "stderr",
     "output_type": "stream",
     "text": [
      "Getting commit histories: 100%|██████████| 1/1 [00:01<00:00,  1.58s/repo]\n",
      "Create tokenized edits: 100%|██████████| 1/1 [00:03<00:00,  3.32s/chunk]\n"
     ]
    }
   ],
   "source": [
    "# test_data_name = \"medium\"\n",
    "# test_data_name = \"SPOT\"\n",
    "# encoder = AnalysisBasedEditEncoder(extra_ctx_names=(\"usees\", \"post-usees\"), add_truncate_bos=False)\n",
    "# encoder = CstBasedEditEncoder(500, add_truncate_bos=False)\n",
    "encoder = BasicQueryEditEncoder()\n",
    "data = dataset_from_projects([proj_root()], encoder, [False], max_history_per_repo=10)"
   ]
  },
  {
   "cell_type": "code",
   "execution_count": 3,
   "metadata": {},
   "outputs": [
    {
     "name": "stderr",
     "output_type": "stream",
     "text": [
      "Getting repo signatures:   8%|▊         | 28/360 [00:03<00:41,  7.98it/s]warning: inexact rename detection was skipped due to too many files.\n",
      "warning: you may want to set your diff.renameLimit variable to at least 2368 and retry the command.\n",
      "Getting repo signatures: 100%|██████████| 360/360 [02:02<00:00,  2.95it/s]"
     ]
    },
    {
     "name": "stdout",
     "output_type": "stream",
     "text": [
      "2 repos have the same signature: ('Update README.md', 'Update README.md', 'Update README.md', 'Update README.md', 'Update README.md') ...\n",
      "   train/Embedding?Chinese-Word-Vectors\n",
      "   valid/KingOfBugbounty?KingOfBugBountyTips\n",
      "Total number of duplicates: 1\n"
     ]
    },
    {
     "name": "stderr",
     "output_type": "stream",
     "text": [
      "\n"
     ]
    }
   ],
   "source": [
    "# detect duplicate repos using commit messages\n",
    "dataset_name = \"large\"\n",
    "repos_dir = get_dataset_dir(dataset_name) / \"repos\"\n",
    "repo_paths = [repo for split in repos_dir.iterdir() for repo in split.iterdir()]\n",
    "reposigs = pmap(get_repo_signature, repo_paths, desc=\"Getting repo signatures\")\n",
    "repo2sig = dict(zip(repo_paths, reposigs))\n",
    "groups = groupby(repo_paths, lambda repo: repo2sig[repo])\n",
    "n_duplicates = 0\n",
    "for sig, repos in groups.items():\n",
    "    if len(repos) > 1:\n",
    "        n_duplicates += len(repos) - 1\n",
    "        print(f\"{len(repos)} repos have the same signature: {sig[:5]} ...\")\n",
    "        for repo in repos:\n",
    "            print(\"  \", repo.relative_to(repos_dir))\n",
    "print(\"Total number of duplicates:\", n_duplicates)"
   ]
  },
  {
   "cell_type": "code",
   "execution_count": 8,
   "metadata": {},
   "outputs": [],
   "source": [
    "data = load_datasets(get_dataset_dir(\"small\") / \"BasicQueryEditEncoder(VERSION=2)\", splits=[\"test\"])[\"test\"]"
   ]
  },
  {
   "cell_type": "code",
   "execution_count": 9,
   "metadata": {},
   "outputs": [
    {
     "name": "stdout",
     "output_type": "stream",
     "text": [
      "n_projects: 2\n",
      "n_edits: 2039\n",
      "n_additions: 0\n",
      "input_tks:\n",
      "   mean: 230.32\n",
      "   median: 182\n",
      "   min: 28\n",
      "   max: 512\n",
      "output_tks:\n",
      "   mean: 57.2\n",
      "   median: 43\n",
      "   min: 4\n",
      "   max: 256\n",
      "references:\n",
      "   mean: 75.127\n",
      "   median: 8\n",
      "   min: 1\n",
      "   max: 877\n",
      "ref_size_sum:\n",
      "   mean: 17824\n",
      "   median: 1345\n",
      "   min: 43\n",
      "   max: 467294\n"
     ]
    }
   ],
   "source": [
    "pretty_print_dict(data.overall_stats())"
   ]
  },
  {
   "cell_type": "code",
   "execution_count": 10,
   "metadata": {},
   "outputs": [
    {
     "name": "stdout",
     "output_type": "stream",
     "text": [
      "Edits with updated calls: 23 / 126\n",
      "Number of updated calls: 30\n"
     ]
    }
   ],
   "source": [
    "call_exs = [ex for ex in data.all_edits() if ex.updated_calls]\n",
    "print(f\"Edits with updated calls: {len(call_exs)} / {len(data.all_edits())}\")\n",
    "print(f\"Number of updated calls: {sum(len(ex.updated_calls) for ex in call_exs)}\")"
   ]
  },
  {
   "cell_type": "code",
   "execution_count": null,
   "metadata": {},
   "outputs": [],
   "source": [
    "ex=call_exs[1]\n",
    "print(f\"updated calls: {[p for p, _ in ex.updated_calls]}\")\n",
    "print(ex.show())"
   ]
  },
  {
   "cell_type": "code",
   "execution_count": 17,
   "metadata": {},
   "outputs": [],
   "source": [
    "# dataset_name = \"SPOT\"\n",
    "dataset_name = \"medium\"\n",
    "# encoder = AnalysisBasedEditEncoder(extra_ctx_names=(\"usees\", \"post-usees\"))\n",
    "encoder = CstBasedEditEncoder()\n",
    "save_dir = get_dataset_dir(dataset_name) / repr_modified_args(encoder)\n",
    "datasets = load_datasets(save_dir)"
   ]
  },
  {
   "cell_type": "code",
   "execution_count": 3,
   "metadata": {},
   "outputs": [
    {
     "name": "stdout",
     "output_type": "stream",
     "text": [
      "==================== test ====================\n",
      "n_projects: 20\n",
      "n_edits: 12666\n",
      "input_size:\n",
      "   mean: 2759.8\n",
      "   median: 3137.5\n",
      "   min: 44\n",
      "   max: 4006\n",
      "output_size:\n",
      "   mean: 113.73\n",
      "   median: 75\n",
      "   min: 3\n",
      "   max: 4776\n",
      "==================== valid ====================\n",
      "n_projects: 10\n",
      "n_edits: 2297\n",
      "input_size:\n",
      "   mean: 2902.8\n",
      "   median: 3629\n",
      "   min: 58\n",
      "   max: 4006\n",
      "output_size:\n",
      "   mean: 116.93\n",
      "   median: 89\n",
      "   min: 5\n",
      "   max: 1567\n",
      "==================== train ====================\n",
      "n_projects: 100\n",
      "n_edits: 50801\n",
      "input_size:\n",
      "   mean: 2579.5\n",
      "   median: 2720\n",
      "   min: 37\n",
      "   max: 4006\n",
      "output_size:\n",
      "   mean: 98.522\n",
      "   median: 64\n",
      "   min: 3\n",
      "   max: 8434\n"
     ]
    }
   ],
   "source": [
    "for group, dataset in datasets.items():\n",
    "    print(\"=\" * 20, group, \"=\" * 20)\n",
    "    pretty_print_dict(dataset.overall_stats())"
   ]
  },
  {
   "cell_type": "code",
   "execution_count": 7,
   "metadata": {},
   "outputs": [
    {
     "name": "stdout",
     "output_type": "stream",
     "text": [
      "All edits: 1331\n",
      "All edits with extra context: 360\n"
     ]
    }
   ],
   "source": [
    "with_ctx = [e for e in data.all_edits() if e.extra_tks]\n",
    "\n",
    "print(\"All edits:\", len(data.all_edits()))\n",
    "print(\"All edits with extra context:\", len(with_ctx))"
   ]
  },
  {
   "cell_type": "code",
   "execution_count": 11,
   "metadata": {},
   "outputs": [],
   "source": [
    "from coeditor.model import DatasetDecodingResult\n",
    "\n",
    "model_name = \"coeditor-medium-analysis-post_usees\"\n",
    "dec_result: DatasetDecodingResult = pickle_load(get_model_dir() / model_name / \"dec_result.pkl\")"
   ]
  },
  {
   "cell_type": "code",
   "execution_count": 12,
   "metadata": {},
   "outputs": [
    {
     "name": "stderr",
     "output_type": "stream",
     "text": [
      "saving examples: 100%|██████████| 200/200 [00:03<00:00, 57.31it/s]"
     ]
    },
    {
     "name": "stdout",
     "output_type": "stream",
     "text": [
      "Output examples saved to: /mnt/nas/jiayi/coeditor/models/models/trained/coeditor-medium-analysis-post_usees/pred_samples\n"
     ]
    },
    {
     "name": "stderr",
     "output_type": "stream",
     "text": [
      "\n"
     ]
    }
   ],
   "source": [
    "max_saved_samples = 200\n",
    "random.seed(42)\n",
    "exs_to_save = list(range(len(dec_result.predictions)))\n",
    "random.shuffle(exs_to_save)\n",
    "exs_to_save = exs_to_save[:max_saved_samples]\n",
    "out_dir = get_model_dir() / model_name / \"pred_samples\"\n",
    "dec_result.save_examples_to_dir(out_dir, exs_to_save)\n",
    "print(\"Output examples saved to:\", out_dir)"
   ]
  }
 ],
 "metadata": {
  "kernelspec": {
   "display_name": "Python 3.10.4 ('.venv': pipenv)",
   "language": "python",
   "name": "python3"
  },
  "language_info": {
   "codemirror_mode": {
    "name": "ipython",
    "version": 3
   },
   "file_extension": ".py",
   "mimetype": "text/x-python",
   "name": "python",
   "nbconvert_exporter": "python",
   "pygments_lexer": "ipython3",
   "version": "3.10.4"
  },
  "orig_nbformat": 4,
  "vscode": {
   "interpreter": {
    "hash": "f6ffc72953da4dd16b2e00785be9c4013ef131f465a8658f3921b6634d4eeec8"
   }
  }
 },
 "nbformat": 4,
 "nbformat_minor": 2
}
