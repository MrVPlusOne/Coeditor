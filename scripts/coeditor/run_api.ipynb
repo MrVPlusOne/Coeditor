{
 "cells": [
  {
   "cell_type": "code",
   "execution_count": 1,
   "metadata": {},
   "outputs": [],
   "source": [
    "%load_ext autoreload\n",
    "%autoreload 2\n",
    "\n",
    "from coeditor.common import *\n",
    "import os\n",
    "\n",
    "os.chdir(proj_root())"
   ]
  },
  {
   "cell_type": "code",
   "execution_count": 2,
   "metadata": {},
   "outputs": [
    {
     "name": "stderr",
     "output_type": "stream",
     "text": [
      "/home/jiayi/Projects/SPOT/src/coeditor/retrieval_model.py:255: UserWarning: No extra args found, using default model setting.\n",
      "  warnings.warn(\"No extra args found, using default model setting.\")\n"
     ]
    }
   ],
   "source": [
    "from coeditor.retrieval_model import RetrievalEditorModel\n",
    "from coeditor.api import EditPredictionService, BasicQueryEditEncoder, BatchArgs\n",
    "\n",
    "model_path = get_model_dir(False) / \"coeditor-large-query-basic/checkpoint-221507\"\n",
    "model = RetrievalEditorModel.load(model_path)\n",
    "model.to(\"cuda:1\")\n",
    "service = EditPredictionService(\n",
    "    proj_root(),\n",
    "    model,\n",
    "    encoder=BasicQueryEditEncoder(max_ref_tks=512),\n",
    "    batch_args=BatchArgs(\n",
    "        max_ref_tks=50 * 512, max_ref_dropout=0.0, shuffle_extra_ids=False\n",
    "    ),\n",
    ")\n"
   ]
  },
  {
   "cell_type": "code",
   "execution_count": 6,
   "metadata": {},
   "outputs": [
    {
     "name": "stdout",
     "output_type": "stream",
     "text": [
      "\u001b[34mnum batches: 1\u001b[0m\n",
      "\u001b[34mBatch stats: {'mean': '1.0', 'median': '1.0', 'min': '1.0', 'max': '1.0'}\u001b[0m\n",
      "========== Predicted code change ==========\n",
      "* Modified: \n",
      "    ... 12 lines omitted ...\n",
      " \n",
      "                if not file.is_absolute():\n",
      "                    file = project / file\n",
      " \n",
      "                with timed(\"get target element\"):\n",
      "                    mname = PythonProject.rel_path_to_module_name(file.relative_to(project))\n",
      "    -               if (mod := self.now_cache.get(mname, str(os.stat(file).st_mtime))) is None:\n",
      "    +               if (\n",
      "    +                   mod := self.parse_cache.get(mname, str(os.stat(file).st_mtime))\n",
      "    +               ) is None:\n",
      "                        mod = PythonModule.from_cst(cst.parse_module(file.read_text()), mname)\n",
      "                    elem = get_elem_by_line(mod, line)\n",
      "    -           if elem is None:\n",
      "    -               raise ValueError(f\"No code element found at line {line} in file {file}.\")\n",
      "    -           if not isinstance(elem, PythonFunction):\n",
      "    -               raise ValueError(f\"Only functions can be edited by the model.\")\n",
      "    +               if elem is None:\n",
      "    +                   raise ValueError(\n",
      "    +                       f\"No code element found at line {line} in file {file}.\"\n",
      "    +                   )\n",
      "    +               if not isinstance(elem, PythonFunction):\n",
      "    +                   raise ValueError(f\"Only functions can be edited by the model.\")\n",
      "    +           cursor_offset = line - mod.location_map[elem.tree.body].start.line\n",
      " \n",
      "                with timed(\"construct project edit\"):\n",
      "                    pedit = self.config.get_pedit(project, self.prev_cache, self.now_cache)\n",
      "    -           old_elems = [\n",
      "    -               c for c in pedit.all_elem_changes() if get_change_path(c) == elem.path\n",
      "    -           ]\n",
      "    -           match old_elems:\n",
      "    +               if mname not in pedit.after.modules:\n",
      "    +                   pedit.after.modules[mname] = PythonModule.from_cst(\n",
      "    +                       self.config.module_preprocess(mod.tree), mname\n",
      "    +                   )\n",
      "    +           match [c for c in pedit.all_elem_changes() if get_change_path(c) == elem.path]:\n",
      "                    case [Modified(PythonFunction(), PythonFunction()) as mf]:\n",
      "                        elem_change = cast(Modified[PythonFunction], mf)\n",
      "                    case _:\n",
      "                        elem_change = Modified(elem, elem)\n",
      "                with timed(\"encode edits\"):\n",
      "                    qedits = list(self.encoder.encode_pedit(pedit, queries=[elem_change]))\n",
      "    ... 2 lines omitted ...\n",
      "len(input_tks) = 512\n",
      "len(references) = 8\n"
     ]
    }
   ],
   "source": [
    "service.suggest_edit(Path(\"src/coeditor/api.py\"), 250)\n",
    "# service.suggest_edit(Path(\"src/spot/utils.py\"), (218, 0))"
   ]
  },
  {
   "cell_type": "code",
   "execution_count": 4,
   "metadata": {},
   "outputs": [
    {
     "data": {
      "text/html": [
       "<div>\n",
       "<style scoped>\n",
       "    .dataframe tbody tr th:only-of-type {\n",
       "        vertical-align: middle;\n",
       "    }\n",
       "\n",
       "    .dataframe tbody tr th {\n",
       "        vertical-align: top;\n",
       "    }\n",
       "\n",
       "    .dataframe thead th {\n",
       "        text-align: right;\n",
       "    }\n",
       "</style>\n",
       "<table border=\"1\" class=\"dataframe\">\n",
       "  <thead>\n",
       "    <tr style=\"text-align: right;\">\n",
       "      <th></th>\n",
       "      <th>name</th>\n",
       "      <th>count</th>\n",
       "      <th>avg_time</th>\n",
       "      <th>total_time</th>\n",
       "    </tr>\n",
       "  </thead>\n",
       "  <tbody>\n",
       "    <tr>\n",
       "      <th>3</th>\n",
       "      <td>run model</td>\n",
       "      <td>1</td>\n",
       "      <td>0.924438</td>\n",
       "      <td>0.924438</td>\n",
       "    </tr>\n",
       "    <tr>\n",
       "      <th>1</th>\n",
       "      <td>construct project edit</td>\n",
       "      <td>1</td>\n",
       "      <td>0.691362</td>\n",
       "      <td>0.691362</td>\n",
       "    </tr>\n",
       "    <tr>\n",
       "      <th>0</th>\n",
       "      <td>get target element</td>\n",
       "      <td>1</td>\n",
       "      <td>0.429420</td>\n",
       "      <td>0.429420</td>\n",
       "    </tr>\n",
       "    <tr>\n",
       "      <th>2</th>\n",
       "      <td>encode edits</td>\n",
       "      <td>1</td>\n",
       "      <td>0.037939</td>\n",
       "      <td>0.037939</td>\n",
       "    </tr>\n",
       "  </tbody>\n",
       "</table>\n",
       "</div>"
      ],
      "text/plain": [
       "                     name  count  avg_time  total_time\n",
       "3               run model      1  0.924438    0.924438\n",
       "1  construct project edit      1  0.691362    0.691362\n",
       "0      get target element      1  0.429420    0.429420\n",
       "2            encode edits      1  0.037939    0.037939"
      ]
     },
     "execution_count": 4,
     "metadata": {},
     "output_type": "execute_result"
    }
   ],
   "source": [
    "service.tlogger.as_dataframe()\n"
   ]
  }
 ],
 "metadata": {
  "kernelspec": {
   "display_name": ".venv",
   "language": "python",
   "name": "python3"
  },
  "language_info": {
   "codemirror_mode": {
    "name": "ipython",
    "version": 3
   },
   "file_extension": ".py",
   "mimetype": "text/x-python",
   "name": "python",
   "nbconvert_exporter": "python",
   "pygments_lexer": "ipython3",
   "version": "3.10.4"
  },
  "orig_nbformat": 4,
  "vscode": {
   "interpreter": {
    "hash": "f6ffc72953da4dd16b2e00785be9c4013ef131f465a8658f3921b6634d4eeec8"
   }
  }
 },
 "nbformat": 4,
 "nbformat_minor": 2
}
