{
 "cells": [
  {
   "cell_type": "code",
   "execution_count": 1,
   "metadata": {},
   "outputs": [],
   "source": [
    "%load_ext autoreload\n",
    "%autoreload 2\n",
    "\n",
    "from coeditor.common import *\n",
    "import os\n",
    "\n",
    "os.chdir(proj_root())"
   ]
  },
  {
   "cell_type": "code",
   "execution_count": 16,
   "metadata": {},
   "outputs": [
    {
     "name": "stderr",
     "output_type": "stream",
     "text": [
      "/home/jiayi/Projects/SPOT/src/coeditor/retrieval_model.py:255: UserWarning: No extra args found, using default model setting.\n",
      "  warnings.warn(\"No extra args found, using default model setting.\")\n"
     ]
    }
   ],
   "source": [
    "from coeditor.retrieval_model import RetrievalEditorModel\n",
    "from coeditor.api import EditPredictionService, BasicQueryEditEncoder, BatchArgs\n",
    "\n",
    "model_path = get_model_dir(False) / \"coeditor-large-query-basic/checkpoint-136312\"\n",
    "model = RetrievalEditorModel.load(model_path)\n",
    "model.to(\"cuda:1\")\n",
    "service = EditPredictionService(\n",
    "    model, encoder=BasicQueryEditEncoder(max_ref_tks=512), \n",
    "    batch_args=BatchArgs(max_ref_tks=50*512, max_ref_dropout=0.0, shuffle_extra_ids=False),\n",
    ")\n"
   ]
  },
  {
   "cell_type": "code",
   "execution_count": 23,
   "metadata": {},
   "outputs": [
    {
     "name": "stdout",
     "output_type": "stream",
     "text": [
      "\u001b[34mnum batches: 1\u001b[0m\n",
      "\u001b[34mBatch stats: {'mean': '1.0', 'median': '1.0', 'min': '1.0', 'max': '1.0'}\u001b[0m\n",
      "len(input_tks) = 49\n",
      "len(references) = 43\n",
      "========== Predicted code change ==========\n",
      "* Modified: \n",
      "    # path: coeditor.history/Deleted.as_char\n",
      "\n",
      "    @dataclass\n",
      "    class Deleted(Generic[T1]):\n",
      "        @staticmethod\n",
      "        def as_char():\n",
      "            return \"D\"\n"
     ]
    }
   ],
   "source": [
    "service.suggest_edit(proj_root(), Path(\"src/coeditor/history.py\"), (52, 0))"
   ]
  },
  {
   "cell_type": "code",
   "execution_count": 12,
   "metadata": {},
   "outputs": [
    {
     "data": {
      "text/html": [
       "<div>\n",
       "<style scoped>\n",
       "    .dataframe tbody tr th:only-of-type {\n",
       "        vertical-align: middle;\n",
       "    }\n",
       "\n",
       "    .dataframe tbody tr th {\n",
       "        vertical-align: top;\n",
       "    }\n",
       "\n",
       "    .dataframe thead th {\n",
       "        text-align: right;\n",
       "    }\n",
       "</style>\n",
       "<table border=\"1\" class=\"dataframe\">\n",
       "  <thead>\n",
       "    <tr style=\"text-align: right;\">\n",
       "      <th></th>\n",
       "      <th>name</th>\n",
       "      <th>count</th>\n",
       "      <th>avg_time</th>\n",
       "      <th>total_time</th>\n",
       "    </tr>\n",
       "  </thead>\n",
       "  <tbody>\n",
       "    <tr>\n",
       "      <th>1</th>\n",
       "      <td>construct project edit</td>\n",
       "      <td>7</td>\n",
       "      <td>3.761061</td>\n",
       "      <td>26.327428</td>\n",
       "    </tr>\n",
       "    <tr>\n",
       "      <th>0</th>\n",
       "      <td>get target element</td>\n",
       "      <td>7</td>\n",
       "      <td>0.430467</td>\n",
       "      <td>3.013267</td>\n",
       "    </tr>\n",
       "    <tr>\n",
       "      <th>3</th>\n",
       "      <td>run model</td>\n",
       "      <td>3</td>\n",
       "      <td>0.717002</td>\n",
       "      <td>2.151007</td>\n",
       "    </tr>\n",
       "    <tr>\n",
       "      <th>2</th>\n",
       "      <td>encode edits</td>\n",
       "      <td>7</td>\n",
       "      <td>0.143082</td>\n",
       "      <td>1.001571</td>\n",
       "    </tr>\n",
       "  </tbody>\n",
       "</table>\n",
       "</div>"
      ],
      "text/plain": [
       "                     name  count  avg_time  total_time\n",
       "1  construct project edit      7  3.761061   26.327428\n",
       "0      get target element      7  0.430467    3.013267\n",
       "3               run model      3  0.717002    2.151007\n",
       "2            encode edits      7  0.143082    1.001571"
      ]
     },
     "execution_count": 12,
     "metadata": {},
     "output_type": "execute_result"
    }
   ],
   "source": [
    "service.tlogger.as_dataframe()\n"
   ]
  }
 ],
 "metadata": {
  "kernelspec": {
   "display_name": ".venv",
   "language": "python",
   "name": "python3"
  },
  "language_info": {
   "codemirror_mode": {
    "name": "ipython",
    "version": 3
   },
   "file_extension": ".py",
   "mimetype": "text/x-python",
   "name": "python",
   "nbconvert_exporter": "python",
   "pygments_lexer": "ipython3",
   "version": "3.10.4"
  },
  "orig_nbformat": 4,
  "vscode": {
   "interpreter": {
    "hash": "f6ffc72953da4dd16b2e00785be9c4013ef131f465a8658f3921b6634d4eeec8"
   }
  }
 },
 "nbformat": 4,
 "nbformat_minor": 2
}
