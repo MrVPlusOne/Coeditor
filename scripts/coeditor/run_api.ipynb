{
 "cells": [
  {
   "cell_type": "code",
   "execution_count": 1,
   "metadata": {},
   "outputs": [],
   "source": [
    "# %load_ext autoreload\n",
    "# %autoreload 2\n",
    "# turn off autoreload so that we can use the old model \n",
    "# when editing the current project\n",
    "\n",
    "from coeditor.common import *\n",
    "import os\n",
    "\n",
    "os.chdir(proj_root())"
   ]
  },
  {
   "cell_type": "code",
   "execution_count": 2,
   "metadata": {},
   "outputs": [
    {
     "name": "stderr",
     "output_type": "stream",
     "text": [
      "/home/jiayi/Projects/SPOT/src/coeditor/retrieval_model.py:303: UserWarning: No extra args found, using default model setting.\n",
      "  warnings.warn(\"No extra args found, using default model setting.\")\n"
     ]
    }
   ],
   "source": [
    "from coeditor.retrieval_model import RetrievalEditorModel\n",
    "from coeditor.api import EditPredictionService, BasicQueryEditEncoder, BatchArgs\n",
    "\n",
    "model_path = get_model_dir(False) / \"coeditor-large-query-stub/checkpoint-248892\"\n",
    "model = RetrievalEditorModel.load(model_path)\n",
    "model.to(\"cuda:1\")\n",
    "batch_args = BatchArgs.service_default()\n",
    "service = EditPredictionService(\n",
    "    proj_root(),\n",
    "    model,\n",
    "    batch_args=batch_args,\n",
    "    encoder=BasicQueryEditEncoder(\n",
    "        max_ref_tks=batch_args.max_ref_tks,\n",
    "        max_query_tks=batch_args.max_query_tks,\n",
    "        max_output_tks=batch_args.max_output_tks,\n",
    "    ),\n",
    ")\n"
   ]
  },
  {
   "cell_type": "code",
   "execution_count": 5,
   "metadata": {},
   "outputs": [
    {
     "name": "stdout",
     "output_type": "stream",
     "text": [
      "stub files: dict_keys(['coeditor.api', 'coeditor.encoders', 'spot.static_analysis'])\n",
      "\u001b[34mnum batches: 1\u001b[0m\n",
      "\u001b[34mBatch stats: {'mean': '1.0', 'median': '1.0', 'min': '1.0', 'max': '1.0'}\u001b[0m\n",
      "========== Predicted code change ==========\n",
      "* Modified: \n",
      "    ... 3 lines omitted ...\n",
      "        class BasicQueryEditEncoder(EditEncoder[BasicTkQueryEdit]):\n",
      "            def encode_pedit(\n",
      "                self,\n",
      "                pedit: ProjectEdit,\n",
      "                stub_cache: TimedCache[ModuleName, list[TokenSeq], int],\n",
      "                include_additions: bool = False,\n",
      "    -           queries: Iterable[Change[PythonFunction]] | None = None,\n",
      "    +           queries: Sequence[Change[PythonFunction]] | None = None,\n",
      "            ) -> Iterable[BasicTkQueryEdit]:\n",
      "                ctx_enc = CtxEncoder(pedit, self.collapse_unchanged)\n",
      "    -           moved = find_moved(pedit.all_elem_changes())\n",
      "    -           moved_paths = {a for a, b in moved} | {b for a, b in moved}\n",
      "    +           renamed = find_renamed(pedit.all_elem_changes())\n",
      "    +           renamed_paths = {a for a, b in renamed} | {b for a, b in renamed}\n",
      "                after_to_mf = {\n",
      "                    b: mf\n",
      "                    for (a, b), change in moved.items()\n",
      "                    if (mf := to_modified_function(change))\n",
      "                }\n",
      "                module_stubs = None\n",
      "    ... 58 lines omitted ...\n"
     ]
    }
   ],
   "source": [
    "service.suggest_edit(Path(\"src/coeditor/encoders.py\"), 146)\n",
    "# service.suggest_edit(Path(\"src/coeditor/api.py\"), 277)\n",
    "# service.suggest_edit(Path(\"src/spot/utils.py\"), (218, 0))\n"
   ]
  },
  {
   "cell_type": "code",
   "execution_count": 4,
   "metadata": {},
   "outputs": [
    {
     "data": {
      "text/html": [
       "<div>\n",
       "<style scoped>\n",
       "    .dataframe tbody tr th:only-of-type {\n",
       "        vertical-align: middle;\n",
       "    }\n",
       "\n",
       "    .dataframe tbody tr th {\n",
       "        vertical-align: top;\n",
       "    }\n",
       "\n",
       "    .dataframe thead th {\n",
       "        text-align: right;\n",
       "    }\n",
       "</style>\n",
       "<table border=\"1\" class=\"dataframe\">\n",
       "  <thead>\n",
       "    <tr style=\"text-align: right;\">\n",
       "      <th></th>\n",
       "      <th>name</th>\n",
       "      <th>count</th>\n",
       "      <th>avg_time</th>\n",
       "      <th>total_time</th>\n",
       "    </tr>\n",
       "  </thead>\n",
       "  <tbody>\n",
       "    <tr>\n",
       "      <th>1</th>\n",
       "      <td>construct project edit</td>\n",
       "      <td>1</td>\n",
       "      <td>3.296461</td>\n",
       "      <td>3.296461</td>\n",
       "    </tr>\n",
       "    <tr>\n",
       "      <th>3</th>\n",
       "      <td>run model</td>\n",
       "      <td>1</td>\n",
       "      <td>1.625003</td>\n",
       "      <td>1.625003</td>\n",
       "    </tr>\n",
       "    <tr>\n",
       "      <th>2</th>\n",
       "      <td>encode edits</td>\n",
       "      <td>1</td>\n",
       "      <td>0.676539</td>\n",
       "      <td>0.676539</td>\n",
       "    </tr>\n",
       "    <tr>\n",
       "      <th>0</th>\n",
       "      <td>get target element</td>\n",
       "      <td>1</td>\n",
       "      <td>0.158115</td>\n",
       "      <td>0.158115</td>\n",
       "    </tr>\n",
       "  </tbody>\n",
       "</table>\n",
       "</div>"
      ],
      "text/plain": [
       "                     name  count  avg_time  total_time\n",
       "1  construct project edit      1  3.296461    3.296461\n",
       "3               run model      1  1.625003    1.625003\n",
       "2            encode edits      1  0.676539    0.676539\n",
       "0      get target element      1  0.158115    0.158115"
      ]
     },
     "execution_count": 4,
     "metadata": {},
     "output_type": "execute_result"
    }
   ],
   "source": [
    "service.tlogger.as_dataframe()\n"
   ]
  }
 ],
 "metadata": {
  "kernelspec": {
   "display_name": ".venv",
   "language": "python",
   "name": "python3"
  },
  "language_info": {
   "codemirror_mode": {
    "name": "ipython",
    "version": 3
   },
   "file_extension": ".py",
   "mimetype": "text/x-python",
   "name": "python",
   "nbconvert_exporter": "python",
   "pygments_lexer": "ipython3",
   "version": "3.10.4"
  },
  "orig_nbformat": 4,
  "vscode": {
   "interpreter": {
    "hash": "f6ffc72953da4dd16b2e00785be9c4013ef131f465a8658f3921b6634d4eeec8"
   }
  }
 },
 "nbformat": 4,
 "nbformat_minor": 2
}
