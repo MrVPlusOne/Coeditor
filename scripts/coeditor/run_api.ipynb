{
 "cells": [
  {
   "cell_type": "code",
   "execution_count": 1,
   "metadata": {},
   "outputs": [],
   "source": [
    "%load_ext autoreload\n",
    "%autoreload 2\n",
    "\n",
    "from coeditor.common import *\n",
    "import os\n",
    "\n",
    "os.chdir(proj_root())"
   ]
  },
  {
   "cell_type": "code",
   "execution_count": 2,
   "metadata": {},
   "outputs": [
    {
     "name": "stderr",
     "output_type": "stream",
     "text": [
      "/home/jiayi/Projects/SPOT/src/coeditor/retrieval_model.py:255: UserWarning: No extra args found, using default model setting.\n",
      "  warnings.warn(\"No extra args found, using default model setting.\")\n"
     ]
    }
   ],
   "source": [
    "from coeditor.retrieval_model import RetrievalEditorModel\n",
    "from coeditor.api import EditPredictionService, BasicQueryEditEncoder, BatchArgs\n",
    "\n",
    "model_path = get_model_dir(False) / \"coeditor-large-query-basic/checkpoint-221507\"\n",
    "model = RetrievalEditorModel.load(model_path)\n",
    "model.to(\"cuda:1\")\n",
    "service = EditPredictionService(\n",
    "    proj_root(),\n",
    "    model,\n",
    "    encoder=BasicQueryEditEncoder(max_ref_tks=512),\n",
    "    batch_args=BatchArgs(\n",
    "        max_ref_tks=50 * 512, max_ref_dropout=0.0, shuffle_extra_ids=False\n",
    "    ),\n",
    ")\n"
   ]
  },
  {
   "cell_type": "code",
   "execution_count": 6,
   "metadata": {},
   "outputs": [
    {
     "name": "stdout",
     "output_type": "stream",
     "text": [
      "\u001b[34mnum batches: 1\u001b[0m\n",
      "\u001b[34mBatch stats: {'mean': '1.0', 'median': '1.0', 'min': '1.0', 'max': '1.0'}\u001b[0m\n",
      "len(input_tks) = 244\n",
      "len(references) = 4\n",
      "========== Predicted code change ==========\n",
      "* Modified: \n",
      "    ... 11 lines omitted ...\n",
      "                        code = f.header_body_code[1]\n",
      "                    else:\n",
      "                        code = f.code\n",
      "                    return normalize_code_by_ast(code)\n",
      " \n",
      "                return {\n",
      "    -               k: cast(Modified[PythonFunction], change)\n",
      "    +               k: normalize_code_by_ast(cast(Modified[PythonFunction], change))\n",
      "                    for k, change in self.modified.items()\n",
      "                    if isinstance(change.before, PythonFunction)\n",
      "                    and isinstance(change.after, PythonFunction)\n",
      "                    and (\n",
      "                        not ast_must_change\n",
      "                        or norm_code(change.before)!= norm_code(change.after)\n",
      "    ... 2 lines omitted ...\n"
     ]
    }
   ],
   "source": [
    "service.suggest_edit(Path(\"src/coeditor/history.py\"), 185)\n",
    "# service.suggest_edit(Path(\"src/spot/utils.py\"), (218, 0))"
   ]
  },
  {
   "cell_type": "code",
   "execution_count": 4,
   "metadata": {},
   "outputs": [
    {
     "data": {
      "text/html": [
       "<div>\n",
       "<style scoped>\n",
       "    .dataframe tbody tr th:only-of-type {\n",
       "        vertical-align: middle;\n",
       "    }\n",
       "\n",
       "    .dataframe tbody tr th {\n",
       "        vertical-align: top;\n",
       "    }\n",
       "\n",
       "    .dataframe thead th {\n",
       "        text-align: right;\n",
       "    }\n",
       "</style>\n",
       "<table border=\"1\" class=\"dataframe\">\n",
       "  <thead>\n",
       "    <tr style=\"text-align: right;\">\n",
       "      <th></th>\n",
       "      <th>name</th>\n",
       "      <th>count</th>\n",
       "      <th>avg_time</th>\n",
       "      <th>total_time</th>\n",
       "    </tr>\n",
       "  </thead>\n",
       "  <tbody>\n",
       "    <tr>\n",
       "      <th>1</th>\n",
       "      <td>construct project edit</td>\n",
       "      <td>1</td>\n",
       "      <td>1.512312</td>\n",
       "      <td>1.512312</td>\n",
       "    </tr>\n",
       "    <tr>\n",
       "      <th>3</th>\n",
       "      <td>run model</td>\n",
       "      <td>1</td>\n",
       "      <td>0.584002</td>\n",
       "      <td>0.584002</td>\n",
       "    </tr>\n",
       "    <tr>\n",
       "      <th>0</th>\n",
       "      <td>get target element</td>\n",
       "      <td>1</td>\n",
       "      <td>0.114759</td>\n",
       "      <td>0.114759</td>\n",
       "    </tr>\n",
       "    <tr>\n",
       "      <th>2</th>\n",
       "      <td>encode edits</td>\n",
       "      <td>1</td>\n",
       "      <td>0.045101</td>\n",
       "      <td>0.045101</td>\n",
       "    </tr>\n",
       "  </tbody>\n",
       "</table>\n",
       "</div>"
      ],
      "text/plain": [
       "                     name  count  avg_time  total_time\n",
       "1  construct project edit      1  1.512312    1.512312\n",
       "3               run model      1  0.584002    0.584002\n",
       "0      get target element      1  0.114759    0.114759\n",
       "2            encode edits      1  0.045101    0.045101"
      ]
     },
     "execution_count": 4,
     "metadata": {},
     "output_type": "execute_result"
    }
   ],
   "source": [
    "service.tlogger.as_dataframe()\n"
   ]
  }
 ],
 "metadata": {
  "kernelspec": {
   "display_name": ".venv",
   "language": "python",
   "name": "python3"
  },
  "language_info": {
   "codemirror_mode": {
    "name": "ipython",
    "version": 3
   },
   "file_extension": ".py",
   "mimetype": "text/x-python",
   "name": "python",
   "nbconvert_exporter": "python",
   "pygments_lexer": "ipython3",
   "version": "3.10.4"
  },
  "orig_nbformat": 4,
  "vscode": {
   "interpreter": {
    "hash": "f6ffc72953da4dd16b2e00785be9c4013ef131f465a8658f3921b6634d4eeec8"
   }
  }
 },
 "nbformat": 4,
 "nbformat_minor": 2
}
