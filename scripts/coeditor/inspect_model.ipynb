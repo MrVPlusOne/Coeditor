{
 "cells": [
  {
   "cell_type": "code",
   "execution_count": 25,
   "metadata": {},
   "outputs": [
    {
     "name": "stdout",
     "output_type": "stream",
     "text": [
      "The autoreload extension is already loaded. To reload it, use:\n",
      "  %reload_ext autoreload\n"
     ]
    }
   ],
   "source": [
    "%load_ext autoreload\n",
    "%autoreload 2\n",
    "\n",
    "from coeditor.common import *\n",
    "import os\n",
    "\n",
    "from coeditor.dataset import TokenizedEditDataset, is_repetitive_edit\n",
    "from coeditor.model import *\n",
    "from coeditor.encoding import TokenizedEdit, decode_tokens, WindowArgs, tokens_to_change\n",
    "import shutil\n",
    "import random\n",
    "\n",
    "os.chdir(proj_root())"
   ]
  },
  {
   "cell_type": "code",
   "execution_count": 9,
   "metadata": {},
   "outputs": [
    {
     "name": "stderr",
     "output_type": "stream",
     "text": [
      "filtering: 100%|██████████| 1296/1296 [00:00<00:00, 2077.33it/s]\n"
     ]
    },
    {
     "name": "stdout",
     "output_type": "stream",
     "text": [
      "Total edits:  1296\n",
      "Repetitive edits:  96\n"
     ]
    }
   ],
   "source": [
    "wargs = WindowArgs(4096)\n",
    "\n",
    "# test_data_name = \"medium\"\n",
    "test_data_name = \"SPOT\"\n",
    "test_data: TokenizedEditDataset = pickle_load(\n",
    "    get_dataset_dir(test_data_name) / \"tokenized-file_based\" / \"test.pkl\"\n",
    ")\n",
    "test_data = test_data.map(lambda e: e.truncate_ctx(wargs))\n",
    "\n",
    "rep_edits = pfilter(is_repetitive_edit, test_data.all_edits())\n",
    "print(\"Total edits: \", len(list(test_data.all_edits())))\n",
    "print(\"Repetitive edits: \", len(rep_edits))\n"
   ]
  },
  {
   "cell_type": "code",
   "execution_count": 10,
   "metadata": {},
   "outputs": [],
   "source": [
    "model_dir = get_model_dir(trained=True) / \"coeditor-medium\"\n",
    "# model_dir = get_model_dir(trained=True) / \"coeditor-small-skip\"\n",
    "model = CoeditorModel.load_pretrained(model_dir)\n",
    "model.to(\"cuda:1\")\n",
    "\n",
    "eval_args = EvalArgs(4096 * 2, WindowArgs(4096))\n"
   ]
  },
  {
   "cell_type": "code",
   "execution_count": 14,
   "metadata": {},
   "outputs": [
    {
     "name": "stderr",
     "output_type": "stream",
     "text": [
      "evaluate loss: 100%|██████████| 47/47 [00:30<00:00,  1.53batch/s]\n"
     ]
    },
    {
     "data": {
      "text/plain": [
       "{'loss_per_ex': (mean=3.1937, weight=96),\n",
       " 'loss_per_tk': (mean=0.055383, weight=5536),\n",
       " 'prob_per_ex': (mean=0.45247, weight=96)}"
      ]
     },
     "metadata": {},
     "output_type": "display_data"
    }
   ],
   "source": [
    "rep_data = TokenizedEditDataset.from_edits(rep_edits)\n",
    "rep_result = model.eval_on_data(rep_data, eval_args)\n",
    "display(rep_result)"
   ]
  },
  {
   "cell_type": "code",
   "execution_count": 19,
   "metadata": {},
   "outputs": [
    {
     "name": "stderr",
     "output_type": "stream",
     "text": [
      "evaluate loss: 100%|██████████| 663/663 [05:32<00:00,  1.99batch/s]\n"
     ]
    },
    {
     "data": {
      "text/plain": [
       "{'loss_per_ex': (mean=41.051, weight=2398),\n",
       " 'loss_per_tk': (mean=0.76586, weight=128535),\n",
       " 'prob_per_ex': (mean=0.035363, weight=2398)}"
      ]
     },
     "metadata": {},
     "output_type": "display_data"
    }
   ],
   "source": [
    "all_result = model.eval_on_data(test_data, eval_args)\n",
    "display(all_result)\n"
   ]
  },
  {
   "cell_type": "code",
   "execution_count": 7,
   "metadata": {},
   "outputs": [
    {
     "name": "stderr",
     "output_type": "stream",
     "text": [
      "100%|██████████| 96/96 [04:03<00:00,  2.54s/it]"
     ]
    },
    {
     "name": "stdout",
     "output_type": "stream",
     "text": [
      "Exact match:  0.5833333333333334\n"
     ]
    },
    {
     "name": "stderr",
     "output_type": "stream",
     "text": [
      "\n"
     ]
    }
   ],
   "source": [
    "max_saved_samples = 200\n",
    "\n",
    "out_dir = Path(\"output/inspect_coeditor\") / model_dir.name\n",
    "shutil.rmtree(out_dir, ignore_errors=True)\n",
    "(out_dir / \"correct\").mkdir(parents=True, exist_ok=True)\n",
    "(out_dir / \"incorrect\").mkdir(parents=True, exist_ok=True)\n",
    "\n",
    "decode_args = DecodingArgs()\n",
    "exact_match = WeightedSum(0, 0)\n",
    "predictions = []\n",
    "\n",
    "for i, ex in enumerate(tqdm(rep_edits)):\n",
    "    pred_tks = model.predict(ex.input_tks, decode_args)\n",
    "    predictions.append(pred_tks)\n",
    "    pred_change = TokenizedEdit(ex.input_tks, pred_tks, ex.path).as_change(True)\n",
    "    truth_change = ex.as_change(True)\n",
    "    is_correct = normalize_code_by_ast(pred_change.after) == normalize_code_by_ast(truth_change.after)\n",
    "    exact_match += WeightedSum(int(is_correct), 1)\n",
    "\n",
    "    if i < max_saved_samples:\n",
    "        compare_str = ex.show_prediction(pred_tks)\n",
    "        out_file = out_dir / (\"correct\" if is_correct else \"incorrect\") / f\"ex-{i}.txt\"\n",
    "        out_file.write_text(compare_str)\n",
    "\n",
    "print(\"Exact match: \", exact_match.average())\n"
   ]
  }
 ],
 "metadata": {
  "kernelspec": {
   "display_name": "Python 3.10.4 ('.venv': pipenv)",
   "language": "python",
   "name": "python3"
  },
  "language_info": {
   "codemirror_mode": {
    "name": "ipython",
    "version": 3
   },
   "file_extension": ".py",
   "mimetype": "text/x-python",
   "name": "python",
   "nbconvert_exporter": "python",
   "pygments_lexer": "ipython3",
   "version": "3.10.4"
  },
  "orig_nbformat": 4,
  "vscode": {
   "interpreter": {
    "hash": "f6ffc72953da4dd16b2e00785be9c4013ef131f465a8658f3921b6634d4eeec8"
   }
  }
 },
 "nbformat": 4,
 "nbformat_minor": 2
}
