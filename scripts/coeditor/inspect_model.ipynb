{
 "cells": [
  {
   "cell_type": "code",
   "execution_count": 6,
   "metadata": {},
   "outputs": [
    {
     "name": "stdout",
     "output_type": "stream",
     "text": [
      "The autoreload extension is already loaded. To reload it, use:\n",
      "  %reload_ext autoreload\n"
     ]
    }
   ],
   "source": [
    "%load_ext autoreload\n",
    "%autoreload 2\n",
    "\n",
    "from coeditor.common import *\n",
    "import os\n",
    "\n",
    "from coeditor.dataset import TokenizedEditDataset\n",
    "from coeditor.model import *\n",
    "from coeditor.encoding import TokenizedEdit, decode_tokens, tokens_to_change\n",
    "import shutil\n",
    "import random\n",
    "from prepare_data import make_or_load_datasets\n",
    "\n",
    "os.chdir(proj_root())"
   ]
  },
  {
   "cell_type": "code",
   "execution_count": 2,
   "metadata": {},
   "outputs": [
    {
     "name": "stderr",
     "output_type": "stream",
     "text": [
      "Getting commit histories: 100%|██████████| 1/1 [00:01<00:00,  1.50s/repo]\n",
      "Create tokenized edits: 100%|██████████| 4/4 [03:40<00:00, 55.07s/chunk] \n"
     ]
    },
    {
     "name": "stdout",
     "output_type": "stream",
     "text": [
      "Tokenized dataset saved to: /mnt/nas/jiayi/coeditor/datasets/SPOT/AnalysisBasedEditEncoder(extra_ctx_names=('usees', 'post-usees'))\n",
      "Dataset stats:\n",
      "==================== test ====================\n",
      "n_projects: 1\n",
      "n_edits: 1375\n",
      "input_size:\n",
      "   mean: 2888.5\n",
      "   median: 3029\n",
      "   min: 70\n",
      "   max: 4000\n",
      "output_size:\n",
      "   mean: 108.52\n",
      "   median: 71\n",
      "   min: 2\n",
      "   max: 1704\n"
     ]
    }
   ],
   "source": [
    "# test_data_name = \"medium\"\n",
    "test_data_name = \"SPOT\"\n",
    "datasets = make_or_load_datasets(test_data_name, recreate_data=True)\n",
    "test_data = datasets[\"test\"]"
   ]
  },
  {
   "cell_type": "code",
   "execution_count": 7,
   "metadata": {},
   "outputs": [
    {
     "name": "stderr",
     "output_type": "stream",
     "text": [
      "filtering: 100%|██████████| 1375/1375 [00:00<00:00, 1395.06it/s]\n",
      "filtering: 100%|██████████| 1375/1375 [00:00<00:00, 4632.32it/s]\n"
     ]
    },
    {
     "name": "stdout",
     "output_type": "stream",
     "text": [
      "Total edits:  1375\n",
      "Repetitive edits:  72\n",
      "Small edits:  794\n"
     ]
    }
   ],
   "source": [
    "rep_edits = pfilter(TokenizedEdit.is_repetitive_edit, test_data.all_edits())\n",
    "small_edits = pfilter(TokenizedEdit.is_small_edit, test_data.all_edits())\n",
    "print(\"Total edits: \", len(list(test_data.all_edits())))\n",
    "print(\"Repetitive edits: \", len(rep_edits))\n",
    "print(\"Small edits: \", len(small_edits))"
   ]
  },
  {
   "cell_type": "code",
   "execution_count": 8,
   "metadata": {},
   "outputs": [],
   "source": [
    "# model_dir = get_model_dir(trained=True) / \"coeditor-medium-file\"\n",
    "model_dir = get_model_dir(trained=True) / \"coeditor-medium-analysis-post_usees\"\n",
    "model = CoeditorModel.load_pretrained(model_dir)\n",
    "model.to(\"cuda:1\")\n",
    "\n",
    "eval_args = EvalArgs(4096 * 2)\n"
   ]
  },
  {
   "cell_type": "code",
   "execution_count": 9,
   "metadata": {},
   "outputs": [
    {
     "name": "stderr",
     "output_type": "stream",
     "text": [
      "decoding: 100%|██████████| 31/31 [00:50<00:00,  1.64s/batch]\n"
     ]
    },
    {
     "data": {
      "text/plain": [
       "(mean=0.63889, weight=72)"
      ]
     },
     "metadata": {},
     "output_type": "display_data"
    }
   ],
   "source": [
    "rep_data = TokenizedEditDataset.from_edits(rep_edits)\n",
    "dec_args = DecodingArgs(num_beams=1)\n",
    "rep_result = model.predict_on_data(rep_data, eval_args, dec_args)\n",
    "display(rep_result.exact_match_accuracy())"
   ]
  },
  {
   "cell_type": "code",
   "execution_count": 5,
   "metadata": {},
   "outputs": [
    {
     "name": "stderr",
     "output_type": "stream",
     "text": [
      "saving examples: 100%|██████████| 73/73 [00:02<00:00, 33.98it/s]\n"
     ]
    }
   ],
   "source": [
    "rep_result.save_examples_to_dir(Path(\"output\") / f\"repetitive{model_dir.name}.txt\", range(len(rep_result.edits)))"
   ]
  },
  {
   "cell_type": "code",
   "execution_count": 7,
   "metadata": {},
   "outputs": [
    {
     "name": "stderr",
     "output_type": "stream",
     "text": [
      "decoding: 100%|██████████| 36/36 [00:59<00:00,  1.66s/batch]\n"
     ]
    },
    {
     "data": {
      "text/plain": [
       "(mean=0.77011, weight=87)"
      ]
     },
     "metadata": {},
     "output_type": "display_data"
    }
   ],
   "source": []
  },
  {
   "cell_type": "code",
   "execution_count": 4,
   "metadata": {},
   "outputs": [
    {
     "name": "stderr",
     "output_type": "stream",
     "text": [
      "decoding: 100%|██████████| 285/285 [06:50<00:00,  1.44s/batch]\n"
     ]
    },
    {
     "data": {
      "text/plain": [
       "(mean=0.18264, weight=772)"
      ]
     },
     "metadata": {},
     "output_type": "display_data"
    }
   ],
   "source": [
    "small_data = TokenizedEditDataset.from_edits(small_edits)\n",
    "dec_args = DecodingArgs(num_beams=1)\n",
    "dec_result = model.predict_on_data(small_data, eval_args, dec_args)\n",
    "display(dec_result.exact_match_accuracy())\n"
   ]
  },
  {
   "cell_type": "code",
   "execution_count": 5,
   "metadata": {},
   "outputs": [
    {
     "name": "stderr",
     "output_type": "stream",
     "text": [
      "saving examples: 100%|██████████| 200/200 [00:02<00:00, 73.35it/s]\n"
     ]
    }
   ],
   "source": [
    "max_saved_samples = 200\n",
    "random.seed(42)\n",
    "exs_to_save = list(range(len(dec_result.predictions)))\n",
    "random.shuffle(exs_to_save)\n",
    "out_dir = model_dir / \"predictions\" / \"small_edits\"\n",
    "dec_result.save_examples_to_dir(out_dir, exs_to_save[:max_saved_samples])"
   ]
  }
 ],
 "metadata": {
  "kernelspec": {
   "display_name": "Python 3.10.4 ('.venv': pipenv)",
   "language": "python",
   "name": "python3"
  },
  "language_info": {
   "codemirror_mode": {
    "name": "ipython",
    "version": 3
   },
   "file_extension": ".py",
   "mimetype": "text/x-python",
   "name": "python",
   "nbconvert_exporter": "python",
   "pygments_lexer": "ipython3",
   "version": "3.10.4"
  },
  "orig_nbformat": 4,
  "vscode": {
   "interpreter": {
    "hash": "f6ffc72953da4dd16b2e00785be9c4013ef131f465a8658f3921b6634d4eeec8"
   }
  }
 },
 "nbformat": 4,
 "nbformat_minor": 2
}
