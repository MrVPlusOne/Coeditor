{
 "cells": [
  {
   "cell_type": "code",
   "execution_count": 1,
   "metadata": {},
   "outputs": [],
   "source": [
    "%load_ext autoreload\n",
    "%autoreload 2\n",
    "\n",
    "from coeditor.common import *\n",
    "import os\n",
    "\n",
    "from coeditor.dataset import TokenizedEditDataset\n",
    "from coeditor.model import *\n",
    "from coeditor.encoding import TokenizedEdit, decode_tokens, tokens_to_change\n",
    "import shutil\n",
    "import random\n",
    "from prepare_data import make_or_load_datasets\n",
    "\n",
    "os.chdir(proj_root())"
   ]
  },
  {
   "cell_type": "code",
   "execution_count": 2,
   "metadata": {},
   "outputs": [],
   "source": [
    "# test_data_name = \"medium\"\n",
    "test_data_name = \"SPOT\"\n",
    "encoder = AnalysisBasedEditEncoder(extra_ctx_names=(\"usees\", \"post-usees\"))\n",
    "datasets = make_or_load_datasets(test_data_name, encoder, recreate_data=False)\n",
    "test_data = datasets[\"test\"]"
   ]
  },
  {
   "cell_type": "code",
   "execution_count": 3,
   "metadata": {},
   "outputs": [
    {
     "name": "stderr",
     "output_type": "stream",
     "text": [
      "filtering: 100%|██████████| 1395/1395 [00:01<00:00, 917.25it/s] \n",
      "filtering: 100%|██████████| 1395/1395 [00:00<00:00, 4041.43it/s]"
     ]
    },
    {
     "name": "stdout",
     "output_type": "stream",
     "text": [
      "Total edits:  1395\n",
      "Repetitive edits:  75\n",
      "Small edits:  805\n",
      "Refactoring edits:  182\n"
     ]
    },
    {
     "name": "stderr",
     "output_type": "stream",
     "text": [
      "\n"
     ]
    }
   ],
   "source": [
    "rep_edits = pfilter(TokenizedEdit.is_repetitive_edit, test_data.all_edits())\n",
    "small_edits = pfilter(TokenizedEdit.is_small_edit, test_data.all_edits())\n",
    "refactor_edits = [e for e in test_data.all_edits() if e.updated_calls]\n",
    "print(\"Total edits: \", len(list(test_data.all_edits())))\n",
    "print(\"Repetitive edits: \", len(rep_edits))\n",
    "print(\"Small edits: \", len(small_edits))\n",
    "print(\"Refactoring edits: \", len(refactor_edits))"
   ]
  },
  {
   "cell_type": "code",
   "execution_count": 4,
   "metadata": {},
   "outputs": [],
   "source": [
    "# model_dir = get_model_dir() / \"coeditor-medium-file\"\n",
    "model_dir = get_model_dir() / \"coeditor-medium-analysis-post_usees\"\n",
    "model = CoeditorModel.load_pretrained(model_dir)\n",
    "model.to(\"cuda:1\")\n",
    "\n",
    "eval_args = EvalArgs(4096 * 2)\n",
    "dec_args = DecodingArgs(num_beams=1)"
   ]
  },
  {
   "cell_type": "code",
   "execution_count": 5,
   "metadata": {},
   "outputs": [],
   "source": [
    "eval_dir = model_dir / \"evals\" / test_data_name\n",
    "eval_cache = PickleCache(eval_dir)"
   ]
  },
  {
   "cell_type": "code",
   "execution_count": 16,
   "metadata": {},
   "outputs": [
    {
     "name": "stderr",
     "output_type": "stream",
     "text": [
      "decoding: 100%|██████████| 38/38 [02:01<00:00,  3.20s/batch]\n"
     ]
    },
    {
     "name": "stdout",
     "output_type": "stream",
     "text": [
      "20 / 200 calls were considered incorrect since they failed to parse.\n",
      "Call update accuracy:  (mean=0.31, weight=200)\n"
     ]
    }
   ],
   "source": [
    "model.data_args.use_signature_prefix = False\n",
    "refactor_data = TokenizedEditDataset.from_edits(refactor_edits)\n",
    "refactor_result = model.predict_on_data(refactor_data, eval_args, dec_args)\n",
    "call_acc, call_correct = refactor_result.call_update_accuracy()\n",
    "print(\"Call update accuracy: \", call_acc)"
   ]
  },
  {
   "cell_type": "code",
   "execution_count": 14,
   "metadata": {},
   "outputs": [
    {
     "name": "stderr",
     "output_type": "stream",
     "text": [
      "decoding: 100%|██████████| 38/38 [02:33<00:00,  4.05s/batch]\n"
     ]
    },
    {
     "name": "stdout",
     "output_type": "stream",
     "text": [
      "18 / 200 calls were considered incorrect since they failed to parse.\n",
      "(use_signature_prefix) Call update accuracy:  (mean=0.39, weight=200)\n"
     ]
    }
   ],
   "source": [
    "model.data_args.use_signature_prefix = True\n",
    "refactor_data = TokenizedEditDataset.from_edits(refactor_edits)\n",
    "eval_args = eval_args = EvalArgs(4096 * 4)\n",
    "refactor_result = model.predict_on_data(refactor_data, eval_args, dec_args)\n",
    "call_acc, call_correct = refactor_result.call_update_accuracy()\n",
    "print(\"(use_signature_prefix) Call update accuracy: \", call_acc)"
   ]
  },
  {
   "cell_type": "code",
   "execution_count": 11,
   "metadata": {},
   "outputs": [
    {
     "name": "stderr",
     "output_type": "stream",
     "text": [
      "saving examples: 100%|██████████| 182/182 [00:01<00:00, 92.27it/s] "
     ]
    },
    {
     "name": "stdout",
     "output_type": "stream",
     "text": [
      "/mnt/nas/jiayi/coeditor/models/trained/coeditor-medium-analysis-post_usees/evals/SPOT/CallUpdateAccuracy.txt\n"
     ]
    },
    {
     "name": "stderr",
     "output_type": "stream",
     "text": [
      "\n"
     ]
    }
   ],
   "source": [
    "out_dir = eval_dir / \"CallUpdateAccuracy.txt\"\n",
    "refactor_result.save_examples_to_dir(out_dir, call_correct)\n",
    "print(out_dir)"
   ]
  },
  {
   "cell_type": "code",
   "execution_count": 9,
   "metadata": {},
   "outputs": [
    {
     "data": {
      "text/plain": [
       "(mean=0.74667, weight=75)"
      ]
     },
     "metadata": {},
     "output_type": "display_data"
    }
   ],
   "source": [
    "rep_data = TokenizedEditDataset.from_edits(rep_edits)\n",
    "rep_result = model.predict_on_data(rep_data, eval_args, dec_args)\n",
    "display(rep_result.exact_match_accuracy()[0])"
   ]
  },
  {
   "cell_type": "code",
   "execution_count": 7,
   "metadata": {},
   "outputs": [],
   "source": [
    "dec_args = DecodingArgs(num_beams=1)\n",
    "dec_result = eval_cache.cached(\"DatasetDecodingResult.pkl\", lambda: model.predict_on_data(test_data, eval_args, dec_args))"
   ]
  }
 ],
 "metadata": {
  "kernelspec": {
   "display_name": "Python 3.10.4 ('.venv': pipenv)",
   "language": "python",
   "name": "python3"
  },
  "language_info": {
   "codemirror_mode": {
    "name": "ipython",
    "version": 3
   },
   "file_extension": ".py",
   "mimetype": "text/x-python",
   "name": "python",
   "nbconvert_exporter": "python",
   "pygments_lexer": "ipython3",
   "version": "3.10.4 (main, Mar 31 2022, 08:41:55) [GCC 7.5.0]"
  },
  "orig_nbformat": 4,
  "vscode": {
   "interpreter": {
    "hash": "f6ffc72953da4dd16b2e00785be9c4013ef131f465a8658f3921b6634d4eeec8"
   }
  }
 },
 "nbformat": 4,
 "nbformat_minor": 2
}
