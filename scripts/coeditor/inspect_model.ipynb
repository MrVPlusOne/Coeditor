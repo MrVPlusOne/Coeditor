{
 "cells": [
  {
   "cell_type": "code",
   "execution_count": 2,
   "metadata": {},
   "outputs": [
    {
     "name": "stdout",
     "output_type": "stream",
     "text": [
      "The autoreload extension is already loaded. To reload it, use:\n",
      "  %reload_ext autoreload\n"
     ]
    }
   ],
   "source": [
    "%load_ext autoreload\n",
    "%autoreload 2\n",
    "\n",
    "from coeditor.common import *\n",
    "import os\n",
    "\n",
    "from coeditor.dataset import TokenizedEditDataset\n",
    "from coeditor.model import *\n",
    "from coeditor.encoding import TokenizedEdit, decode_tokens, WindowArgs, tokens_to_change\n",
    "import shutil\n",
    "import random\n",
    "from prepare_data import make_or_load_datasets\n",
    "\n",
    "os.chdir(proj_root())"
   ]
  },
  {
   "cell_type": "code",
   "execution_count": 3,
   "metadata": {},
   "outputs": [
    {
     "name": "stdout",
     "output_type": "stream",
     "text": [
      "Starting task: Load dataset from: /mnt/nas/jiayi/coeditor/datasets/SPOT/AnalysisBasedEditEncoder(window=(max_window_size=4096), extra_ctx_size=1000, extra_ctx_names=('usees', 'post-usees'))\n",
      "(0.2s) Finished task: Load dataset from: /mnt/nas/jiayi/coeditor/datasets/SPOT/AnalysisBasedEditEncoder(window=(max_window_size=4096), extra_ctx_size=1000, extra_ctx_names=('usees', 'post-usees'))\n"
     ]
    },
    {
     "name": "stderr",
     "output_type": "stream",
     "text": [
      "filtering: 100%|██████████| 1343/1343 [00:00<00:00, 1463.14it/s]\n",
      "filtering: 100%|██████████| 1343/1343 [00:00<00:00, 8178.41it/s]\n"
     ]
    },
    {
     "name": "stdout",
     "output_type": "stream",
     "text": [
      "Total edits:  1343\n",
      "Repetitive edits:  87\n",
      "Small edits:  978\n"
     ]
    }
   ],
   "source": [
    "wargs = WindowArgs(4096)\n",
    "\n",
    "# test_data_name = \"medium\"\n",
    "test_data_name = \"SPOT\"\n",
    "datasets = make_or_load_datasets(test_data_name)\n",
    "test_data = datasets[\"test\"]\n",
    "test_data = test_data.map(lambda e: e.truncate_ctx(wargs))\n",
    "\n",
    "rep_edits = pfilter(TokenizedEdit.is_repetitive_edit, test_data.all_edits())\n",
    "small_edits = pfilter(TokenizedEdit.is_small_edit, test_data.all_edits())\n",
    "print(\"Total edits: \", len(list(test_data.all_edits())))\n",
    "print(\"Repetitive edits: \", len(rep_edits))\n",
    "print(\"Small edits: \", len(small_edits))\n"
   ]
  },
  {
   "cell_type": "code",
   "execution_count": 4,
   "metadata": {},
   "outputs": [],
   "source": [
    "# model_dir = get_model_dir(trained=True) / \"coeditor-medium-collapse-shuffle\"\n",
    "model_dir = get_model_dir(trained=True) / \"coeditor-medium-analysis-post_usees\"\n",
    "model = CoeditorModel.load_pretrained(model_dir)\n",
    "model.to(\"cuda:0\")\n",
    "\n",
    "eval_args = EvalArgs(4096 * 2, WindowArgs(4096))\n"
   ]
  },
  {
   "cell_type": "code",
   "execution_count": 7,
   "metadata": {},
   "outputs": [
    {
     "name": "stderr",
     "output_type": "stream",
     "text": [
      "decoding: 100%|██████████| 36/36 [00:59<00:00,  1.66s/batch]\n"
     ]
    },
    {
     "data": {
      "text/plain": [
       "(mean=0.77011, weight=87)"
      ]
     },
     "metadata": {},
     "output_type": "display_data"
    }
   ],
   "source": [
    "rep_data = TokenizedEditDataset.from_edits(rep_edits)\n",
    "dec_args = DecodingArgs(num_beams=1)\n",
    "rep_result = model.predict_on_data(rep_data, eval_args, dec_args)\n",
    "display(rep_result.exact_match_accuracy())"
   ]
  },
  {
   "cell_type": "code",
   "execution_count": 5,
   "metadata": {},
   "outputs": [
    {
     "name": "stderr",
     "output_type": "stream",
     "text": [
      "decoding: 100%|██████████| 365/365 [09:11<00:00,  1.51s/batch]\n"
     ]
    },
    {
     "data": {
      "text/plain": [
       "(mean=0.14213, weight=978)"
      ]
     },
     "metadata": {},
     "output_type": "display_data"
    }
   ],
   "source": [
    "small_data = TokenizedEditDataset.from_edits(small_edits)\n",
    "dec_args = DecodingArgs(num_beams=1)\n",
    "dec_result = model.predict_on_data(small_data, eval_args, dec_args)\n",
    "display(dec_result.exact_match_accuracy())\n"
   ]
  },
  {
   "cell_type": "code",
   "execution_count": 8,
   "metadata": {},
   "outputs": [
    {
     "name": "stderr",
     "output_type": "stream",
     "text": [
      "saving examples: 100%|██████████| 50/50 [00:00<00:00, 81.92it/s]\n"
     ]
    }
   ],
   "source": [
    "max_saved_samples = 200\n",
    "random.seed(42)\n",
    "exs_to_save = list(range(len(dec_result.predictions)))\n",
    "random.shuffle(exs_to_save)\n",
    "out_dir = Path(\"output/inspect_coeditor\") / model_dir.name\n",
    "dec_result.save_examples_to_dir(out_dir, exs_to_save[:max_saved_samples])"
   ]
  }
 ],
 "metadata": {
  "kernelspec": {
   "display_name": "Python 3.10.4 ('.venv': pipenv)",
   "language": "python",
   "name": "python3"
  },
  "language_info": {
   "codemirror_mode": {
    "name": "ipython",
    "version": 3
   },
   "file_extension": ".py",
   "mimetype": "text/x-python",
   "name": "python",
   "nbconvert_exporter": "python",
   "pygments_lexer": "ipython3",
   "version": "3.10.4"
  },
  "orig_nbformat": 4,
  "vscode": {
   "interpreter": {
    "hash": "f6ffc72953da4dd16b2e00785be9c4013ef131f465a8658f3921b6634d4eeec8"
   }
  }
 },
 "nbformat": 4,
 "nbformat_minor": 2
}
