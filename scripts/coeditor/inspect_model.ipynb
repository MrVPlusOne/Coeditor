{
 "cells": [
  {
   "cell_type": "code",
   "execution_count": 1,
   "metadata": {},
   "outputs": [],
   "source": [
    "%load_ext autoreload\n",
    "%autoreload 2\n",
    "\n",
    "from coeditor.common import *\n",
    "import os\n",
    "\n",
    "from coeditor.dataset import TokenizedEditDataset, is_repetitive_edit\n",
    "from coeditor.model import *\n",
    "from coeditor.encoding import TokenizedEdit, decode_tokens, WindowArgs, tokens_to_change\n",
    "import shutil\n",
    "import random\n",
    "\n",
    "os.chdir(proj_root())"
   ]
  },
  {
   "cell_type": "code",
   "execution_count": 2,
   "metadata": {},
   "outputs": [
    {
     "name": "stderr",
     "output_type": "stream",
     "text": [
      "filtering: 100%|██████████| 1311/1311 [00:00<00:00, 1484.06it/s]"
     ]
    },
    {
     "name": "stdout",
     "output_type": "stream",
     "text": [
      "Total edits:  1311\n",
      "Repetitive edits:  88\n"
     ]
    },
    {
     "name": "stderr",
     "output_type": "stream",
     "text": [
      "\n"
     ]
    }
   ],
   "source": [
    "wargs = WindowArgs(4096)\n",
    "\n",
    "# test_data_name = \"medium\"\n",
    "test_data_name = \"SPOT\"\n",
    "# data_dir = get_dataset_dir(test_data_name) / \"tokenized-file_based\" / \"test.pkl\"\n",
    "data_dir = get_dataset_dir(test_data_name) / \"tokenized-file_collapsed\" / \"test.pkl\"\n",
    "test_data: TokenizedEditDataset = pickle_load(data_dir)\n",
    "test_data = test_data.map(lambda e: e.truncate_ctx(wargs))\n",
    "\n",
    "rep_edits = pfilter(is_repetitive_edit, test_data.all_edits())\n",
    "print(\"Total edits: \", len(list(test_data.all_edits())))\n",
    "print(\"Repetitive edits: \", len(rep_edits))\n"
   ]
  },
  {
   "cell_type": "code",
   "execution_count": 3,
   "metadata": {},
   "outputs": [],
   "source": [
    "# model_dir = get_model_dir(trained=True) / \"coeditor-medium\"\n",
    "model_dir = get_model_dir(trained=True) / \"coeditor-medium-collapse-shuffle\"\n",
    "model = CoeditorModel.load_pretrained(model_dir)\n",
    "model.to(\"cuda:0\")\n",
    "\n",
    "eval_args = EvalArgs(4096 * 2, WindowArgs(4096))\n"
   ]
  },
  {
   "cell_type": "code",
   "execution_count": 4,
   "metadata": {},
   "outputs": [
    {
     "name": "stderr",
     "output_type": "stream",
     "text": [
      "evaluate loss: 100%|██████████| 34/34 [00:19<00:00,  1.75batch/s]\n"
     ]
    },
    {
     "data": {
      "text/plain": [
       "{'loss_per_ex': (mean=1.8138, weight=88),\n",
       " 'loss_per_tk': (mean=0.02773, weight=5756),\n",
       " 'prob_per_ex': (mean=0.55377, weight=88)}"
      ]
     },
     "metadata": {},
     "output_type": "display_data"
    }
   ],
   "source": [
    "rep_data = TokenizedEditDataset.from_edits(rep_edits)\n",
    "rep_result = model.eval_loss_on_data(rep_data, eval_args)\n",
    "display(rep_result)\n"
   ]
  },
  {
   "cell_type": "code",
   "execution_count": 14,
   "metadata": {},
   "outputs": [],
   "source": [
    "sub_data = TokenizedEditDataset.from_edits(random.sample(test_data.all_edits(), 50))"
   ]
  },
  {
   "cell_type": "code",
   "execution_count": 15,
   "metadata": {},
   "outputs": [
    {
     "name": "stderr",
     "output_type": "stream",
     "text": [
      "decoding: 100%|██████████| 19/19 [00:35<00:00,  1.85s/batch]\n"
     ]
    },
    {
     "data": {
      "text/plain": [
       "(mean=0.08, weight=50)"
      ]
     },
     "metadata": {},
     "output_type": "display_data"
    }
   ],
   "source": [
    "dec_args = DecodingArgs(num_beams=1)\n",
    "dec_result = model.predict_on_data(sub_data, eval_args, dec_args)\n",
    "display(dec_result.exact_match_accuracy())\n"
   ]
  },
  {
   "cell_type": "code",
   "execution_count": 16,
   "metadata": {},
   "outputs": [
    {
     "name": "stderr",
     "output_type": "stream",
     "text": [
      "saving examples: 100%|██████████| 50/50 [00:00<00:00, 83.71it/s]\n"
     ]
    }
   ],
   "source": [
    "max_saved_samples = 200\n",
    "random.seed(42)\n",
    "exs_to_save = list(range(len(dec_result.predictions)))\n",
    "random.shuffle(exs_to_save)\n",
    "out_dir = Path(\"output/inspect_coeditor\") / model_dir.name\n",
    "dec_result.save_examples_to_dir(out_dir, exs_to_save[:max_saved_samples])"
   ]
  }
 ],
 "metadata": {
  "kernelspec": {
   "display_name": "Python 3.10.4 ('.venv': pipenv)",
   "language": "python",
   "name": "python3"
  },
  "language_info": {
   "codemirror_mode": {
    "name": "ipython",
    "version": 3
   },
   "file_extension": ".py",
   "mimetype": "text/x-python",
   "name": "python",
   "nbconvert_exporter": "python",
   "pygments_lexer": "ipython3",
   "version": "3.10.4"
  },
  "orig_nbformat": 4,
  "vscode": {
   "interpreter": {
    "hash": "f6ffc72953da4dd16b2e00785be9c4013ef131f465a8658f3921b6634d4eeec8"
   }
  }
 },
 "nbformat": 4,
 "nbformat_minor": 2
}
