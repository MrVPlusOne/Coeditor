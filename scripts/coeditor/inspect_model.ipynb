{
 "cells": [
  {
   "cell_type": "code",
   "execution_count": 7,
   "metadata": {},
   "outputs": [
    {
     "name": "stdout",
     "output_type": "stream",
     "text": [
      "The autoreload extension is already loaded. To reload it, use:\n",
      "  %reload_ext autoreload\n"
     ]
    }
   ],
   "source": [
    "%load_ext autoreload\n",
    "%autoreload 2\n",
    "\n",
    "from coeditor.common import *\n",
    "import os\n",
    "\n",
    "from coeditor.dataset import TokenizedEditDataset\n",
    "from coeditor.model import CoeditorModel, EvalArgs, DecodingArgs, input_cost_model\n",
    "from coeditor.encoding import TokenizedEdit, decode_tokens, tokens_to_change, AnalysisBasedEditEncoder, CstBasedEditEncoder\n",
    "from coeditor.history import Added, Modified\n",
    "import shutil\n",
    "import random\n",
    "from prepare_data import make_or_load_datasets, dataset_from_projects, get_commit_history\n",
    "\n",
    "os.chdir(proj_root())"
   ]
  },
  {
   "cell_type": "code",
   "execution_count": 2,
   "metadata": {},
   "outputs": [
    {
     "name": "stderr",
     "output_type": "stream",
     "text": [
      "Getting commit histories: 100%|██████████| 1/1 [00:01<00:00,  1.17s/repo]\n",
      "Create tokenized edits: 100%|██████████| 2/2 [03:26<00:00, 103.07s/chunk]"
     ]
    },
    {
     "name": "stdout",
     "output_type": "stream",
     "text": [
      "num addition:  0\n",
      "num modifications:  639\n"
     ]
    },
    {
     "name": "stderr",
     "output_type": "stream",
     "text": [
      "\n"
     ]
    }
   ],
   "source": [
    "# test_data_name = \"medium\"\n",
    "test_data_name = \"SPOT\"\n",
    "encoder = AnalysisBasedEditEncoder(extra_ctx_names=(\"usees\", \"post-usees\"))\n",
    "test_data = dataset_from_projects([proj_root()], encoder, [False], max_history_per_repo=100)\n",
    "print(\"num addition: \", sum(isinstance(e.change_type, Added) for e in test_data.all_edits()))\n",
    "print(\"num modifications: \", sum(isinstance(e.change_type, Modified) for e in test_data.all_edits()))"
   ]
  },
  {
   "cell_type": "code",
   "execution_count": 2,
   "metadata": {},
   "outputs": [
    {
     "name": "stdout",
     "output_type": "stream",
     "text": [
      "Starting task: Loading datasets from disk\n",
      "(11.7s) Finished task: Loading datasets from disk\n"
     ]
    },
    {
     "name": "stderr",
     "output_type": "stream",
     "text": [
      "filtering: 100%|██████████| 10178/10178 [00:06<00:00, 1621.72it/s]\n",
      "filtering: 100%|██████████| 10178/10178 [00:01<00:00, 8050.52it/s]\n"
     ]
    },
    {
     "name": "stdout",
     "output_type": "stream",
     "text": [
      "Total edits:  10178\n",
      "Repetitive edits:  648\n",
      "Small edits:  6573\n",
      "Refactoring edits:  868\n"
     ]
    }
   ],
   "source": [
    "test_data_name = \"medium\"\n",
    "# test_data_name = \"SPOT\"\n",
    "encoder = AnalysisBasedEditEncoder(extra_ctx_names=(\"usees\", \"post-usees\"))\n",
    "datasets = make_or_load_datasets(test_data_name, encoder, predict_added_in_training=False)\n",
    "test_data = datasets[\"test\"]\n",
    "\n",
    "rep_edits = pfilter(TokenizedEdit.is_repetitive_edit, test_data.all_edits())\n",
    "small_edits = pfilter(TokenizedEdit.is_small_edit, test_data.all_edits())\n",
    "is_refactor_edits = [bool(e.updated_calls) for e in test_data.all_edits()]\n",
    "refactor_edits = [e for e, is_refactor in zip(test_data.all_edits(), is_refactor_edits) if is_refactor]\n",
    "print(\"Total edits: \", len(list(test_data.all_edits())))\n",
    "print(\"Repetitive edits: \", len(rep_edits))\n",
    "print(\"Small edits: \", len(small_edits))\n",
    "print(\"Refactoring edits: \", len(refactor_edits))"
   ]
  },
  {
   "cell_type": "code",
   "execution_count": 3,
   "metadata": {},
   "outputs": [
    {
     "name": "stdout",
     "output_type": "stream",
     "text": [
      "Starting task: Loading datasets from disk\n",
      "(7.5s) Finished task: Loading datasets from disk\n"
     ]
    },
    {
     "name": "stderr",
     "output_type": "stream",
     "text": [
      "filtering: 100%|██████████| 10178/10178 [00:05<00:00, 1867.63it/s]\n",
      "filtering: 100%|██████████| 10178/10178 [00:01<00:00, 8552.27it/s]\n"
     ]
    },
    {
     "name": "stdout",
     "output_type": "stream",
     "text": [
      "Total edits:  10178\n",
      "Repetitive edits:  598\n",
      "Small edits:  6566\n",
      "Refactoring edits:  0\n"
     ]
    }
   ],
   "source": [
    "test_data_name = \"medium\"\n",
    "encoder = CstBasedEditEncoder()\n",
    "datasets = make_or_load_datasets(test_data_name, encoder, predict_added_in_training=False)\n",
    "test_data = datasets[\"test\"]\n",
    "\n",
    "rep_edits = pfilter(TokenizedEdit.is_repetitive_edit, test_data.all_edits())\n",
    "small_edits = pfilter(TokenizedEdit.is_small_edit, test_data.all_edits())\n",
    "print(\"Total edits: \", len(list(test_data.all_edits())))\n",
    "print(\"Repetitive edits: \", len(rep_edits))\n",
    "print(\"Small edits: \", len(small_edits))"
   ]
  },
  {
   "cell_type": "code",
   "execution_count": 8,
   "metadata": {},
   "outputs": [],
   "source": [
    "model_dir = get_model_dir() / \"coeditor-medium-sig-cst-no_added\"\n",
    "# model_dir = get_model_dir() / \"coeditor-medium-analysis-post_usees\"\n",
    "model = CoeditorModel.load_pretrained(model_dir)\n",
    "model.to(\"cuda:1\")\n",
    "\n",
    "eval_args = EvalArgs()\n",
    "dec_args = DecodingArgs(num_beams=1)"
   ]
  },
  {
   "cell_type": "code",
   "execution_count": 4,
   "metadata": {},
   "outputs": [],
   "source": [
    "eval_dir = model_dir / \"evals\" / test_data_name\n",
    "eval_cache = PickleCache(eval_dir)"
   ]
  },
  {
   "cell_type": "code",
   "execution_count": 9,
   "metadata": {},
   "outputs": [
    {
     "name": "stderr",
     "output_type": "stream",
     "text": [
      "Preprocessing edits: 100%|██████████| 868/868 [00:00<00:00, 4182.41it/s]\n",
      "Arranging batches: 100%|██████████| 868/868 [00:00<00:00, 401262.63it/s]\n",
      "decoding: 100%|██████████| 248/248 [14:27<00:00,  3.50s/batch]\n"
     ]
    },
    {
     "name": "stdout",
     "output_type": "stream",
     "text": [
      "122 / 1176 calls were considered incorrect since they failed to parse.\n",
      "Call update accuracy:  (mean=0.26871, weight=1176)\n"
     ]
    }
   ],
   "source": [
    "refactor_data = TokenizedEditDataset.from_edits(refactor_edits)\n",
    "refactor_result = eval_cache.cached(\n",
    "    \"RefactorCallUpdate.pkl\", \n",
    "    lambda: model.predict_on_data(refactor_data, eval_args, dec_args)\n",
    ")\n",
    "call_acc, call_correct = refactor_result.call_update_accuracy()\n",
    "print(\"Call update accuracy: \", call_acc)"
   ]
  },
  {
   "cell_type": "code",
   "execution_count": 19,
   "metadata": {},
   "outputs": [
    {
     "name": "stderr",
     "output_type": "stream",
     "text": [
      "Preprocessing edits: 100%|██████████| 648/648 [00:00<00:00, 4186.05it/s]\n",
      "Arranging batches: 100%|██████████| 648/648 [00:00<00:00, 474164.16it/s]\n"
     ]
    }
   ],
   "source": [
    "rep_data = TokenizedEditDataset.from_edits(rep_edits)\n",
    "rep_result = eval_cache.cached(\n",
    "    \"RepetitiveEdits.pkl\", \n",
    "    lambda: model.predict_on_data(rep_data, eval_args, dec_args)\n",
    ")\n",
    "rep_acc, rep_correct = rep_result.exact_match_accuracy()\n",
    "print(\"Repetitive edits accuracy: \", rep_acc)"
   ]
  },
  {
   "cell_type": "code",
   "execution_count": 14,
   "metadata": {},
   "outputs": [
    {
     "name": "stderr",
     "output_type": "stream",
     "text": [
      "decoding: 100%|██████████| 38/38 [02:33<00:00,  4.05s/batch]\n"
     ]
    },
    {
     "name": "stdout",
     "output_type": "stream",
     "text": [
      "18 / 200 calls were considered incorrect since they failed to parse.\n",
      "(use_signature_prefix) Call update accuracy:  (mean=0.39, weight=200)\n"
     ]
    }
   ],
   "source": [
    "model.data_args.use_signature_prefix = True\n",
    "refactor_data = TokenizedEditDataset.from_edits(refactor_edits)\n",
    "eval_args = eval_args = EvalArgs(4096 * 4)\n",
    "refactor_result = model.predict_on_data(refactor_data, eval_args, dec_args)\n",
    "call_acc, call_correct = refactor_result.call_update_accuracy()\n",
    "print(\"(use_signature_prefix) Call update accuracy: \", call_acc)"
   ]
  },
  {
   "cell_type": "code",
   "execution_count": 18,
   "metadata": {},
   "outputs": [
    {
     "name": "stderr",
     "output_type": "stream",
     "text": [
      "saving examples: 100%|██████████| 868/868 [00:10<00:00, 85.05it/s] "
     ]
    },
    {
     "name": "stdout",
     "output_type": "stream",
     "text": [
      "/mnt/nas/jiayi/coeditor/models/trained/coeditor-medium-sig-cst-no_added/evals/medium/CallUpdateAccuracy\n"
     ]
    },
    {
     "name": "stderr",
     "output_type": "stream",
     "text": [
      "\n"
     ]
    }
   ],
   "source": [
    "out_dir = eval_dir / \"CallUpdateAccuracy\"\n",
    "refactor_result.save_examples_to_dir(out_dir, call_correct)\n",
    "print(out_dir)"
   ]
  },
  {
   "cell_type": "code",
   "execution_count": 9,
   "metadata": {},
   "outputs": [
    {
     "data": {
      "text/plain": [
       "(mean=0.74667, weight=75)"
      ]
     },
     "metadata": {},
     "output_type": "display_data"
    }
   ],
   "source": [
    "rep_data = TokenizedEditDataset.from_edits(rep_edits)\n",
    "rep_result = model.predict_on_data(rep_data, eval_args, dec_args)\n",
    "display(rep_result.exact_match_accuracy()[0])"
   ]
  },
  {
   "cell_type": "code",
   "execution_count": 7,
   "metadata": {},
   "outputs": [],
   "source": [
    "dec_args = DecodingArgs(num_beams=1)\n",
    "dec_result = eval_cache.cached(\"DatasetDecodingResult.pkl\", lambda: model.predict_on_data(test_data, eval_args, dec_args))"
   ]
  }
 ],
 "metadata": {
  "kernelspec": {
   "display_name": "Python 3.10.4 ('.venv': pipenv)",
   "language": "python",
   "name": "python3"
  },
  "language_info": {
   "codemirror_mode": {
    "name": "ipython",
    "version": 3
   },
   "file_extension": ".py",
   "mimetype": "text/x-python",
   "name": "python",
   "nbconvert_exporter": "python",
   "pygments_lexer": "ipython3",
   "version": "3.10.4"
  },
  "orig_nbformat": 4,
  "vscode": {
   "interpreter": {
    "hash": "f6ffc72953da4dd16b2e00785be9c4013ef131f465a8658f3921b6634d4eeec8"
   }
  }
 },
 "nbformat": 4,
 "nbformat_minor": 2
}
