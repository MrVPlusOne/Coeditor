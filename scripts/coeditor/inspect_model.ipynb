{
 "cells": [
  {
   "cell_type": "code",
   "execution_count": 1,
   "metadata": {},
   "outputs": [],
   "source": [
    "%load_ext autoreload\n",
    "%autoreload 2\n",
    "\n",
    "from coeditor.common import *\n",
    "import os\n",
    "\n",
    "from coeditor.dataset import TokenizedEditDataset\n",
    "from coeditor.model import CoeditorModel, EvalArgs, DecodingArgs\n",
    "from coeditor.encoding import TokenizedEdit, decode_tokens, tokens_to_change, AnalysisBasedEditEncoder\n",
    "from coeditor.history import Added, Modified\n",
    "import shutil\n",
    "import random\n",
    "from prepare_data import make_or_load_datasets, dataset_from_projects, get_commit_history\n",
    "\n",
    "os.chdir(proj_root())"
   ]
  },
  {
   "cell_type": "code",
   "execution_count": 3,
   "metadata": {},
   "outputs": [
    {
     "name": "stderr",
     "output_type": "stream",
     "text": [
      "Getting commit histories: 100%|██████████| 1/1 [00:01<00:00,  1.16s/repo]\n",
      "Create tokenized edits: 100%|██████████| 1/1 [00:30<00:00, 30.20s/chunk]"
     ]
    },
    {
     "name": "stdout",
     "output_type": "stream",
     "text": [
      "num addition:  0\n",
      "num modifications:  116\n"
     ]
    },
    {
     "name": "stderr",
     "output_type": "stream",
     "text": [
      "\n"
     ]
    }
   ],
   "source": [
    "# test_data_name = \"medium\"\n",
    "test_data_name = \"SPOT\"\n",
    "encoder = AnalysisBasedEditEncoder(extra_ctx_names=(\"usees\", \"post-usees\"))\n",
    "test_data = dataset_from_projects([proj_root()], encoder, [False], max_history_per_repo=20)\n",
    "print(\"num addition: \", sum(isinstance(e.main_change, Added) for e in test_data.all_edits()))\n",
    "print(\"num modifications: \", sum(isinstance(e.main_change, Modified) for e in test_data.all_edits()))"
   ]
  },
  {
   "cell_type": "code",
   "execution_count": 2,
   "metadata": {},
   "outputs": [],
   "source": [
    "test_data_name = \"medium\"\n",
    "# test_data_name = \"SPOT\"\n",
    "encoder = AnalysisBasedEditEncoder(extra_ctx_names=(\"usees\", \"post-usees\"))\n",
    "datasets = make_or_load_datasets(test_data_name, encoder, recreate_data=False)\n",
    "test_data = datasets[\"train\"]"
   ]
  },
  {
   "cell_type": "code",
   "execution_count": 3,
   "metadata": {},
   "outputs": [
    {
     "name": "stdout",
     "output_type": "stream",
     "text": [
      "path: latexify.codegen.function_codegen_test/test_visit_binop\n",
      "========Ground Truth========\n",
      "\n",
      "========Main Code========\n",
      "<add> @pytest.mark.parametrize(\n",
      "<add>     \"code,latex\",\n",
      "<add>     [\n",
      "<add>         (\"x**y\", r\"x^{y}\"),\n",
      "<add>         (\"x * y\", r\"x y\"),\n",
      "<add>         (\"x @ y\", r\"x y\"),\n",
      "<add>         (\"x / y\", r\"\\frac{x}{y}\"),\n",
      "<add>         (\"x // y\", r\"\\left\\lfloor\\frac{x}{y}\\right\\rfloor\"),\n",
      "<add>         (\"x % y\", r\"x \\mathbin{\\%} y\"),\n",
      "<add>         (\"x + y\", r\"x + y\"),\n",
      "<add>         (\"x - y\", r\"x - y\"),\n",
      "<add>         (\"x << y\", r\"x \\ll y\"),\n",
      "<add>         (\"x >> y\", r\"x \\gg y\"),\n",
      "<add>         (\"x & y\", r\"x \\mathbin{\\&} y\"),\n",
      "<add>         (\"x ^ y\", r\"x \\oplus y\"),\n",
      "<add>         (\"x | y\", R\"x \\mathbin{|} y\"),\n",
      "<add>         (\"(x**y)**z\", r\"\\left( x^{y} \\right)^{z}\"),\n",
      "<add>         (\"(x * y) * z\", r\"x y z\"),\n",
      "<add>         (\"(x @ y) @ z\", r\"x y z\"),\n",
      "<add>         (\"(x / y) / z\", r\"\\frac{\\frac{x}{y}}{z}\"),\n",
      "<add>         (\n",
      "<add>             \"(x // y) // z\",\n",
      "<add>             r\"\\left\\lfloor\\frac{\\left\\lfloor\\frac{x}{y}\\right\\rfloor}{z}\\right\\rfloor\",\n",
      "<add>         ),\n",
      "<add>         (\"(x % y) % z\", r\"x \\mathbin{\\%} y \\mathbin{\\%} z\"),\n",
      "<add>         (\"(x + y) + z\", r\"x + y + z\"),\n",
      "<add>         (\"(x - y) - z\", r\"x - y - z\"),\n",
      "<add>         (\"(x << y) << z\", r\"x \\ll y \\ll z\"),\n",
      "<add>         (\"(x >> y) >> z\", r\"x \\gg y \\gg z\"),\n",
      "<add>         (\"(x & y) & z\", r\"x \\mathbin{\\&} y \\mathbin{\\&} z\"),\n",
      "<add>         (\"(x ^ y) ^ z\", r\"x \\oplus y \\oplus z\"),\n",
      "<add>         (\"(x | y) | z\", r\"x \\mathbin{|} y \\mathbin{|} z\"),\n",
      "<add>         (\"x**(y**z)\", r\"x^{y^{z}}\"),\n",
      "<add>         (\"x * (y * z)\", r\"x y z\"),\n",
      "<add>         (\"x @ (y @ z)\", r\"x y z\"),\n",
      "<add>         (\"x / (y / z)\", r\"\\frac{x}{\\frac{y}{z}}\"),\n",
      "<add>         (\n",
      "<add>             \"x // (y // z)\",\n",
      "<add>             r\"\\left\\lfloor\\frac{x}{\\left\\lfloor\\frac{y}{z}\\right\\rfloor}\\right\\rfloor\",\n",
      "<add>         ),\n",
      "<add>         (\"x % (y % z)\", r\"x \\mathbin{\\%} \\left( y \\mathbin{\\%} z \\right)\"),\n",
      "<add>         (\"x + (y + z)\", r\"x + y + z\"),\n",
      "<add>         (\"x - (y - z)\", r\"x - \\left( y - z \\right)\"),\n",
      "<add>         (\"x << (y << z)\", r\"x \\ll \\left( y \\ll z \\right)\"),\n",
      "<add>         (\"x >> (y >> z)\", r\"x \\gg \\left( y \\gg z \\right)\"),\n",
      "<add>         (\"x & (y & z)\", r\"x \\mathbin{\\&} y \\mathbin{\\&} z\"),\n",
      "<add>         (\"x ^ (y ^ z)\", r\"x \\oplus y \\oplus z\"),\n",
      "<add>         (\"x | (y | z)\", r\"x \\mathbin{|} y \\mathbin{|} z\"),\n",
      "<add>         (\"x**y * z\", r\"x^{y} z\"),\n",
      "<add>         (\"x * y + z\", r\"x y + z\"),\n",
      "<add>         (\"x @ y + z\", r\"x y + z\"),\n",
      "<add>         (\"x / y + z\", r\"\\frac{x}{y} + z\"),\n",
      "<add>         (\"x // y + z\", r\"\\left\\lfloor\\frac{x}{y}\\right\\rfloor + z\"),\n",
      "<add>         (\"x % y + z\", r\"x \\mathbin{\\%} y + z\"),\n",
      "<add>         (\"x + y << z\", r\"x + y \\ll z\"),\n",
      "<add>         (\"x - y << z\", r\"x - y \\ll z\"),\n",
      "<add>         (\"x << y & z\", r\"x \\ll y \\mathbin{\\&} z\"),\n",
      "<add>         (\"x >> y & z\", r\"x \\gg y \\mathbin{\\&} z\"),\n",
      "<add>         (\"x & y ^ z\", r\"x \\mathbin{\\&} y \\oplus z\"),\n",
      "<add>         (\"x ^ y | z\", r\"x \\oplus y \\mathbin{|} z\"),\n",
      "<add>         (\"x**(y * z)\", r\"x^{y z}\"),\n",
      "<add>         (\"x * (y + z)\", r\"x \\left( y + z \\right)\"),\n",
      "<add>         (\"x @ (y + z)\", r\"x \\left( y + z \\right)\"),\n",
      "<add>         (\"x / (y + z)\",</s>\n",
      "\n",
      "===========extra context===========\n",
      "\n",
      "===========left context===========\n",
      "<s>}\",\n",
      "            r\"\\left\\{ i \\mid\"\n",
      "            r\" k \\in n,\"\n",
      "            r\" \\left( i \\in k \\right)\"\n",
      "            r\" \\land \\left( {i > {0}} \\right)\"\n",
      "            r\" \\right\\}\",\n",
      "        ),\n",
      "        (\n",
      "            \"{i for k in n if f(k) for i in k if i > 0}\",\n",
      "            r\"\\left\\{ i \\mid\"\n",
      "            r\" \\left( k \\in n \\right)\"\n",
      "            r\" \\land \\left( \\mathrm{f}\\left(k\\right) \\right),\"\n",
      "            r\" \\left( i \\in k \\right)\"\n",
      "            r\" \\land \\left( {i > {0}} \\right)\"\n",
      "            r\" \\right\\}\",\n",
      "        ),\n",
      "    ],\n",
      ")\n",
      "def test_visit_setcomp(code: str, latex: str) -> None:...\n",
      "\n",
      "@pytest.mark.parametrize(\n",
      "    \"src_suffix,dest_suffix\",\n",
      "    [\n",
      "        (\"(x)\", r\" \\left({x}\\right)\"),\n",
      "        (\"([1, 2])\", r\" \\left({\\left[ {1}\\space,\\space {2}\\right] }\\right)\"),\n",
      "        (\"({1, 2})\", r\" \\left({\\left\\{ {1}\\space,\\space {2}\\right\\} }\\right)\"),\n",
      "        (\"(f(x))\", r\" \\left({\\mathrm{f}\\left(x\\right)}\\right)\"),\n",
      "        (\"(i for i in x)\", r\"_{i \\in x}^{} \\left({i}\\right)\"),\n",
      "        (\n",
      "            \"(i for i in [1, 2])\",\n",
      "            r\"_{i \\in \\left[ {1}\\space,\\space {2}\\right] }^{} \\left({i}\\right)\",\n",
      "        ),\n",
      "        (\n",
      "            \"(i for i in {1, 2})\",\n",
      "            r\"_{i \\in \\left\\{ {1}\\space,\\space {2}\\right\\} }^{} \\left({i}\\right)\",\n",
      "        ),\n",
      "        (\"(i for i in f(x))\", r\"_{i \\in \\mathrm{f}\\left(x\\right)}^{} \\left({i}\\right)\"),\n",
      "        (\"(i for i in range(n))\", r\"_{i = {0}}^{{n - 1}} \\left({i}\\right)\"),\n",
      "        (\"(i for i in range(3))\", r\"_{i = {0}}^{{2}} \\left({i}\\right)\"),\n",
      "        (\"(i for i in range(n, m))\", r\"_{i = n}^{{m - 1}} \\left({i}\\right)\"),\n",
      "        (\"(i for i in range(1, m))\", r\"_{i = {1}}^{{m - 1}} \\left({i}\\right)\"),\n",
      "        (\"(i for i in range(n, 3))\", r\"_{i = n}^{{2}} \\left({i}\\right)\"),\n",
      "        (\n",
      "            \"(i for i in range(n, m, k))\",\n",
      "            r\"_{i \\in \\mathrm{range}\\left(n, m, k\\right)}^{} \\left({i}\\right)\",\n",
      "        ),\n",
      "    ],\n",
      ")\n",
      "def test_visit_call_sum_prod(src_suffix: str, dest_suffix: str) -> None:...\n",
      "\n",
      "@pytest.mark.parametrize(\n",
      "    \"code,latex\",\n",
      "    [\n",
      "        (\n",
      "            \"sum(i for y in x for i in y)\",\n",
      "            r\"\\sum_{y \\in x}^{} \\sum_{i \\in y}^{} \\left({i}\\right)\",\n",
      "        ),\n",
      "        (\n",
      "            \"sum(i for y in x for z in y for i in z)\",\n",
      "            r\"\\sum_{y \\in x}^{} \\sum_{z \\in y}^{} \\sum_{i \\in z}^{} \\left({i}\\right)\",\n",
      "        ),\n",
      "        (\n",
      "            \"math.prod(i for y in x for i in y)\",\n",
      "            r\"\\prod_{y \\in x}^{} \\prod_{i \\in y}^{} \\left({i}\\right)\",\n",
      "        ),\n",
      "        (\n",
      "            \"math.prod(i for y in x for z in y for i in z)\",\n",
      "            r\"\\prod_{y \\in x}^{} \\prod_{z \\in y}^{} \\prod_{i \\in z}^{} \"\n",
      "            r\"\\left({i}\\right)\",\n",
      "        ),\n",
      "    ],\n",
      ")\n",
      "def test_visit_call_sum_prod_multiple_comprehension(code: str, latex: str) -> None:...\n",
      "\n",
      "@pytest.mark.parametrize(\n",
      "    \"src_suffix,dest_suffix\",\n",
      "    [\n",
      "        (\n",
      "            \"(i for i in x if i < y)\",\n",
      "            r\"_{\\left( i \\in x \\right) \\land \\left( {i < y} \\right)}^{} \"\n",
      "            r\"\\left({i}\\right)\",\n",
      "        ),\n",
      "        (\n",
      "            \"(i for i in x if i < y if f(i))\",\n",
      "            r\"_{\\left( i \\in x \\right) \\land \\left( {i < y} \\right)\"\n",
      "            r\" \\land \\left( \\mathrm{f}\\left(i\\right) \\right)}^{}\"\n",
      "            r\" \\left({i}\\right)\",\n",
      "        ),\n",
      "    ],\n",
      ")\n",
      "def test_visit_call_sum_prod_with_if(src_suffix: str, dest_suffix: str) -> None:...\n",
      "\n",
      "===========right context===========\n",
      "@pytest.mark.parametrize(\n",
      "    \"code,latex\",\n",
      "    [\n",
      "        (\"a == b\", \"{a = b}\"),\n",
      "        (\"a > b\", \"{a > b}\"),\n",
      "        (\"a >= b\", r\"{a \\ge b}\"),\n",
      "        (\"a in b\", r\"{a \\in b}\"),\n",
      "        (\"a is b\", r\"{a \\equiv b}\"),\n",
      "        (\"a is not b\", r\"{a \\not\\equiv b}\"),\n",
      "        (\"a < b\", \"{a < b}\"),\n",
      "        (\"a <= b\", r\"{a \\le b}\"),\n",
      "        (\"a!= b\", r\"{a \\ne b}\"),\n",
      "        (\"a not in b\", r\"{a \\notin b}\"),\n",
      "        (\"a == b == c\", \"{a = b = c}\"),\n",
      "        (\"a == b > c\", \"{a = b > c}\"),\n",
      "        (\"a == b >= c\", r\"{a = b \\ge c}\"),\n",
      "        (\"a == b < c\", \"{a = b < c}\"),\n",
      "        (\"a == b <= c\", r\"{a = b \\le c}\"),\n",
      "        (\"a > b == c\", \"{a > b = c}\"),\n",
      "        (\"a > b > c\", \"{a > b > c}\"),\n",
      "        (\"a > b >= c\", r\"{a > b \\ge c}\"),\n",
      "        (\"a >= b == c\", r\"{a \\ge b = c}\"),\n",
      "        (\"a >= b > c\", r\"{a \\ge b > c}\"),\n",
      "        (\"a >= b >= c\", r\"{a \\ge b \\ge c}\"),\n",
      "        (\"a < b == c\", \"{a < b = c}\"),\n",
      "        (\"a < b < c\", \"{a < b < c}\"),\n",
      "        (\"a < b <= c\", r\"{a < b \\le c}\"),\n",
      "        (\"a <= b == c\", r\"{a \\le b = c}\"),\n",
      "        (\"a <= b < c\", r\"{a \\le b < c}\"),\n",
      "        (\"a <= b <= c\", r\"{a \\le b \\le c}\"),\n",
      "    ],\n",
      ")\n",
      "def test_visit_compare(code: str, latex: str) -> None:...\n",
      "\n",
      "@pytest.mark.parametrize(\n",
      "    \"code,latex\",\n",
      "    [\n",
      "        (\"a and b\", r\"{\\left( a \\right) \\land \\left( b \\right)}\"),\n",
      "        (\n",
      "            \"a and b and c\",\n",
      "            r\"{\\left( a \\right) \\land \\left( b \\right) \\land \\left( c \\right)}\",\n",
      "        ),\n",
      "        (\"a or b\", r\"{\\left( a \\right) \\lor \\left( b \\right)}\"),\n",
      "        (\n",
      "            \"a or b or c\",\n",
      "            r\"{\\left( a \\right) \\lor \\left( b \\right) \\lor \\left( c \\right)}\",\n",
      "        ),\n",
      "    ],\n",
      ")\n",
      "def test_visit_boolop(code: str, latex: str) -> None:...\n",
      "\n",
      "@test_utils.require_at_most(7)\n",
      "@pytest.mark.parametrize(\n",
      "    \"code,cls,latex\",\n",
      "    [\n",
      "        (\"0\", ast.Num, \"{0}\"),\n",
      "        (\"1\", ast.Num, \"{1}\"),\n",
      "        (\"0.0\", ast.Num, \"{0.0}\"),\n",
      "        (\"1.5\", ast.Num, \"{1.5}\"),\n",
      "        (\"0.0j\", ast.Num, \"{0j}\"),\n",
      "        (\"1.0j\", ast.Num, \"{1j}\"),\n",
      "        (\"1.5j\", ast.Num, \"{1.5j}\"),\n",
      "        ('\"abc\"', ast.Str, r'\\textrm{\"abc\"}'),\n",
      "        ('b\"abc\"', ast.Bytes, r\"\\textrm{b'abc'}\"),\n",
      "        (\"None\", ast.NameConstant, r\"\\mathrm{None}\"),\n",
      "        (\"False\", ast.NameConstant, r\"\\mathrm{False}\"),\n",
      "        (\"True\", ast.NameConstant, r\"\\mathrm{True}\"),\n",
      "        (\"...\", ast.Ellipsis, r\"{\\cdots}\"),\n",
      "    ],\n",
      ")\n",
      "def test_visit_constant_lagacy(code: str, cls: type[ast.expr], latex: str) -> None:...\n",
      "\n",
      "@test_utils.require_at_least(8)\n",
      "@pytest.mark.parametrize(\n",
      "    \"code,latex\",\n",
      "    [\n",
      "        (\"0\", \"{0}\"),\n",
      "        (\"1\", \"{1}\"),\n",
      "        (\"0.0\", \"{0.0}\"),\n",
      "        (\"1.5\", \"{1.5}\"),\n",
      "        (\"0.0j\", \"{0j}\"),\n",
      "        (\"1.0j\", \"{1j}\"),\n",
      "        (\"1.5j\", \"{1.5j}\"),\n",
      "        ('\"abc\"', r'\\textrm{\"abc\"}'),\n",
      "        ('b\"abc\"', r\"\\textrm{b'abc'}\"),\n",
      "        (\"None\", r\"\\mathrm{None}\"),\n",
      "        (\"False\", r\"\\mathrm{False}\"),\n",
      "        (\"True\", r\"\\mathrm{True}\"),\n",
      "        (\"...\", r\"{\\cdots}\"),\n",
      "    ],\n",
      ")\n",
      "def test_visit_constant(code: str, latex: str) -> None:...\n",
      "\n",
      "@pytest.mark.parametrize(\n",
      "    \"code,latex\",\n",
      "    [\n",
      "        (\"x[0]\", \"{x_{{0}}}\"),\n",
      "        (\"x[0][1]\", \"{x_{{0}, {1}}}\"),\n",
      "        (\"x[0][1][2]\", \"{x_{{0}, {1}, {2}}}\"),\n",
      "        (\"x</s>\n"
     ]
    }
   ],
   "source": [
    "min_ex = min(test_data.all_edits(), key=lambda e: len(e.output_tks))\n",
    "print(min_ex.show())"
   ]
  },
  {
   "cell_type": "code",
   "execution_count": null,
   "metadata": {},
   "outputs": [],
   "source": []
  },
  {
   "cell_type": "code",
   "execution_count": 3,
   "metadata": {},
   "outputs": [
    {
     "name": "stderr",
     "output_type": "stream",
     "text": [
      "filtering: 100%|██████████| 1395/1395 [00:01<00:00, 914.09it/s] \n",
      "filtering: 100%|██████████| 1395/1395 [00:00<00:00, 4036.99it/s]"
     ]
    },
    {
     "name": "stdout",
     "output_type": "stream",
     "text": [
      "Total edits:  1395\n",
      "Repetitive edits:  75\n",
      "Small edits:  805\n",
      "Refactoring edits:  182\n"
     ]
    },
    {
     "name": "stderr",
     "output_type": "stream",
     "text": [
      "\n"
     ]
    }
   ],
   "source": [
    "rep_edits = pfilter(TokenizedEdit.is_repetitive_edit, test_data.all_edits())\n",
    "small_edits = pfilter(TokenizedEdit.is_small_edit, test_data.all_edits())\n",
    "refactor_edits = [e for e in test_data.all_edits() if e.updated_calls]\n",
    "print(\"Total edits: \", len(list(test_data.all_edits())))\n",
    "print(\"Repetitive edits: \", len(rep_edits))\n",
    "print(\"Small edits: \", len(small_edits))\n",
    "print(\"Refactoring edits: \", len(refactor_edits))"
   ]
  },
  {
   "cell_type": "code",
   "execution_count": 4,
   "metadata": {},
   "outputs": [],
   "source": [
    "# model_dir = get_model_dir() / \"coeditor-medium-file\"\n",
    "model_dir = get_model_dir() / \"coeditor-medium-analysis-post_usees\"\n",
    "model = CoeditorModel.load_pretrained(model_dir)\n",
    "model.to(\"cuda:1\")\n",
    "\n",
    "eval_args = EvalArgs(4096 * 2)\n",
    "dec_args = DecodingArgs(num_beams=1)"
   ]
  },
  {
   "cell_type": "code",
   "execution_count": 5,
   "metadata": {},
   "outputs": [],
   "source": [
    "eval_dir = model_dir / \"evals\" / test_data_name\n",
    "eval_cache = PickleCache(eval_dir)"
   ]
  },
  {
   "cell_type": "code",
   "execution_count": 16,
   "metadata": {},
   "outputs": [
    {
     "name": "stderr",
     "output_type": "stream",
     "text": [
      "decoding: 100%|██████████| 38/38 [02:01<00:00,  3.20s/batch]\n"
     ]
    },
    {
     "name": "stdout",
     "output_type": "stream",
     "text": [
      "20 / 200 calls were considered incorrect since they failed to parse.\n",
      "Call update accuracy:  (mean=0.31, weight=200)\n"
     ]
    }
   ],
   "source": [
    "model.data_args.use_signature_prefix = False\n",
    "refactor_data = TokenizedEditDataset.from_edits(refactor_edits)\n",
    "refactor_result = model.predict_on_data(refactor_data, eval_args, dec_args)\n",
    "call_acc, call_correct = refactor_result.call_update_accuracy()\n",
    "print(\"Call update accuracy: \", call_acc)"
   ]
  },
  {
   "cell_type": "code",
   "execution_count": 6,
   "metadata": {},
   "outputs": [
    {
     "name": "stderr",
     "output_type": "stream",
     "text": [
      "decoding: 100%|██████████| 166/166 [06:28<00:00,  2.34s/batch]\n"
     ]
    },
    {
     "name": "stdout",
     "output_type": "stream",
     "text": [
      "19 / 200 calls were considered incorrect since they failed to parse.\n",
      "(use_signature_prefix) Call update accuracy:  (mean=0.355, weight=200)\n"
     ]
    }
   ],
   "source": [
    "model.data_args.use_signature_prefix = False\n",
    "refactor_data = TokenizedEditDataset.from_edits(refactor_edits)\n",
    "eval_args = EvalArgs(4096)\n",
    "dec_args = DecodingArgs(num_beams=6)\n",
    "refactor_result = model.predict_on_data(refactor_data, eval_args, dec_args)\n",
    "call_acc, call_correct = refactor_result.call_update_accuracy()\n",
    "print(\"(use_signature_prefix) Call update accuracy: \", call_acc)"
   ]
  },
  {
   "cell_type": "code",
   "execution_count": 14,
   "metadata": {},
   "outputs": [
    {
     "name": "stderr",
     "output_type": "stream",
     "text": [
      "decoding: 100%|██████████| 38/38 [02:33<00:00,  4.05s/batch]\n"
     ]
    },
    {
     "name": "stdout",
     "output_type": "stream",
     "text": [
      "18 / 200 calls were considered incorrect since they failed to parse.\n",
      "(use_signature_prefix) Call update accuracy:  (mean=0.39, weight=200)\n"
     ]
    }
   ],
   "source": [
    "model.data_args.use_signature_prefix = True\n",
    "refactor_data = TokenizedEditDataset.from_edits(refactor_edits)\n",
    "eval_args = eval_args = EvalArgs(4096 * 4)\n",
    "refactor_result = model.predict_on_data(refactor_data, eval_args, dec_args)\n",
    "call_acc, call_correct = refactor_result.call_update_accuracy()\n",
    "print(\"(use_signature_prefix) Call update accuracy: \", call_acc)"
   ]
  },
  {
   "cell_type": "code",
   "execution_count": 11,
   "metadata": {},
   "outputs": [
    {
     "name": "stderr",
     "output_type": "stream",
     "text": [
      "saving examples: 100%|██████████| 182/182 [00:01<00:00, 92.27it/s] "
     ]
    },
    {
     "name": "stdout",
     "output_type": "stream",
     "text": [
      "/mnt/nas/jiayi/coeditor/models/trained/coeditor-medium-analysis-post_usees/evals/SPOT/CallUpdateAccuracy.txt\n"
     ]
    },
    {
     "name": "stderr",
     "output_type": "stream",
     "text": [
      "\n"
     ]
    }
   ],
   "source": [
    "out_dir = eval_dir / \"CallUpdateAccuracy.txt\"\n",
    "refactor_result.save_examples_to_dir(out_dir, call_correct)\n",
    "print(out_dir)"
   ]
  },
  {
   "cell_type": "code",
   "execution_count": 9,
   "metadata": {},
   "outputs": [
    {
     "data": {
      "text/plain": [
       "(mean=0.74667, weight=75)"
      ]
     },
     "metadata": {},
     "output_type": "display_data"
    }
   ],
   "source": [
    "rep_data = TokenizedEditDataset.from_edits(rep_edits)\n",
    "rep_result = model.predict_on_data(rep_data, eval_args, dec_args)\n",
    "display(rep_result.exact_match_accuracy()[0])"
   ]
  },
  {
   "cell_type": "code",
   "execution_count": 7,
   "metadata": {},
   "outputs": [],
   "source": [
    "dec_args = DecodingArgs(num_beams=1)\n",
    "dec_result = eval_cache.cached(\"DatasetDecodingResult.pkl\", lambda: model.predict_on_data(test_data, eval_args, dec_args))"
   ]
  }
 ],
 "metadata": {
  "kernelspec": {
   "display_name": "Python 3.10.4 ('.venv': pipenv)",
   "language": "python",
   "name": "python3"
  },
  "language_info": {
   "codemirror_mode": {
    "name": "ipython",
    "version": 3
   },
   "file_extension": ".py",
   "mimetype": "text/x-python",
   "name": "python",
   "nbconvert_exporter": "python",
   "pygments_lexer": "ipython3",
   "version": "3.10.4"
  },
  "orig_nbformat": 4,
  "vscode": {
   "interpreter": {
    "hash": "f6ffc72953da4dd16b2e00785be9c4013ef131f465a8658f3921b6634d4eeec8"
   }
  }
 },
 "nbformat": 4,
 "nbformat_minor": 2
}
