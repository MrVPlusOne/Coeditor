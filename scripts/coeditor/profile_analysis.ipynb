{
 "cells": [
  {
   "cell_type": "code",
   "execution_count": 1,
   "metadata": {},
   "outputs": [],
   "source": [
    "%load_ext autoreload\n",
    "%autoreload 2\n",
    "%load_ext snakeviz\n",
    "%load_ext line_profiler\n",
    "\n",
    "# turn off autoreload so that we can use the old model \n",
    "# when editing the current project\n",
    "\n",
    "from coeditor.common import *\n",
    "import os\n",
    "\n",
    "os.chdir(proj_root())"
   ]
  },
  {
   "cell_type": "code",
   "execution_count": 2,
   "metadata": {},
   "outputs": [],
   "source": [
    "import jedi, parso\n",
    "from spot.static_analysis import PythonProject, UsageAnalysis\n",
    "from coeditor.usage_analysis import JediUsageAnalysis"
   ]
  },
  {
   "cell_type": "code",
   "execution_count": 4,
   "metadata": {},
   "outputs": [
    {
     "name": "stdout",
     "output_type": "stream",
     "text": [
      "CommitInfo(hash='f690f7e8f6403025258301a18f90f7df248b3a16', parents=('e2ec640b34d01934767888e94a49d0a4f8b43bf5',), msg='Improve PythonModule construction speed.')\n",
      "CommitInfo(hash='e2ec640b34d01934767888e94a49d0a4f8b43bf5', parents=('5d3758c0a5a2d009ecf55ca7eff4917ddf33be52',), msg='Add doc string removal in `normalize_code_by_ast`.')\n",
      "CommitInfo(hash='5d3758c0a5a2d009ecf55ca7eff4917ddf33be52', parents=('0f9c7276c7faff1e66acf6b5085054129a44af5a',), msg='Add option to output logs to `.coeditor_logs`.')\n",
      "CommitInfo(hash='0f9c7276c7faff1e66acf6b5085054129a44af5a', parents=('db578d77857af11288eba44ea91f07b101cfa38e',), msg='push minor changes.')\n",
      "CommitInfo(hash='db578d77857af11288eba44ea91f07b101cfa38e', parents=('a86da5585332f5a1eaa444d6e22324b1be651ad1',), msg='Save attention_mode in model config.')\n"
     ]
    }
   ],
   "source": [
    "from coeditor.code_change import *\n",
    "from coeditor.history import get_commit_history\n",
    "\n",
    "commits = get_commit_history(proj_root(),  5)\n",
    "for c in commits:\n",
    "    print(c)"
   ]
  },
  {
   "cell_type": "code",
   "execution_count": null,
   "metadata": {},
   "outputs": [],
   "source": [
    "workdir = proj_root() / \"../temp-1\"\n",
    "JProjectChange.edits_from_commit_history(proj_root(), commits, workdir)"
   ]
  },
  {
   "cell_type": "code",
   "execution_count": 6,
   "metadata": {},
   "outputs": [
    {
     "name": "stdout",
     "output_type": "stream",
     "text": [
      "9.82 s ± 26 ms per loop (mean ± std. dev. of 2 runs, 1 loop each)\n"
     ]
    }
   ],
   "source": [
    "%%timeit -n 1 -r 2\n",
    "analysis = UsageAnalysis(pyproj, add_implicit_rel_imports=True, record_type_usages=True)"
   ]
  },
  {
   "cell_type": "code",
   "execution_count": 34,
   "metadata": {},
   "outputs": [
    {
     "name": "stdout",
     "output_type": "stream",
     "text": [
      "4.79 s ± 21.6 ms per loop (mean ± std. dev. of 2 runs, 1 loop each)\n"
     ]
    }
   ],
   "source": [
    "%%timeit -n 1 -r 2\n",
    "PythonProject.from_root(proj_root())"
   ]
  },
  {
   "cell_type": "code",
   "execution_count": 17,
   "metadata": {},
   "outputs": [],
   "source": [
    "jproj = jedi.Project(proj_root())\n",
    "jmodules = dict()\n",
    "for f in proj_root().glob(\"src/**/*.py\"):\n",
    "    s = jedi.Script(path=f, project=jproj)\n",
    "    jmodules[f] = s._module_node"
   ]
  },
  {
   "cell_type": "code",
   "execution_count": 15,
   "metadata": {},
   "outputs": [
    {
     "name": "stdout",
     "output_type": "stream",
     "text": [
      "Module([\n",
      "    PythonNode('simple_stmt', [\n",
      "        ImportName([\n",
      "            Keyword('import', (2, 0), prefix='\\n'),\n",
      "            Name('foo', (2, 7), prefix=' '),\n",
      "        ]),\n",
      "        Newline('\\n', (2, 10)),\n",
      "    ]),\n",
      "    PythonNode('simple_stmt', [\n",
      "        ExprStmt([\n",
      "            Name('x', (3, 0)),\n",
      "            Operator('+=', (3, 2), prefix=' '),\n",
      "            Number('1', (3, 5), prefix=' '),\n",
      "        ]),\n",
      "        Newline('\\n', (3, 6)),\n",
      "    ]),\n",
      "    PythonNode('decorated', [\n",
      "        Decorator([\n",
      "            Operator('@', (4, 0)),\n",
      "            Name('staticmethod', (4, 1)),\n",
      "            Newline('\\n', (4, 13)),\n",
      "        ]),\n",
      "        Function([\n",
      "            Keyword('def', (5, 0)),\n",
      "            Name('f', (5, 4), prefix=' '),\n",
      "            PythonNode('parameters', [\n",
      "                Operator('(', (5, 5)),\n",
      "                Operator(')', (5, 6)),\n",
      "            ]),\n",
      "            Operator(':', (5, 7)),\n",
      "            PythonNode('suite', [\n",
      "                Newline('\\n', (5, 8)),\n",
      "                PythonNode('simple_stmt', [\n",
      "                    ReturnStmt([\n",
      "                        Keyword('return', (6, 4), prefix='    '),\n",
      "                        PythonNode('atom_expr', [\n",
      "                            Name('bar', (6, 11), prefix=' '),\n",
      "                            PythonNode('trailer', [\n",
      "                                Operator('(', (6, 14)),\n",
      "                                Operator(')', (6, 15)),\n",
      "                            ]),\n",
      "                        ]),\n",
      "                    ]),\n",
      "                    Newline('\\n', (6, 16)),\n",
      "                ]),\n",
      "            ]),\n",
      "        ]),\n",
      "    ]),\n",
      "    EndMarker('', (7, 0)),\n",
      "])\n"
     ]
    }
   ],
   "source": [
    "ex_code = \"\"\"\n",
    "import foo\n",
    "x += 1\n",
    "@staticmethod\n",
    "def f():\n",
    "    return bar()\n",
    "\"\"\"\n",
    "mod = parso.parse(ex_code)\n",
    "print(mod.dump())"
   ]
  },
  {
   "cell_type": "code",
   "execution_count": 3,
   "metadata": {},
   "outputs": [
    {
     "data": {
      "text/plain": [
       "[<Name name='self', description='param self'>]"
      ]
     },
     "execution_count": 3,
     "metadata": {},
     "output_type": "execute_result"
    }
   ],
   "source": [
    "jproj = jedi.Project(proj_root())\n",
    "s = jedi.Script(path=proj_root() / \"src/coeditor/usage_analysis.py\")\n",
    "s.goto(28, 9)"
   ]
  },
  {
   "cell_type": "code",
   "execution_count": 5,
   "metadata": {},
   "outputs": [
    {
     "name": "stdout",
     "output_type": "stream",
     "text": [
      "\n",
      "*** Profile printout saved to text file 'output/lprof.txt'. \n"
     ]
    },
    {
     "name": "stdout",
     "output_type": "stream",
     "text": [
      "Timer unit: 1e-09 s\n",
      "\n",
      "Total time: 20.8927 s\n",
      "File: /home/jiayi/Projects/SPOT/src/spot/static_analysis.py\n",
      "Function: from_cst at line 495\n",
      "\n",
      "Line #      Hits         Time  Per Hit   % Time  Line Contents\n",
      "==============================================================\n",
      "   495                                               @staticmethod\n",
      "   496                                               def from_cst(module: cst.Module, name: str, drop_comments: bool) -> \"PythonModule\":\n",
      "   497        60 4516638349.0 75277305.8     21.6          wrapper = MetadataWrapper(module)\n",
      "   498        60 8465727458.0 141095457.6     40.5          src_map = dict(wrapper.resolve(PositionProvider))\n",
      "   499        60     151722.0   2528.7      0.0          module = wrapper.module\n",
      "   500        60      18831.0    313.9      0.0          removed_comments = []\n",
      "   501        60      19426.0    323.8      0.0          if drop_comments:\n",
      "   502        60    6497932.0 108298.9      0.0              remover = CommentRemover(src_map=src_map)\n",
      "   503        60 5250321636.0 87505360.6     25.1              module = module.visit(remover)\n",
      "   504        60    5632128.0  93868.8      0.0              src_map = remover.src_map\n",
      "   505        60      60730.0   1012.2      0.0              removed_comments = remover.removed_lines\n",
      "   506        60    1114088.0  18568.1      0.0              removed_comments.sort(key=lambda c: src_map[c].start.line)\n",
      "   507        60  218923920.0 3648732.0      1.0          _fix_function_location_(src_map)\n",
      "   508        60 2427560894.0 40459348.2     11.6          return _build_python_module(module, src_map, name, removed_comments)"
     ]
    }
   ],
   "source": [
    "from spot.static_analysis import PythonModule\n",
    "\n",
    "%lprun -T output/lprof.txt -f PythonModule.from_cst pyproj = PythonProject.from_root(proj_root())"
   ]
  },
  {
   "cell_type": "code",
   "execution_count": 7,
   "metadata": {},
   "outputs": [
    {
     "name": "stderr",
     "output_type": "stream",
     "text": [
      "Analyzing spot.static_analysis: 100%|██████████| 5012/5012 [00:02<00:00, 2170.90it/s]\n",
      "Analyzing spot.type_check: 100%|██████████| 863/863 [00:00<00:00, 1149.46it/s]\n",
      "Analyzing spot.decode: 100%|██████████| 802/802 [00:01<00:00, 539.84it/s]\n",
      "Analyzing spot.utils: 100%|██████████| 1988/1988 [00:02<00:00, 753.06it/s] \n",
      "Analyzing spot: 100%|██████████| 6/6 [00:00<00:00, 1629.70it/s]\n",
      "Analyzing spot.model: 100%|██████████| 704/704 [00:00<00:00, 1813.30it/s]\n",
      "Analyzing spot.visualization: 100%|██████████| 1359/1359 [00:01<00:00, 979.09it/s] \n",
      "Analyzing spot.function_decoding: 100%|██████████| 939/939 [00:01<00:00, 678.03it/s] \n",
      "Analyzing spot.data: 100%|██████████| 2651/2651 [00:02<00:00, 904.50it/s] \n",
      "Analyzing spot.type_env: 100%|██████████| 1445/1445 [00:00<00:00, 1806.38it/s]\n",
      "Analyzing spot.function_dataset: 100%|██████████| 1071/1071 [00:00<00:00, 1942.42it/s]\n",
      "Analyzing spot.tokenized_src: 100%|██████████| 766/766 [00:00<00:00, 2598.24it/s]\n",
      "Analyzing spot.experiments.utils: 100%|██████████| 652/652 [00:00<00:00, 1886.30it/s]\n",
      "Analyzing spot.experiments: 0it [00:00, ?it/s]\n",
      "Analyzing spot.experiments.typilus: 100%|██████████| 276/276 [00:00<00:00, 1439.87it/s]\n",
      "Analyzing spot.experiments.typet5: 100%|██████████| 114/114 [00:00<00:00, 1928.50it/s]\n",
      "Analyzing spot.experiments.hityper: 100%|██████████| 291/291 [00:00<00:00, 1836.62it/s]\n",
      "Analyzing spot.experiments.type4py: 100%|██████████| 344/344 [00:00<00:00, 1918.24it/s]\n",
      "Analyzing spot.train: 100%|██████████| 599/599 [00:00<00:00, 1789.92it/s]\n",
      "Analyzing coeditor.api: 100%|██████████| 1244/1244 [00:00<00:00, 1778.96it/s]\n",
      "Analyzing coeditor.common: 100%|██████████| 699/699 [00:00<00:00, 2261.89it/s]\n",
      "Analyzing coeditor.encoding: 100%|██████████| 2450/2450 [00:01<00:00, 2429.48it/s]\n",
      "Analyzing coeditor.history: 100%|██████████| 1737/1737 [00:00<00:00, 2448.64it/s]\n",
      "Analyzing coeditor: 0it [00:00, ?it/s]\n",
      "Analyzing coeditor.model: 100%|██████████| 1306/1306 [00:03<00:00, 425.72it/s]\n",
      "Analyzing coeditor.encoders: 100%|██████████| 1372/1372 [00:00<00:00, 1912.94it/s]\n",
      "Analyzing coeditor.usage_analysis: 100%|██████████| 259/259 [00:00<00:00, 511.85it/s] \n",
      "Analyzing coeditor.retrieval_model: 100%|██████████| 3852/3852 [00:02<00:00, 1755.21it/s]\n",
      "Analyzing coeditor.dataset: 100%|██████████| 455/455 [00:00<00:00, 2409.90it/s]\n",
      "Analyzing setup: 100%|██████████| 9/9 [00:00<00:00, 58.74it/s]\n",
      "Analyzing data.code.code_with_slash: 100%|██████████| 19/19 [00:00<00:00, 3201.24it/s]\n",
      "Analyzing data.code.good_code_1: 100%|██████████| 41/41 [00:00<00:00, 4532.95it/s]\n",
      "Analyzing data.code.bad_code_2: 100%|██████████| 6/6 [00:00<00:00, 2370.56it/s]\n",
      "Analyzing data.code.env_code_1: 100%|██████████| 24/24 [00:00<00:00, 9218.25it/s]\n",
      "Analyzing data.code.bad_code_1: 100%|██████████| 28/28 [00:00<00:00, 6669.35it/s]\n",
      "Analyzing data.code.env_code_2: 100%|██████████| 54/54 [00:00<00:00, 4426.88it/s]\n",
      "Analyzing data.code.dummy.dummy_1: 100%|██████████| 5/5 [00:00<00:00, 3422.80it/s]\n",
      "Analyzing data.code.dummy: 0it [00:00, ?it/s]\n",
      "Analyzing data.code.dummy.dummy_2: 100%|██████████| 6/6 [00:00<00:00, 2032.62it/s]\n",
      "Analyzing data.ex_repo.env_code_1: 100%|██████████| 33/33 [00:00<00:00, 3980.22it/s]\n",
      "Analyzing data.ex_repo.env_code_2: 100%|██████████| 54/54 [00:00<00:00, 4984.10it/s]\n",
      "Analyzing data.code_output.bad_code_1: 100%|██████████| 28/28 [00:00<00:00, 6612.27it/s]\n",
      "Analyzing tests.spot.test_func_decoding: 100%|██████████| 163/163 [00:00<00:00, 3749.62it/s]\n",
      "Analyzing tests.spot: 0it [00:00, ?it/s]\n",
      "Analyzing tests.spot.test_static_analysis: 100%|██████████| 547/547 [00:00<00:00, 4222.11it/s]\n",
      "Analyzing tests.spot.test_type_env: 100%|██████████| 315/315 [00:00<00:00, 2637.35it/s]\n",
      "Analyzing tests.spot.test_model_creation: 100%|██████████| 74/74 [00:00<00:00, 266.52it/s]\n",
      "Analyzing tests: 0it [00:00, ?it/s]\n",
      "Analyzing tests.coeditor.test_edits: 100%|██████████| 336/336 [00:00<00:00, 2463.88it/s]\n",
      "Analyzing tests.coeditor: 0it [00:00, ?it/s]\n",
      "Analyzing scripts.archive.train_dagger: 100%|██████████| 283/283 [00:00<00:00, 1988.85it/s]\n",
      "Analyzing scripts.SPOT.eval_func_model: 100%|██████████| 304/304 [00:00<00:00, 1515.81it/s]\n",
      "Analyzing scripts.SPOT.train_model: 100%|██████████| 360/360 [00:00<00:00, 3272.07it/s]\n",
      "Analyzing scripts.coeditor.prepare_data: 100%|██████████| 79/79 [00:00<00:00, 1398.46it/s]\n",
      "Analyzing scripts.coeditor.start_server: 100%|██████████| 153/153 [00:00<00:00, 1326.89it/s]\n",
      "Analyzing scripts.coeditor.train_retrieval_model: 100%|██████████| 238/238 [00:00<00:00, 1642.73it/s]\n",
      "Analyzing scripts.coeditor.train_model: 100%|██████████| 256/256 [00:00<00:00, 1720.92it/s]\n",
      "Analyzing output.TinyEval.repos.test.ActivityWatch.util: 100%|██████████| 418/418 [00:00<00:00, 1060.29it/s]\n",
      "Analyzing output.TinyEval.repos.test.webwatcher.storage: 100%|██████████| 420/420 [00:00<00:00, 1053.90it/s]\n",
      "Analyzing output.TinyEval.repos.test.book-classics.goodreads: 100%|██████████| 620/620 [00:00<00:00, 2070.18it/s]\n",
      "Analyzing spot.static_analysis: 100%|██████████| 5012/5012 [00:02<00:00, 2180.18it/s]\n",
      "Analyzing spot.type_check: 100%|██████████| 863/863 [00:00<00:00, 1995.26it/s]\n",
      "Analyzing spot.decode: 100%|██████████| 802/802 [00:00<00:00, 2544.82it/s]\n",
      "Analyzing spot.utils: 100%|██████████| 1988/1988 [00:00<00:00, 2372.88it/s]\n",
      "Analyzing spot: 100%|██████████| 6/6 [00:00<00:00, 1617.65it/s]\n",
      "Analyzing spot.model: 100%|██████████| 704/704 [00:00<00:00, 2432.48it/s]\n",
      "Analyzing spot.visualization: 100%|██████████| 1359/1359 [00:01<00:00, 1109.29it/s]\n",
      "Analyzing spot.function_decoding: 100%|██████████| 939/939 [00:00<00:00, 2322.39it/s]\n",
      "Analyzing spot.data: 100%|██████████| 2651/2651 [00:01<00:00, 2018.91it/s]\n",
      "Analyzing spot.type_env: 100%|██████████| 1445/1445 [00:00<00:00, 2121.85it/s]\n",
      "Analyzing spot.function_dataset: 100%|██████████| 1071/1071 [00:00<00:00, 2011.46it/s]\n",
      "Analyzing spot.tokenized_src: 100%|██████████| 766/766 [00:00<00:00, 2665.01it/s]\n",
      "Analyzing spot.experiments.utils: 100%|██████████| 652/652 [00:00<00:00, 1933.23it/s]\n",
      "Analyzing spot.experiments: 0it [00:00, ?it/s]\n",
      "Analyzing spot.experiments.typilus: 100%|██████████| 276/276 [00:00<00:00, 1461.82it/s]\n",
      "Analyzing spot.experiments.typet5: 100%|██████████| 114/114 [00:00<00:00, 2039.54it/s]\n",
      "Analyzing spot.experiments.hityper: 100%|██████████| 291/291 [00:00<00:00, 1873.80it/s]\n",
      "Analyzing spot.experiments.type4py: 100%|██████████| 344/344 [00:00<00:00, 2099.42it/s]\n",
      "Analyzing spot.train: 100%|██████████| 599/599 [00:00<00:00, 2216.34it/s]\n",
      "Analyzing coeditor.api: 100%|██████████| 1244/1244 [00:00<00:00, 1949.91it/s]\n",
      "Analyzing coeditor.common: 100%|██████████| 699/699 [00:00<00:00, 2957.87it/s]\n",
      "Analyzing coeditor.encoding: 100%|██████████| 2450/2450 [00:00<00:00, 2695.03it/s]\n",
      "Analyzing coeditor.history: 100%|██████████| 1737/1737 [00:00<00:00, 2505.47it/s]\n",
      "Analyzing coeditor: 0it [00:00, ?it/s]\n",
      "Analyzing coeditor.model: 100%|██████████| 1306/1306 [00:00<00:00, 1711.11it/s]\n",
      "Analyzing coeditor.encoders: 100%|██████████| 1372/1372 [00:00<00:00, 2034.43it/s]\n",
      "Analyzing coeditor.usage_analysis: 100%|██████████| 259/259 [00:00<00:00, 635.62it/s] \n",
      "Analyzing coeditor.retrieval_model: 100%|██████████| 3852/3852 [00:02<00:00, 1864.21it/s]\n",
      "Analyzing coeditor.dataset: 100%|██████████| 455/455 [00:00<00:00, 2375.31it/s]\n",
      "Analyzing setup: 100%|██████████| 9/9 [00:00<00:00, 2990.95it/s]\n",
      "Analyzing data.code.code_with_slash: 100%|██████████| 19/19 [00:00<00:00, 3440.48it/s]\n",
      "Analyzing data.code.good_code_1: 100%|██████████| 41/41 [00:00<00:00, 4146.97it/s]\n",
      "Analyzing data.code.bad_code_2: 100%|██████████| 6/6 [00:00<00:00, 2576.09it/s]\n",
      "Analyzing data.code.env_code_1: 100%|██████████| 24/24 [00:00<00:00, 14729.78it/s]\n",
      "Analyzing data.code.bad_code_1: 100%|██████████| 28/28 [00:00<00:00, 7082.41it/s]\n",
      "Analyzing data.code.env_code_2: 100%|██████████| 54/54 [00:00<00:00, 4500.59it/s]\n",
      "Analyzing data.code.dummy.dummy_1: 100%|██████████| 5/5 [00:00<00:00, 3314.08it/s]\n",
      "Analyzing data.code.dummy: 0it [00:00, ?it/s]\n",
      "Analyzing data.code.dummy.dummy_2: 100%|██████████| 6/6 [00:00<00:00, 2222.54it/s]\n",
      "Analyzing data.ex_repo.env_code_1: 100%|██████████| 33/33 [00:00<00:00, 3962.21it/s]\n",
      "Analyzing data.ex_repo.env_code_2: 100%|██████████| 54/54 [00:00<00:00, 5109.58it/s]\n",
      "Analyzing data.code_output.bad_code_1: 100%|██████████| 28/28 [00:00<00:00, 6956.55it/s]\n",
      "Analyzing tests.spot.test_func_decoding: 100%|██████████| 163/163 [00:00<00:00, 3885.42it/s]\n",
      "Analyzing tests.spot: 0it [00:00, ?it/s]\n",
      "Analyzing tests.spot.test_static_analysis: 100%|██████████| 547/547 [00:00<00:00, 4580.21it/s]\n",
      "Analyzing tests.spot.test_type_env: 100%|██████████| 315/315 [00:00<00:00, 2700.99it/s]\n",
      "Analyzing tests.spot.test_model_creation: 100%|██████████| 74/74 [00:00<00:00, 324.39it/s]\n",
      "Analyzing tests: 0it [00:00, ?it/s]\n",
      "Analyzing tests.coeditor.test_edits: 100%|██████████| 336/336 [00:00<00:00, 2494.69it/s]\n",
      "Analyzing tests.coeditor: 0it [00:00, ?it/s]\n",
      "Analyzing scripts.archive.train_dagger: 100%|██████████| 283/283 [00:00<00:00, 2019.68it/s]\n",
      "Analyzing scripts.SPOT.eval_func_model: 100%|██████████| 304/304 [00:00<00:00, 1811.33it/s]\n",
      "Analyzing scripts.SPOT.train_model: 100%|██████████| 360/360 [00:00<00:00, 3377.86it/s]\n",
      "Analyzing scripts.coeditor.prepare_data: 100%|██████████| 79/79 [00:00<00:00, 1492.29it/s]\n",
      "Analyzing scripts.coeditor.start_server: 100%|██████████| 153/153 [00:00<00:00, 1635.11it/s]\n",
      "Analyzing scripts.coeditor.train_retrieval_model: 100%|██████████| 238/238 [00:00<00:00, 1726.91it/s]\n",
      "Analyzing scripts.coeditor.train_model: 100%|██████████| 256/256 [00:00<00:00, 1738.46it/s]\n",
      "Analyzing output.TinyEval.repos.test.ActivityWatch.util: 100%|██████████| 418/418 [00:00<00:00, 1827.10it/s]\n",
      "Analyzing output.TinyEval.repos.test.webwatcher.storage: 100%|██████████| 420/420 [00:00<00:00, 1159.96it/s]\n",
      "Analyzing output.TinyEval.repos.test.book-classics.goodreads: 100%|██████████| 620/620 [00:00<00:00, 2404.36it/s]"
     ]
    },
    {
     "name": "stdout",
     "output_type": "stream",
     "text": [
      "23.9 s ± 4.99 s per loop (mean ± std. dev. of 2 runs, 1 loop each)\n"
     ]
    },
    {
     "name": "stderr",
     "output_type": "stream",
     "text": [
      "\n"
     ]
    }
   ],
   "source": [
    "analysis = JediUsageAnalysis(pyproj)\n",
    "\n",
    "%timeit -r 2 -n 1 full_usages = [analysis.get_module_usages(m) for m in pyproj.modules]"
   ]
  },
  {
   "cell_type": "code",
   "execution_count": 8,
   "metadata": {},
   "outputs": [
    {
     "name": "stderr",
     "output_type": "stream",
     "text": [
      "Analyzing coeditor.retrieval_model: 100%|██████████| 3852/3852 [00:05<00:00, 703.05it/s] \n"
     ]
    },
    {
     "name": "stdout",
     "output_type": "stream",
     "text": [
      " \n",
      "*** Profile stats marshalled to file '/tmp/tmpjoxzvb5s'.\n",
      "Opening SnakeViz in a new tab...\n",
      "snakeviz web server started on 127.0.0.1:8080; enter Ctrl-C to exit\n",
      "http://127.0.0.1:8080/snakeviz/%2Ftmp%2Ftmpjoxzvb5s\n"
     ]
    }
   ],
   "source": [
    "analysis = JediUsageAnalysis(pyproj)\n",
    "\n",
    "%snakeviz -t  analysis.get_module_usages(\"coeditor.retrieval_model\")"
   ]
  },
  {
   "cell_type": "code",
   "execution_count": 13,
   "metadata": {},
   "outputs": [
    {
     "name": "stderr",
     "output_type": "stream",
     "text": [
      "Analyzing coeditor.retrieval_model: 100%|██████████| 3852/3852 [00:05<00:00, 756.05it/s] "
     ]
    },
    {
     "name": "stdout",
     "output_type": "stream",
     "text": [
      "\n",
      "*** Profile printout saved to text file 'output/lprof.txt'. \n"
     ]
    },
    {
     "name": "stderr",
     "output_type": "stream",
     "text": [
      "\n"
     ]
    },
    {
     "name": "stdout",
     "output_type": "stream",
     "text": [
      "Timer unit: 1e-09 s\n",
      "\n",
      "Total time: 3.81149 s\n",
      "File: /home/jiayi/Projects/SPOT/.venv/lib/python3.11/site-packages/jedi/inference/names.py\n",
      "Function: goto at line 143\n",
      "\n",
      "Line #      Hits         Time  Per Hit   % Time  Line Contents\n",
      "==============================================================\n",
      "   143                                               def goto(self):\n",
      "   144      3932    1337116.0    340.1      0.0          context = self.parent_context\n",
      "   145      3932     972752.0    247.4      0.0          name = self.tree_name\n",
      "   146      3932   18773324.0   4774.5      0.5          definition = name.get_definition(import_name_always=True)\n",
      "   147      2759     545903.0    197.9      0.0          if definition is not None:\n",
      "   148      1173     212765.0    181.4      0.0              type_ = definition.type\n",
      "   149       746     156554.0    209.9      0.0              if type_ == 'expr_stmt':\n",
      "   150                                                           # Only take the parent, because if it's more complicated than just\n",
      "   151                                                           # a name it's something you can \"goto\" again.\n",
      "   152       427     132742.0    310.9      0.0                  is_simple_name = name.parent.type not in ('power', 'trailer')\n",
      "   153       402      62178.0    154.7      0.0                  if is_simple_name:\n",
      "   154       402      84567.0    210.4      0.0                      return [self]\n",
      "   155       554     111389.0    201.1      0.0              elif type_ in ('import_from', 'import_name'):\n",
      "   156       554     960976.0   1734.6      0.0                  from jedi.inference.imports import goto_import\n",
      "   157       554  114349413.0 206406.9      3.0                  module_names = goto_import(context, name)\n",
      "   158       554     121619.0    219.5      0.0                  return module_names\n",
      "   159                                                       else:\n",
      "   160       192      40671.0    211.8      0.0                  return [self]\n",
      "   161                                                   else:\n",
      "   162      2759    4349297.0   1576.4      0.1              from jedi.inference.imports import follow_error_node_imports_if_possible\n",
      "   163      2759   10655165.0   3862.0      0.3              values = follow_error_node_imports_if_possible(context, name)\n",
      "   164      2759     397233.0    144.0      0.0              if values is not None:\n",
      "   165                                                           return [value.name for value in values]\n",
      "   166                                           \n",
      "   167      2784     627161.0    225.3      0.0          par = name.parent\n",
      "   168      2784     542144.0    194.7      0.0          node_type = par.type\n",
      "   169      2581     626502.0    242.7      0.0          if node_type == 'argument' and par.children[1] == '=' and par.children[0] == name:\n",
      "   170                                                       # Named param goto.\n",
      "   171       203      39638.0    195.3      0.0              trailer = par.parent\n",
      "   172       192      49934.0    260.1      0.0              if trailer.type == 'arglist':\n",
      "   173       192      36873.0    192.0      0.0                  trailer = trailer.parent\n",
      "   174       203      47152.0    232.3      0.0              if trailer.type != 'classdef':\n",
      "   175       203      54658.0    269.3      0.0                  if trailer.type == 'decorator':\n",
      "   176                                                               value_set = context.infer_node(trailer.children[1])\n",
      "   177                                                           else:\n",
      "   178       203     119259.0    587.5      0.0                      i = trailer.parent.children.index(trailer)\n",
      "   179       203      86274.0    425.0      0.0                      to_infer = trailer.parent.children[:i]\n",
      "   180       203      54788.0    269.9      0.0                      if to_infer[0] == 'await':\n",
      "   181                                                                   to_infer.pop(0)\n",
      "   182       203   77234051.0 380463.3      2.0                      value_set = context.infer_node(to_infer[0])\n",
      "   183       203     257888.0   1270.4      0.0                      from jedi.inference.syntax_tree import infer_trailer\n",
      "   184       203      85529.0    421.3      0.0                      for trailer in to_infer[1:]:\n",
      "   185       133  124494232.0 936046.9      3.3                          value_set = infer_trailer(context, value_set, trailer)\n",
      "   186       203      34311.0    169.0      0.0                  param_names = []\n",
      "   187       203      47571.0    234.3      0.0                  for value in value_set:\n",
      "   188       273  174035535.0 637492.8      4.6                      for signature in value.get_signatures():\n",
      "   189      3740    9136868.0   2443.0      0.2                          for param_name in signature.get_param_names():\n",
      "   190      3491    1504395.0    430.9      0.0                              if param_name.string_name == name.value:\n",
      "   191       249      86846.0    348.8      0.0                                  param_names.append(param_name)\n",
      "   192       203      32558.0    160.4      0.0                  return param_names\n",
      "   193      2581     456459.0    176.9      0.0          elif node_type == 'dotted_name':  # Is a decorator.\n",
      "   194                                                       index = par.children.index(name)\n",
      "   195                                                       if index > 0:\n",
      "   196                                                           new_dotted = deep_ast_copy(par)\n",
      "   197                                                           new_dotted.children[index - 1:] = []\n",
      "   198                                                           values = context.infer_node(new_dotted)\n",
      "   199                                                           return unite(\n",
      "   200                                                               value.goto(name, name_context=context)\n",
      "   201                                                               for value in values\n",
      "   202                                                           )\n",
      "   203                                           \n",
      "   204      2000     650598.0    325.3      0.0          if node_type == 'trailer' and par.children[0] == '.':\n",
      "   205       581 1715269468.0 2952271.0     45.0              values = infer_call_of_leaf(context, name, cut_own_trailer=True)\n",
      "   206       581  892379085.0 1535936.5     23.4              return values.goto(name, name_context=context)\n",
      "   207                                                   else:\n",
      "   208      2000    1710445.0    855.2      0.0              stmt = search_ancestor(\n",
      "   209      2000     310151.0    155.1      0.0                  name, 'expr_stmt', 'lambdef'\n",
      "   210       958     134810.0    140.7      0.0              ) or name\n",
      "   211      1975     424694.0    215.0      0.0              if stmt.type == 'lambdef':\n",
      "   212        25       3534.0    141.4      0.0                  stmt = name\n",
      "   213      2000  657650772.0 328825.4     17.3              return context.goto(name, position=stmt.start_pos)"
     ]
    }
   ],
   "source": [
    "from coeditor.usage_analysis import fast_goto\n",
    "from jedi.inference.names import AbstractTreeName\n",
    "\n",
    "analysis = JediUsageAnalysis(pyproj)\n",
    "%lprun -T output/lprof.txt -f AbstractTreeName.goto full_usages = analysis.get_module_usages(\"coeditor.retrieval_model\")"
   ]
  },
  {
   "cell_type": "code",
   "execution_count": 22,
   "metadata": {},
   "outputs": [
    {
     "name": "stderr",
     "output_type": "stream",
     "text": [
      "Analyzing spot.static_analysis: 100%|██████████| 5012/5012 [00:02<00:00, 2082.56it/s]\n",
      "Analyzing spot.static_analysis: 100%|██████████| 5012/5012 [00:02<00:00, 2243.74it/s]\n"
     ]
    },
    {
     "name": "stdout",
     "output_type": "stream",
     "text": [
      "2.38 s ± 144 ms per loop (mean ± std. dev. of 2 runs, 1 loop each)\n"
     ]
    }
   ],
   "source": [
    "analysis = JediUsageAnalysis(pyproj)\n",
    "%timeit -r 2 -n 1 full_usages = analysis.get_module_usages(\"spot.static_analysis\")"
   ]
  },
  {
   "cell_type": "code",
   "execution_count": 8,
   "metadata": {},
   "outputs": [
    {
     "name": "stderr",
     "output_type": "stream",
     "text": [
      "Analyzing spot.static_analysis: 100%|██████████| 5012/5012 [00:05<00:00, 904.25it/s] \n",
      "Analyzing spot.static_analysis: 100%|██████████| 5012/5012 [00:02<00:00, 2159.91it/s]\n",
      "Analyzing spot.static_analysis: 100%|██████████| 5012/5012 [00:02<00:00, 2055.59it/s]\n",
      "Analyzing spot.static_analysis: 100%|██████████| 5012/5012 [00:02<00:00, 2138.55it/s]\n"
     ]
    },
    {
     "data": {
      "text/plain": [
       "[4145, 4145, 4145, 4145]"
      ]
     },
     "execution_count": 8,
     "metadata": {},
     "output_type": "execute_result"
    }
   ],
   "source": [
    "[len(analysis.get_module_usages(\"spot.static_analysis\")) for _ in range(4)]"
   ]
  },
  {
   "cell_type": "code",
   "execution_count": 16,
   "metadata": {},
   "outputs": [
    {
     "name": "stderr",
     "output_type": "stream",
     "text": [
      "Analyzing spot.static_analysis: 100%|██████████| 5012/5012 [00:03<00:00, 1608.32it/s]\n",
      "Analyzing spot.type_check: 100%|██████████| 863/863 [00:00<00:00, 2114.11it/s]\n",
      "Analyzing spot.decode: 100%|██████████| 802/802 [00:00<00:00, 2776.54it/s]\n",
      "Analyzing spot.utils: 100%|██████████| 1988/1988 [00:00<00:00, 3096.21it/s]\n",
      "Analyzing spot: 100%|██████████| 6/6 [00:00<00:00, 1673.70it/s]\n",
      "Analyzing spot.model: 100%|██████████| 704/704 [00:00<00:00, 2878.05it/s]\n",
      "Analyzing spot.visualization: 100%|██████████| 1359/1359 [00:00<00:00, 2800.63it/s]\n",
      "Analyzing spot.function_decoding: 100%|██████████| 939/939 [00:00<00:00, 2193.24it/s]\n",
      "Analyzing spot.data: 100%|██████████| 2651/2651 [00:01<00:00, 2217.56it/s]\n",
      "Analyzing spot.type_env: 100%|██████████| 1445/1445 [00:00<00:00, 1626.02it/s]\n",
      "Analyzing spot.function_dataset: 100%|██████████| 1071/1071 [00:00<00:00, 2059.13it/s]\n",
      "Analyzing spot.tokenized_src: 100%|██████████| 766/766 [00:00<00:00, 3010.98it/s]\n",
      "Analyzing spot.experiments.utils: 100%|██████████| 652/652 [00:00<00:00, 1090.96it/s]\n",
      "Analyzing spot.experiments: 0it [00:00, ?it/s]\n",
      "Analyzing spot.experiments.typilus: 100%|██████████| 276/276 [00:00<00:00, 1556.31it/s]\n",
      "Analyzing spot.experiments.typet5: 100%|██████████| 114/114 [00:00<00:00, 2136.49it/s]\n",
      "Analyzing spot.experiments.hityper: 100%|██████████| 291/291 [00:00<00:00, 2005.67it/s]\n",
      "Analyzing spot.experiments.type4py: 100%|██████████| 344/344 [00:00<00:00, 2305.98it/s]\n",
      "Analyzing spot.train: 100%|██████████| 599/599 [00:00<00:00, 2723.88it/s]\n",
      "Analyzing coeditor.api: 100%|██████████| 1244/1244 [00:00<00:00, 1820.77it/s]\n",
      "Analyzing coeditor.common: 100%|██████████| 699/699 [00:00<00:00, 3184.32it/s]\n",
      "Analyzing coeditor.encoding: 100%|██████████| 2450/2450 [00:00<00:00, 2695.47it/s]\n",
      "Analyzing coeditor.history: 100%|██████████| 1737/1737 [00:00<00:00, 2382.86it/s]\n",
      "Analyzing coeditor: 0it [00:00, ?it/s]\n",
      "Analyzing coeditor.model: 100%|██████████| 1306/1306 [00:00<00:00, 2496.71it/s]\n",
      "Analyzing coeditor.encoders: 100%|██████████| 1372/1372 [00:00<00:00, 1859.52it/s]\n",
      "Analyzing coeditor.usage_analysis: 100%|██████████| 252/252 [00:00<00:00, 602.99it/s]\n",
      "Analyzing coeditor.retrieval_model: 100%|██████████| 3852/3852 [00:01<00:00, 2898.03it/s]\n",
      "Analyzing coeditor.dataset: 100%|██████████| 455/455 [00:00<00:00, 2562.10it/s]\n",
      "Analyzing setup: 100%|██████████| 9/9 [00:00<00:00, 3808.00it/s]\n",
      "Analyzing data.code.code_with_slash: 100%|██████████| 19/19 [00:00<00:00, 3540.44it/s]\n",
      "Analyzing data.code.good_code_1: 100%|██████████| 41/41 [00:00<00:00, 4418.35it/s]\n",
      "Analyzing data.code.bad_code_2: 100%|██████████| 6/6 [00:00<00:00, 3507.92it/s]\n",
      "Analyzing data.code.env_code_1: 100%|██████████| 24/24 [00:00<00:00, 15162.42it/s]\n",
      "Analyzing data.code.bad_code_1: 100%|██████████| 28/28 [00:00<00:00, 6780.24it/s]\n",
      "Analyzing data.code.env_code_2: 100%|██████████| 54/54 [00:00<00:00, 4380.30it/s]\n",
      "Analyzing data.code.dummy.dummy_1: 100%|██████████| 5/5 [00:00<00:00, 3160.74it/s]\n",
      "Analyzing data.code.dummy: 0it [00:00, ?it/s]\n",
      "Analyzing data.code.dummy.dummy_2: 100%|██████████| 6/6 [00:00<00:00, 3463.03it/s]\n",
      "Analyzing data.ex_repo.env_code_1: 100%|██████████| 33/33 [00:00<00:00, 4386.79it/s]\n",
      "Analyzing data.ex_repo.env_code_2: 100%|██████████| 54/54 [00:00<00:00, 5236.33it/s]\n",
      "Analyzing data.code_output.bad_code_1: 100%|██████████| 28/28 [00:00<00:00, 7159.70it/s]\n",
      "Analyzing tests.spot.test_func_decoding: 100%|██████████| 163/163 [00:00<00:00, 5608.60it/s]\n",
      "Analyzing tests.spot: 0it [00:00, ?it/s]\n",
      "Analyzing tests.spot.test_static_analysis: 100%|██████████| 547/547 [00:00<00:00, 4837.44it/s]\n",
      "Analyzing tests.spot.test_type_env: 100%|██████████| 315/315 [00:00<00:00, 3193.33it/s]\n",
      "Analyzing tests.spot.test_model_creation: 100%|██████████| 74/74 [00:00<00:00, 5600.98it/s]\n",
      "Analyzing tests: 0it [00:00, ?it/s]\n",
      "Analyzing tests.coeditor.test_edits: 100%|██████████| 336/336 [00:00<00:00, 2794.87it/s]\n",
      "Analyzing tests.coeditor: 0it [00:00, ?it/s]\n",
      "Analyzing scripts.archive.train_dagger: 100%|██████████| 283/283 [00:00<00:00, 3456.75it/s]\n",
      "Analyzing scripts.SPOT.eval_func_model: 100%|██████████| 304/304 [00:00<00:00, 1946.64it/s]\n",
      "Analyzing scripts.SPOT.train_model: 100%|██████████| 360/360 [00:03<00:00, 106.82it/s]\n",
      "Analyzing scripts.coeditor.prepare_data: 100%|██████████| 79/79 [00:00<00:00, 1545.89it/s]\n",
      "Analyzing scripts.coeditor.start_server: 100%|██████████| 153/153 [00:00<00:00, 2309.01it/s]\n",
      "Analyzing scripts.coeditor.train_retrieval_model: 100%|██████████| 238/238 [00:00<00:00, 3018.21it/s]\n",
      "Analyzing scripts.coeditor.train_model: 100%|██████████| 256/256 [00:00<00:00, 2070.34it/s]\n",
      "Analyzing output.TinyEval.repos.test.ActivityWatch.util: 100%|██████████| 418/418 [00:00<00:00, 2868.07it/s]\n",
      "Analyzing output.TinyEval.repos.test.webwatcher.storage: 100%|██████████| 420/420 [00:00<00:00, 1146.33it/s]\n",
      "Analyzing output.TinyEval.repos.test.book-classics.goodreads: 100%|██████████| 620/620 [00:00<00:00, 2626.95it/s]"
     ]
    },
    {
     "name": "stdout",
     "output_type": "stream",
     "text": [
      "total usages: 31207\n"
     ]
    },
    {
     "name": "stderr",
     "output_type": "stream",
     "text": [
      "\n"
     ]
    },
    {
     "data": {
      "text/plain": [
       "219"
      ]
     },
     "execution_count": 16,
     "metadata": {},
     "output_type": "execute_result"
    }
   ],
   "source": [
    "environment_path = Path(\"~/anaconda3/envs/bare_3.10\").expanduser()\n",
    "analysis = JediUsageAnalysis(pyproj)\n",
    "less_usages = analysis.get_all_usages()\n",
    "len(less_usages[\"coeditor.usage_analysis\"])"
   ]
  },
  {
   "cell_type": "code",
   "execution_count": 19,
   "metadata": {},
   "outputs": [],
   "source": [
    "def print_dict(xs: dict, path: Path):\n",
    "    with path.open(\"w\") as f:\n",
    "        for k, v in xs.items():\n",
    "            print(f\"{k}: {v}\", file=f)\n",
    "\n",
    "print_dict(less_usages[\"coeditor.usage_analysis\"], Path(\"less_usages.txt\"))\n",
    "print_dict(full_usages[\"coeditor.usage_analysis\"], Path(\"full_usages.txt\"))"
   ]
  }
 ],
 "metadata": {
  "kernelspec": {
   "display_name": ".venv",
   "language": "python",
   "name": "python3"
  },
  "language_info": {
   "codemirror_mode": {
    "name": "ipython",
    "version": 3
   },
   "file_extension": ".py",
   "mimetype": "text/x-python",
   "name": "python",
   "nbconvert_exporter": "python",
   "pygments_lexer": "ipython3",
   "version": "3.11.0"
  },
  "orig_nbformat": 4,
  "vscode": {
   "interpreter": {
    "hash": "f6ffc72953da4dd16b2e00785be9c4013ef131f465a8658f3921b6634d4eeec8"
   }
  }
 },
 "nbformat": 4,
 "nbformat_minor": 2
}
