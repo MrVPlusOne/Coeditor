{
 "cells": [
  {
   "cell_type": "code",
   "execution_count": 1,
   "metadata": {},
   "outputs": [],
   "source": [
    "%load_ext autoreload\n",
    "%autoreload 2\n",
    "%load_ext snakeviz\n",
    "%load_ext line_profiler\n",
    "# turn off autoreload so that we can use the old model \n",
    "# when editing the current project\n",
    "\n",
    "from coeditor.common import *\n",
    "import os\n",
    "from coeditor.model import RetrievalEditorModel, AttentionMode, DecodingArgs\n",
    "from coeditor.service import EditPredictionService, ChangeDetector\n",
    "from coeditor.c3problem import C3GeneratorCache\n",
    "\n",
    "os.chdir(proj_root())"
   ]
  },
  {
   "cell_type": "code",
   "execution_count": 2,
   "metadata": {},
   "outputs": [],
   "source": [
    "# target_dir = proj_root() / \"../SPOT-copy/\"\n",
    "target_dir = proj_root()\n",
    "model_name = \"coeditor-xl-c3-dropout-v1.6-resumed\"\n",
    "model_path = get_model_dir(True) / model_name\n",
    "model = RetrievalEditorModel.load(model_path)\n",
    "model.to(\"cuda:0\")\n",
    "detector = ChangeDetector(target_dir)\n",
    "service = EditPredictionService(\n",
    "    detector,\n",
    "    model,\n",
    "    dec_args = DecodingArgs(do_sample=False, num_beams=6, length_penalty=0.0)\n",
    "    # dec_args = DecodingArgs(do_sample=True, top_p=0.95, marginalize_samples=50)\n",
    ")\n"
   ]
  },
  {
   "cell_type": "code",
   "execution_count": 3,
   "metadata": {},
   "outputs": [
    {
     "data": {
      "application/vnd.jupyter.widget-view+json": {
       "model_id": "452324c11a3648509a75d894486ce1cb",
       "version_major": 2,
       "version_minor": 0
      },
      "text/plain": [
       "Upload 1 LFS files:   0%|          | 0/1 [00:00<?, ?it/s]"
      ]
     },
     "metadata": {},
     "output_type": "display_data"
    },
    {
     "data": {
      "application/vnd.jupyter.widget-view+json": {
       "model_id": "b980c53691cf4759b21bf2d2bf98da71",
       "version_major": 2,
       "version_minor": 0
      },
      "text/plain": [
       "pytorch_model.bin:   0%|          | 0.00/892M [00:00<?, ?B/s]"
      ]
     },
     "metadata": {},
     "output_type": "display_data"
    },
    {
     "data": {
      "text/plain": [
       "CommitInfo(commit_url='https://huggingface.co/MrVPlusOne/coeditor-xl-c3-dropout-v1.6-resumed/commit/09040cdc1a676199b31c944679f7ae2116404f17', commit_message='Upload model', commit_description='', oid='09040cdc1a676199b31c944679f7ae2116404f17', pr_url=None, pr_revision=None, pr_num=None)"
      ]
     },
     "execution_count": 3,
     "metadata": {},
     "output_type": "execute_result"
    }
   ],
   "source": [
    "model.push_to_hub(f\"MrVPlusOne/{model_name}\")"
   ]
  },
  {
   "cell_type": "code",
   "execution_count": 4,
   "metadata": {},
   "outputs": [
    {
     "name": "stdout",
     "output_type": "stream",
     "text": [
      "<coroutine object EditPredictionService.suggest_async at 0x7fe2921429e0>\n"
     ]
    },
    {
     "data": {
      "text/html": [
       "<div>\n",
       "<style scoped>\n",
       "    .dataframe tbody tr th:only-of-type {\n",
       "        vertical-align: middle;\n",
       "    }\n",
       "\n",
       "    .dataframe tbody tr th {\n",
       "        vertical-align: top;\n",
       "    }\n",
       "\n",
       "    .dataframe thead th {\n",
       "        text-align: right;\n",
       "    }\n",
       "</style>\n",
       "<table border=\"1\" class=\"dataframe\">\n",
       "  <thead>\n",
       "    <tr style=\"text-align: right;\">\n",
       "      <th></th>\n",
       "      <th>name</th>\n",
       "      <th>count</th>\n",
       "      <th>avg_time</th>\n",
       "      <th>total_time</th>\n",
       "    </tr>\n",
       "  </thead>\n",
       "  <tbody>\n",
       "  </tbody>\n",
       "</table>\n",
       "</div>"
      ],
      "text/plain": [
       "Empty DataFrame\n",
       "Columns: [name, count, avg_time, total_time]\n",
       "Index: []"
      ]
     },
     "execution_count": 4,
     "metadata": {},
     "output_type": "execute_result"
    }
   ],
   "source": [
    "# service.dec_args = DecodingArgs(do_sample=True, top_p=0.9, marginalize_samples=25)\n",
    "# service.dec_args = DecodingArgs(do_sample=False, num_beams=8, length_penalty=0.0)\n",
    "service.tlogger.clear()\n",
    "response = service.suggest_edit(to_rel_path(\"scripts/train_model.py\"), 91)\n",
    "print(response)\n",
    "service.tlogger.as_dataframe()"
   ]
  },
  {
   "cell_type": "code",
   "execution_count": null,
   "metadata": {},
   "outputs": [],
   "source": [
    "from pprint import pprint\n",
    "pprint(service.detector.analyzer.error_counts)"
   ]
  }
 ],
 "metadata": {
  "kernelspec": {
   "display_name": ".venv",
   "language": "python",
   "name": "python3"
  },
  "language_info": {
   "codemirror_mode": {
    "name": "ipython",
    "version": 3
   },
   "file_extension": ".py",
   "mimetype": "text/x-python",
   "name": "python",
   "nbconvert_exporter": "python",
   "pygments_lexer": "ipython3",
   "version": "3.11.0"
  },
  "orig_nbformat": 4,
  "vscode": {
   "interpreter": {
    "hash": "f6ffc72953da4dd16b2e00785be9c4013ef131f465a8658f3921b6634d4eeec8"
   }
  }
 },
 "nbformat": 4,
 "nbformat_minor": 2
}
