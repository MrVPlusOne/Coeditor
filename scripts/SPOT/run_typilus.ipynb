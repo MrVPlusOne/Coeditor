{
 "cells": [
  {
   "cell_type": "code",
   "execution_count": 1,
   "metadata": {},
   "outputs": [],
   "source": [
    "%load_ext autoreload\n",
    "%autoreload 2\n",
    "\n",
    "from spot.utils import proj_root, os\n",
    "os.chdir(proj_root())"
   ]
  },
  {
   "cell_type": "code",
   "execution_count": 4,
   "metadata": {},
   "outputs": [
    {
     "name": "stderr",
     "output_type": "stream",
     "text": [
      "Removing newer syntax: 100%|██████████| 1594/1594 [00:02<00:00, 713.52it/s]"
     ]
    },
    {
     "name": "stdout",
     "output_type": "stream",
     "text": [
      "1594 / 1594 files have been rewritten.\n"
     ]
    },
    {
     "name": "stderr",
     "output_type": "stream",
     "text": [
      "\n"
     ]
    }
   ],
   "source": [
    "from spot.experiments.utils import remove_newer_syntax_for_repo, Path\n",
    "from spot.experiments.typilus import eval_typilus_on_repos, Type4PySupportedSyntax\n",
    "from spot.utils import get_dataset_dir\n",
    "import shutil\n",
    "\n",
    "# dataset_name = \"InferTypes4Py\"\n",
    "dataset_name = \"ManyTypes4Py\"\n",
    "repos_dir = get_dataset_dir(dataset_name) / \"repos\"\n",
    "shutil.rmtree(repos_dir / \"test-typilus\", ignore_errors=True)\n",
    "shutil.copytree(repos_dir / \"test\", repos_dir / \"test-typilus\")\n",
    "remove_newer_syntax_for_repo(repos_dir / \"test-typilus\", Type4PySupportedSyntax)"
   ]
  },
  {
   "cell_type": "code",
   "execution_count": 5,
   "metadata": {},
   "outputs": [
    {
     "name": "stderr",
     "output_type": "stream",
     "text": [
      "Running Typilus: 100%|██████████| 50/50 [00:46<00:00,  1.08it/s]\n",
      "Collecting labels: 100%|██████████| 50/50 [00:15<00:00,  3.22it/s]\n",
      "WARNING:root:Missing 27 predictions for module: test_fakesmtpd.syntax\n",
      "WARNING:root:Missing 1 predictions for module: archive\n",
      "WARNING:root:Missing 1 predictions for module: tests.test_utils\n",
      "WARNING:root:Missing 1 predictions for module: tests.test_init_import\n",
      "WARNING:root:Missing 1 predictions for module: tests.test_axion_plugins\n",
      "WARNING:root:Missing 1 predictions for module: typesafety.conftest\n",
      "WARNING:root:Missing 1 predictions for module: tests.test_base\n"
     ]
    },
    {
     "name": "stdout",
     "output_type": "stream",
     "text": [
      "Accuracies on all types:\n",
      "header:  ['full.all', 'calibrated.simple', 'calibrated.complex', 'calibrated.all', 'base.all']\n",
      "47.10 & 55.12 & 33.23 & 54.05 & 60.37\n",
      "Accuracies on common types:\n",
      "header:  ['full.all', 'calibrated.simple', 'calibrated.complex', 'calibrated.all', 'base.all']\n",
      "47.10 & 55.12 & 33.23 & 54.05 & 60.37\n",
      "full_acc:\n",
      "   full_acc: 47.10% (count=6.9k)\n",
      "   full_acc_by_cat:\n",
      "      FuncArg: 47.86% (count=4.4k)\n",
      "      FuncReturn: 46.79% (count=1.3k)\n",
      "      ClassAtribute: 45.40% (count=1.1k)\n",
      "      GlobalVar: 20.45% (count=44)\n",
      "   full_acc_by_simple:\n",
      "      complex: 20.42% (count=529)\n",
      "      simple: 49.31% (count=6.4k)\n",
      "   full_acc_label_size: 1.4992\n",
      "   full_acc_pred_size: 1.1339\n",
      "   full_acc_ignored_labels: 0\n",
      "   n_missing: 3958\n",
      "   n_skipped_rare: 4892\n",
      "full_acc_common:\n",
      "   full_acc_common: 47.10% (count=6.9k)\n",
      "   full_acc_common_by_cat:\n",
      "      FuncArg: 47.86% (count=4.4k)\n",
      "      FuncReturn: 46.79% (count=1.3k)\n",
      "      ClassAtribute: 45.40% (count=1.1k)\n",
      "      GlobalVar: 20.45% (count=44)\n",
      "   full_acc_common_by_simple:\n",
      "      complex: 20.42% (count=529)\n",
      "      simple: 49.31% (count=6.4k)\n",
      "   full_acc_common_label_size: 1.4992\n",
      "   full_acc_common_pred_size: 1.1339\n",
      "   full_acc_common_ignored_labels: 0\n",
      "   n_missing: 3958\n",
      "   n_skipped_rare: 4892\n",
      "acc:\n",
      "   acc: 54.05% (count=6.9k)\n",
      "   acc_by_cat:\n",
      "      FuncArg: 55.04% (count=4.4k)\n",
      "      FuncReturn: 50.30% (count=1.3k)\n",
      "      ClassAtribute: 55.34% (count=1.1k)\n",
      "      GlobalVar: 36.36% (count=44)\n",
      "   acc_by_simple:\n",
      "      complex: 33.23% (count=337)\n",
      "      simple: 55.12% (count=6.6k)\n",
      "   acc_label_size: 1.2988\n",
      "   acc_pred_size: 1.0755\n",
      "   acc_ignored_labels: 15\n",
      "   n_missing: 3958\n",
      "   n_skipped_rare: 4892\n",
      "acc_common:\n",
      "   acc_common: 54.05% (count=6.9k)\n",
      "   acc_common_by_cat:\n",
      "      FuncArg: 55.04% (count=4.4k)\n",
      "      FuncReturn: 50.30% (count=1.3k)\n",
      "      ClassAtribute: 55.34% (count=1.1k)\n",
      "      GlobalVar: 36.36% (count=44)\n",
      "   acc_common_by_simple:\n",
      "      complex: 33.23% (count=337)\n",
      "      simple: 55.12% (count=6.6k)\n",
      "   acc_common_label_size: 1.2988\n",
      "   acc_common_pred_size: 1.0755\n",
      "   acc_common_ignored_labels: 15\n",
      "   n_missing: 3958\n",
      "   n_skipped_rare: 4892\n",
      "base_acc:\n",
      "   base_acc: 60.37% (count=6.9k)\n",
      "   base_acc_by_cat:\n",
      "      FuncArg: 60.48% (count=4.4k)\n",
      "      FuncReturn: 61.83% (count=1.3k)\n",
      "      ClassAtribute: 58.59% (count=1.1k)\n",
      "      GlobalVar: 47.73% (count=44)\n",
      "   base_acc_ignored_labels: 15\n",
      "   n_missing: 3958\n",
      "   n_skipped_rare: 4892\n",
      "base_acc_common:\n",
      "   base_acc_common: 60.37% (count=6.9k)\n",
      "   base_acc_common_by_cat:\n",
      "      FuncArg: 60.48% (count=4.4k)\n",
      "      FuncReturn: 61.83% (count=1.3k)\n",
      "      ClassAtribute: 58.59% (count=1.1k)\n",
      "      GlobalVar: 47.73% (count=44)\n",
      "   base_acc_common_ignored_labels: 15\n",
      "   n_missing: 3958\n",
      "   n_skipped_rare: 4892\n"
     ]
    }
   ],
   "source": [
    "from spot.model import ModelWrapper\n",
    "from spot.static_analysis import AccuracyMetric\n",
    "from spot.utils import *\n",
    "from spot.experiments.typet5 import accs_as_table_row\n",
    "\n",
    "test_repos = [\n",
    "    p\n",
    "    for p in (repos_dir / \"test-typilus\").iterdir()\n",
    "    if p.is_dir()\n",
    "]\n",
    "\n",
    "common_names = ModelWrapper.load_common_type_names(get_model_dir() / \"model-v7--TrainingConfig(drop_env_types=False)\")\n",
    "metrics = AccuracyMetric.default_metrics(common_names)\n",
    "typilus_path = Path(\"~/Projects/typilus-action/\").expanduser()\n",
    "work_dir = Path(\"~/Projects/typilus-action/data_out\").expanduser()\n",
    "\n",
    "accs = eval_typilus_on_repos(test_repos, metrics, typilus_path, work_dir, max_workers=4)\n",
    "\n",
    "accs_as_table_row(accs)\n",
    "pretty_print_dict(accs)\n"
   ]
  }
 ],
 "metadata": {
  "kernelspec": {
   "display_name": "Python 3.10.4 ('.venv': pipenv)",
   "language": "python",
   "name": "python3"
  },
  "language_info": {
   "codemirror_mode": {
    "name": "ipython",
    "version": 3
   },
   "file_extension": ".py",
   "mimetype": "text/x-python",
   "name": "python",
   "nbconvert_exporter": "python",
   "pygments_lexer": "ipython3",
   "version": "3.10.4"
  },
  "orig_nbformat": 4,
  "vscode": {
   "interpreter": {
    "hash": "f6ffc72953da4dd16b2e00785be9c4013ef131f465a8658f3921b6634d4eeec8"
   }
  }
 },
 "nbformat": 4,
 "nbformat_minor": 2
}
