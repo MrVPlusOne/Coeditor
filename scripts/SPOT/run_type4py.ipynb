{
 "cells": [
  {
   "cell_type": "code",
   "execution_count": 1,
   "metadata": {},
   "outputs": [],
   "source": [
    "%load_ext autoreload\n",
    "%autoreload 2\n",
    "\n",
    "from spot.utils import proj_root, os\n",
    "os.chdir(proj_root())"
   ]
  },
  {
   "cell_type": "code",
   "execution_count": 2,
   "metadata": {},
   "outputs": [
    {
     "data": {
      "text/plain": [
       "{'error': None,\n",
       " 'response': {'classes': [],\n",
       "  'funcs': [{'docstring': {'func': None, 'long_descr': None, 'ret': None},\n",
       "    'fn_lc': [[2, 0], [9, 32]],\n",
       "    'fn_var_ln': {'segs': [[3, 4], [3, 8]], 'tree': [[6, 8], [6, 12]]},\n",
       "    'fn_var_occur': {'segs': [['segs', 'append', 'tree', 'attr'],\n",
       "      ['segs', 'append', 'tree', 'id'],\n",
       "      ['tuple', 'reversed', 'segs']],\n",
       "     'tree': [['isinstance', 'tree', 'ast', 'Attribute'],\n",
       "      ['segs', 'append', 'tree', 'attr'],\n",
       "      ['tree', 'tree', 'value'],\n",
       "      ['isinstance', 'tree', 'ast', 'Name'],\n",
       "      ['segs', 'append', 'tree', 'id']]},\n",
       "    'name': 'parse_qualified_name',\n",
       "    'params': {'tree': 'ast.Attribute'},\n",
       "    'params_descr': {'tree': ''},\n",
       "    'params_occur': {'tree': [['isinstance', 'tree', 'ast', 'Attribute'],\n",
       "      ['segs', 'append', 'tree', 'attr'],\n",
       "      ['tree', 'tree', 'value'],\n",
       "      ['isinstance', 'tree', 'ast', 'Name'],\n",
       "      ['segs', 'append', 'tree', 'id']]},\n",
       "    'params_p': {'args': [], 'kwargs': [], 'tree': []},\n",
       "    'q_name': 'parse_qualified_name',\n",
       "    'ret_exprs': ['return tuple(reversed(segs))'],\n",
       "    'ret_type': '',\n",
       "    'ret_type_p': [['int', 0.33333333272983884],\n",
       "     ['Dict[str, Any]', 0.33333333272983884],\n",
       "     ['str', 9.706075425789312e-10],\n",
       "     ['Container[str]', 4.199380474972001e-10]],\n",
       "    'variables': {'segs': '', 'tree': ''},\n",
       "    'variables_p': {'segs': [['list', 0.5876554132417703],\n",
       "      ['List[str]', 0.12660490923610832],\n",
       "      ['Dict[str, Any]', 0.1102941312532389],\n",
       "      ['Dict[str, str]', 0.08174465269642418]],\n",
       "     'tree': [['set', 0.183019067575267]]}}],\n",
       "  'imports': [],\n",
       "  'mod_var_ln': {},\n",
       "  'mod_var_occur': {},\n",
       "  'no_types_annot': {'D': 0, 'I': 0, 'U': 3},\n",
       "  'session_id': 'r4bElKN9Fcurn3KKPttDaIDfJqt14WxsFb_Bzrt0O74',\n",
       "  'set': None,\n",
       "  'tc': [False, None],\n",
       "  'type_annot_cove': 0.0,\n",
       "  'typed_seq': '',\n",
       "  'untyped_seq': '',\n",
       "  'variables': {},\n",
       "  'variables_p': {}}}"
      ]
     },
     "execution_count": 2,
     "metadata": {},
     "output_type": "execute_result"
    }
   ],
   "source": [
    "import requests\n",
    "from spot.utils import proj_root, read_file\n",
    "\n",
    "bad_code = \"\"\"\n",
    "def parse_qualified_name(tree: ast.Attribute):\n",
    "    segs = []\n",
    "    while isinstance(tree, ast.Attribute):\n",
    "        segs.append(tree.attr)\n",
    "        tree = tree.value  # type: ignore\n",
    "    assert isinstance(tree, ast.Name)\n",
    "    segs.append(tree.id)\n",
    "    return tuple(reversed(segs))\n",
    "\"\"\"\n",
    "\n",
    "r = requests.post(\"https://type4py.com/api/predict?tc=0\", bad_code)\n",
    "r.json()\n"
   ]
  },
  {
   "cell_type": "code",
   "execution_count": 3,
   "metadata": {},
   "outputs": [
    {
     "name": "stdout",
     "output_type": "stream",
     "text": [
      "spot.model/parse_qualified_name\n",
      "\tFuncSig(() -> int)\n"
     ]
    }
   ],
   "source": [
    "from spot.experiments.type4py import Type4PyResponseParser\n",
    "from spot.static_analysis import FunctionSignature\n",
    "\n",
    "pred_signatures = Type4PyResponseParser(\"spot.model\").parse(r.json())\n",
    "for path, sig in pred_signatures.items():\n",
    "    if isinstance(sig, FunctionSignature):\n",
    "        print(path)\n",
    "        print(\"\\t\" + str(sig))\n"
   ]
  },
  {
   "cell_type": "code",
   "execution_count": 8,
   "metadata": {},
   "outputs": [
    {
     "name": "stderr",
     "output_type": "stream",
     "text": [
      "Loading test projects: 100%|██████████| 50/50 [00:23<00:00,  2.15it/s]\n"
     ]
    }
   ],
   "source": [
    "from spot.static_analysis import PythonProject\n",
    "from spot.utils import *\n",
    "from spot.model import ModelWrapper\n",
    "from spot.visualization import pretty_print_dict, assert_eq\n",
    "from spot.experiments.type4py import eval_type4py_on_projects\n",
    "from spot.function_dataset import data_project_from_dir\n",
    "\n",
    "\n",
    "dataset_name = \"ManyTypes4Py\"\n",
    "# dataset_name = \"InferTypes4Py\"\n",
    "\n",
    "# test_projects = [PythonProject.from_root(proj_root(), ignore_dirs={\".venv\", \"data\"})]\n",
    "\n",
    "repos_dir = get_dataset_dir(dataset_name) / \"repos\" / \"test\"\n",
    "test_repo_paths = [f for f in repos_dir.iterdir() if f.is_dir()]\n",
    "test_projects = pmap(\n",
    "    data_project_from_dir,\n",
    "    test_repo_paths,\n",
    "    desc=\"Loading test projects\",\n",
    ")\n",
    "cache = PickleCache(Path(f\"caches/run_type4py\"))\n",
    "\n",
    "eval_r = cache.cached(f\"{dataset_name}.pkl\", lambda: eval_type4py_on_projects(test_projects, max_workers=4))\n"
   ]
  },
  {
   "cell_type": "code",
   "execution_count": 9,
   "metadata": {},
   "outputs": [
    {
     "name": "stdout",
     "output_type": "stream",
     "text": [
      "Accuracies on all types:\n",
      "header:  ['full.all', 'calibrated.simple', 'calibrated.complex', 'calibrated.all', 'base.all']\n",
      "34.27 & 35.87 & 19.68 & 34.52 & 35.61\n",
      "Accuracies on common types:\n",
      "header:  ['full.all', 'calibrated.simple', 'calibrated.complex', 'calibrated.all', 'base.all']\n",
      "52.54 & 51.91 & 32.14 & 50.34 & 47.51\n",
      "full_acc:\n",
      "   full_acc: 34.27% (count=15.2k)\n",
      "   full_acc_by_cat:\n",
      "      FuncArg: 28.54% (count=7.5k)\n",
      "      FuncReturn: 45.84% (count=5.7k)\n",
      "      ClassAtribute: 22.67% (count=1.8k)\n",
      "      GlobalVar: 13.33% (count=105)\n",
      "   full_acc_by_simple:\n",
      "      complex: 14.02% (count=1.7k)\n",
      "      simple: 36.92% (count=13.4k)\n",
      "   full_acc_label_size: 1.4294\n",
      "   full_acc_pred_size: 1.2304\n",
      "   full_acc_ignored_labels: 0\n",
      "   n_skipped_types: 271\n",
      "   n_missing_types: 323\n",
      "full_acc_common:\n",
      "   full_acc_common: 52.54% (count=9.8k)\n",
      "   full_acc_common_by_cat:\n",
      "      FuncArg: 50.36% (count=5.0k)\n",
      "      FuncReturn: 55.01% (count=3.8k)\n",
      "      ClassAtribute: 54.56% (count=1.0k)\n",
      "      GlobalVar: 45.24% (count=84)\n",
      "   full_acc_common_by_simple:\n",
      "      complex: 23.00% (count=1.1k)\n",
      "      simple: 56.07% (count=8.8k)\n",
      "   full_acc_common_label_size: 1.3754\n",
      "   full_acc_common_pred_size: 1.2148\n",
      "   full_acc_common_ignored_labels: 5322\n",
      "   n_skipped_types: 271\n",
      "   n_missing_types: 323\n",
      "acc:\n",
      "   acc: 34.52% (count=12.7k)\n",
      "   acc_by_cat:\n",
      "      FuncArg: 34.28% (count=6.2k)\n",
      "      FuncReturn: 34.21% (count=4.9k)\n",
      "      ClassAtribute: 36.02% (count=1.5k)\n",
      "      GlobalVar: 43.30% (count=97)\n",
      "   acc_by_simple:\n",
      "      complex: 19.68% (count=1.1k)\n",
      "      simple: 35.87% (count=11.7k)\n",
      "   acc_label_size: 1.323\n",
      "   acc_pred_size: 1.1596\n",
      "   acc_ignored_labels: 2426\n",
      "   n_skipped_types: 271\n",
      "   n_missing_types: 323\n",
      "acc_common:\n",
      "   acc_common: 50.34% (count=7.4k)\n",
      "   acc_common_by_cat:\n",
      "      FuncArg: 49.48% (count=3.8k)\n",
      "      FuncReturn: 50.47% (count=2.8k)\n",
      "      ClassAtribute: 53.08% (count=844)\n",
      "      GlobalVar: 60.71% (count=56)\n",
      "   acc_common_by_simple:\n",
      "      complex: 32.14% (count=588)\n",
      "      simple: 51.91% (count=6.8k)\n",
      "   acc_common_label_size: 1.3019\n",
      "   acc_common_pred_size: 1.1532\n",
      "   acc_common_ignored_labels: 7730\n",
      "   n_skipped_types: 271\n",
      "   n_missing_types: 323\n",
      "base_acc:\n",
      "   base_acc: 35.61% (count=12.7k)\n",
      "   base_acc_by_cat:\n",
      "      FuncArg: 35.32% (count=6.2k)\n",
      "      FuncReturn: 35.27% (count=4.9k)\n",
      "      ClassAtribute: 37.46% (count=1.5k)\n",
      "      GlobalVar: 43.30% (count=97)\n",
      "   base_acc_ignored_labels: 2426\n",
      "   n_skipped_types: 271\n",
      "   n_missing_types: 323\n",
      "base_acc_common:\n",
      "   base_acc_common: 47.51% (count=8.2k)\n",
      "   base_acc_common_by_cat:\n",
      "      FuncArg: 47.26% (count=4.1k)\n",
      "      FuncReturn: 48.29% (count=3.1k)\n",
      "      ClassAtribute: 46.14% (count=880)\n",
      "      GlobalVar: 43.75% (count=64)\n",
      "   base_acc_common_ignored_labels: 6969\n",
      "   n_skipped_types: 271\n",
      "   n_missing_types: 323\n"
     ]
    }
   ],
   "source": [
    "from spot.static_analysis import SignatureErrorAnalysis, AccuracyMetric\n",
    "from spot.experiments.typet5 import accs_as_table_row\n",
    "\n",
    "\n",
    "common_names = ModelWrapper.load_common_type_names(\n",
    "    get_model_dir() / \"model-v7--TrainingConfig(drop_env_types=False)\"\n",
    ")\n",
    "metrics = AccuracyMetric.default_metrics(common_type_names=common_names)\n",
    "# acc_metric = AccuracyMetric(common_type_names=ubiq_names)\n",
    "\n",
    "accs = {\n",
    "    m.name: SignatureErrorAnalysis(\n",
    "        eval_r.pred_maps,\n",
    "        eval_r.label_maps,\n",
    "        m,\n",
    "        error_on_mismatched_signature=False,\n",
    "    ).accuracies\n",
    "    for m in metrics\n",
    "}\n",
    "\n",
    "accs_as_table_row(accs)\n",
    "pretty_print_dict(accs)"
   ]
  }
 ],
 "metadata": {
  "kernelspec": {
   "display_name": "Python 3.10.4 ('.venv': pipenv)",
   "language": "python",
   "name": "python3"
  },
  "language_info": {
   "codemirror_mode": {
    "name": "ipython",
    "version": 3
   },
   "file_extension": ".py",
   "mimetype": "text/x-python",
   "name": "python",
   "nbconvert_exporter": "python",
   "pygments_lexer": "ipython3",
   "version": "3.10.4"
  },
  "orig_nbformat": 4,
  "vscode": {
   "interpreter": {
    "hash": "f6ffc72953da4dd16b2e00785be9c4013ef131f465a8658f3921b6634d4eeec8"
   }
  }
 },
 "nbformat": 4,
 "nbformat_minor": 2
}
