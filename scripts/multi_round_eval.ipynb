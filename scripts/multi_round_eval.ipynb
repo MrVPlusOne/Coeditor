{
 "cells": [
  {
   "cell_type": "code",
   "execution_count": null,
   "metadata": {},
   "outputs": [],
   "source": [
    "%load_ext autoreload\n",
    "%autoreload 2\n",
    "%load_ext snakeviz\n",
    "%load_ext line_profiler\n",
    "\n",
    "from coeditor.common import *\n",
    "import os\n",
    "from coeditor.model import RetrievalEditorModel, AttentionMode, DecodingArgs, EditCostModel\n",
    "from coeditor.service import EditPredictionService, ChangeDetector\n",
    "from coeditor.c3problem import C3GeneratorCache, C3Problem, C3ProblemTokenizer\n",
    "\n",
    "os.chdir(proj_root())"
   ]
  },
  {
   "cell_type": "code",
   "execution_count": null,
   "metadata": {},
   "outputs": [],
   "source": [
    "# target_dir = proj_root() / \"../SPOT-copy/\"\n",
    "target_dir = proj_root()\n",
    "model_name = \"coeditor-xl-c3-dropout-v1.6-resumed\"\n",
    "model_path = get_model_dir(True) / model_name\n",
    "model = RetrievalEditorModel.load(model_path)\n",
    "model.to(\"cuda:2\")\n"
   ]
  },
  {
   "cell_type": "code",
   "execution_count": null,
   "metadata": {},
   "outputs": [
    {
     "data": {
      "text/plain": [
       "39477"
      ]
     },
     "metadata": {},
     "output_type": "display_data"
    }
   ],
   "source": [
    "testset: list[C3Problem] = pickle_load(\n",
    "    get_dataset_dir(\"xl\")\n",
    "    / \"transformed\"\n",
    "    / \"C3ProblemGenerator(VERSION=2.9)-C3ProblemChangeDropout(VERSION=1.3)\"\n",
    ")[\"test\"]\n",
    "len(testset)\n"
   ]
  },
  {
   "cell_type": "code",
   "execution_count": null,
   "metadata": {},
   "outputs": [
    {
     "name": "stderr",
     "output_type": "stream",
     "text": [
      "100%|██████████| 39477/39477 [00:58<00:00, 669.33it/s] \n"
     ]
    }
   ],
   "source": [
    "subset = list[C3Problem]()\n",
    "for ex in tqdm(testset):\n",
    "    ex = ex.restrict_span_changes()\n",
    "    c = ex.span.get_change()\n",
    "    if len(c.before) <= 6000 and len(c.after) <= 6000:\n",
    "        subset.append(ex)\n"
   ]
  },
  {
   "cell_type": "code",
   "execution_count": null,
   "metadata": {},
   "outputs": [
    {
     "name": "stderr",
     "output_type": "stream",
     "text": [
      "pmap: get_edit_gain: 100%|██████████| 3682/3682 [00:32<00:00, 114.87it/s]\n"
     ]
    },
    {
     "data": {
      "text/plain": [
       "{'mean': 101.811515480717, 'median': 43.0, 'min': 0, 'max': 2399}"
      ]
     },
     "metadata": {},
     "output_type": "display_data"
    }
   ],
   "source": [
    "cm = EditCostModel()\n",
    "subset = subset[0:-1:10]\n",
    "all_costs = pmap(\n",
    "    cm.get_edit_gain,\n",
    "    [ex.span.original.tolist() for ex in subset],\n",
    "    [ex.span.delta for ex in subset],\n",
    ")\n",
    "scalar_stats(all_costs)\n"
   ]
  },
  {
   "cell_type": "code",
   "execution_count": null,
   "metadata": {},
   "outputs": [
    {
     "data": {
      "text/plain": [
       "(array([728., 547., 426., 271., 252., 170., 154., 121.,  93.,  87.,  76.,\n",
       "         51.,  51.,  63.,  37.,  36.,  47.,  39.,  32.,  31.,  22.,  25.,\n",
       "         26.,  11.,  20.,  20.,  17.,  10.,  11.,   9.,  10.,   8.,   5.,\n",
       "          8.,   8.,   5.,   7.,  10.,   9.,   6.]),\n",
       " array([  0. ,  12.5,  25. ,  37.5,  50. ,  62.5,  75. ,  87.5, 100. ,\n",
       "        112.5, 125. , 137.5, 150. , 162.5, 175. , 187.5, 200. , 212.5,\n",
       "        225. , 237.5, 250. , 262.5, 275. , 287.5, 300. , 312.5, 325. ,\n",
       "        337.5, 350. , 362.5, 375. , 387.5, 400. , 412.5, 425. , 437.5,\n",
       "        450. , 462.5, 475. , 487.5, 500. ]),\n",
       " <BarContainer object of 40 artists>)"
      ]
     },
     "metadata": {},
     "output_type": "display_data"
    },
    {
     "data": {
      "image/png": "[encoded data removed]",
      "text/plain": [
       "<Figure size 640x480 with 1 Axes>"
      ]
     },
     "metadata": {},
     "output_type": "display_data"
    }
   ],
   "source": [
    "# plot a histogram of the costs\n",
    "import matplotlib.pyplot as plt\n",
    "\n",
    "plt.hist(all_costs, bins=40, range=(0, 500))\n"
   ]
  },
  {
   "cell_type": "code",
   "execution_count": null,
   "metadata": {},
   "outputs": [
    {
     "data": {
      "text/plain": [
       "1587"
      ]
     },
     "metadata": {},
     "output_type": "display_data"
    }
   ],
   "source": [
    "subset = [ex for i, ex in enumerate(subset) if 50 <= all_costs[i] <= 500]\n",
    "len(subset)\n"
   ]
  },
  {
   "cell_type": "markdown",
   "metadata": {},
   "source": [
    "cm = EditCostModel()\n",
    "%timeit -n 1 -r 3 all_costs = [cm.get_edit_gain(ex.span.original.tolist(), ex.span.delta) for ex in tqdm(testset[:50])]"
   ]
  },
  {
   "cell_type": "code",
   "execution_count": null,
   "metadata": {},
   "outputs": [
    {
     "name": "stderr",
     "output_type": "stream",
     "text": [
      "100%|██████████| 1587/1587 [1:35:15<00:00,  3.60s/it]\n"
     ]
    }
   ],
   "source": [
    "tokenizer = C3ProblemTokenizer(\n",
    "    max_query_tks=1024,\n",
    "    max_ref_tks=1024,\n",
    "    max_output_tks=512,\n",
    "    max_ref_tks_sum=1024 * 12,\n",
    ")\n",
    "dec_args = DecodingArgs(do_sample=False, num_beams=1, length_penalty=0.0)\n",
    "\n",
    "# %lprun -f -u 0.001 RetrievalEditorModel.multi_round_edit_gain\n",
    "multi_stats = [\n",
    "    model.multi_round_edit_gain(ex, tokenizer, dec_args, print_steps=False)\n",
    "    for ex in tqdm(subset, smoothing=0.0)\n",
    "]\n"
   ]
  },
  {
   "cell_type": "code",
   "execution_count": null,
   "metadata": {},
   "outputs": [
    {
     "name": "stdout",
     "output_type": "stream",
     "text": [
      "label_edit_gain:\n",
      "   mean: 149.16\n",
      "   median: 113\n",
      "   min: 50\n",
      "   max: 498\n",
      "first_edit_gain:\n",
      "   mean: 45.066\n",
      "   median: 16\n",
      "   min: 0\n",
      "   max: 467\n",
      "total_edit_gain:\n",
      "   mean: 63.48\n",
      "   median: 51\n",
      "   min: -155\n",
      "   max: 459\n",
      "rounds:\n",
      "   mean: 3.1638\n",
      "   median: 3\n",
      "   min: 1\n",
      "   max: 8\n",
      "For all edits (n=1587):\n",
      "Single-round Gain ratio: 30.21%\n",
      "Multi-round Gain ratio: 42.56%\n",
      "For big edits (n=890):\n",
      "Single-round Gain ratio: 26.75%\n",
      "Multi-round Gain ratio: 40.00%\n"
     ]
    }
   ],
   "source": [
    "keys = [\"label_edit_gain\", \"first_edit_gain\", \"total_edit_gain\", \"rounds\"]\n",
    "stats = {k: scalar_stats([getattr(s, k) for s in multi_stats]) for k in keys}   \n",
    "pretty_print_dict(stats)\n",
    "\n",
    "print(f\"For all edits (n={len(multi_stats)}):\")\n",
    "label_sum = sum(s.label_edit_gain for s in multi_stats)\n",
    "single_sum = sum(s.first_edit_gain for s in multi_stats)\n",
    "multi_sum = sum(s.total_edit_gain for s in multi_stats)\n",
    "print(f\"Single-round Gain ratio: {single_sum / label_sum:.2%}\")\n",
    "print(f\"Multi-round Gain ratio: {multi_sum / label_sum:.2%}\")\n",
    "\n",
    "big_stats = [s for s in multi_stats if 100 <= s.label_edit_gain]\n",
    "print(f\"For big edits (n={len(big_stats)}):\")\n",
    "label_sum = sum(s.label_edit_gain for s in big_stats)\n",
    "single_sum = sum(s.first_edit_gain for s in big_stats)\n",
    "multi_sum = sum(s.total_edit_gain for s in big_stats)\n",
    "print(f\"Single-round Gain ratio: {single_sum / label_sum:.2%}\")\n",
    "print(f\"Multi-round Gain ratio: {multi_sum / label_sum:.2%}\")"
   ]
  },
  {
   "cell_type": "code",
   "execution_count": null,
   "metadata": {},
   "outputs": [
    {
     "name": "stdout",
     "output_type": "stream",
     "text": [
      "--------------------------------------------------------------------------------\n",
      "summary:\n",
      "path: ghost/cli\n",
      "project: EntySec?Ghost\n",
      "commit: CommitInfo(hash='4e25989af187bf9fcb2f3c4d208155a442aa4632', parents=('d480c76b551b6309850059e75bceb2ec24feb252',), msg='Update __init__.py')\n",
      "--------------------------------------------------------------------------------\n",
      "main change:\n",
      "<add>     \"\"\" Ghost Framework command-line interface.\n",
      " <add> \n",
      " <add>     :return None: None\n",
      " <add>     \"\"\"\n",
      " <add> \n",
      "    console = Console()\n",
      "    console.shell()\n",
      "\n",
      "--------------------------------------------------------------------------------\n",
      "edit_line_ids:\n",
      "(0, 1, 2, 3)\n"
     ]
    }
   ],
   "source": [
    "# find the first index where the edit gain is less than 0\n",
    "ex_id = next(i for i, s in enumerate(multi_stats) if s.total_edit_gain < 0)\n",
    "ex = subset[ex_id]\n",
    "ex.print()"
   ]
  },
  {
   "cell_type": "code",
   "execution_count": null,
   "metadata": {},
   "outputs": [
    {
     "name": "stdout",
     "output_type": "stream",
     "text": [
      "--------------------------------------------------------------------------------\n",
      "gold_change:\n",
      "Modified: \n",
      "  +     \"\"\" Ghost Framework command-line interface.\n",
      "  +\n",
      "  +     :return None: None\n",
      "  +     \"\"\"\n",
      "  +\n",
      "        console = Console()\n",
      "        console.shell()\n",
      " \n",
      "Remaining changes:\n",
      "TkDelta(\n",
      "  0: ('<add>     \"\"\" Ghost Framework command-line interface.\\r', '<add> \\r', '<add>     :return None: None\\r')\n",
      "  1: ('<add> \\r',)\n",
      ")\n",
      "insert lines: (0,3), cost=75\n",
      "insert lines: (4,5), cost=4\n",
      "total cost: 79\n",
      "--------------------------------------------------------------------------------\n",
      "round:\n",
      "1\n",
      "--------------------------------------------------------------------------------\n",
      "path: ghost/cli\n",
      "n_references: 1\n",
      "total_reference_tks: 12\n",
      "project: EntySec?Ghost\n",
      "commit: CommitInfo(hash='4e25989af187bf9fcb2f3c4d208155a442aa4632', parents=('d480c76b551b6309850059e75bceb2ec24feb252',), msg='Update __init__.py')\n",
      "========Ground Truth========\n",
      " <0>:<add>     \"\"\" Ghost Framework command-line interface.\n",
      "     <add> \n",
      "     <add>     :return None: None\n",
      " <1>:<add> \n",
      "\n",
      "========Main Code========\n",
      "      # module: ghost\n",
      "      \n",
      "      \n",
      "    + def cli() -> None:\n",
      "    - def cli():\n",
      " <0>+     \"\"\"\n",
      " <1>      console = Console()\n",
      " <2>      console.shell()\n",
      " <3>  \n",
      "      \n",
      "pred change:\n",
      " <1>:<add>     Print a console and exit\n",
      "     <add>     \"\"\"\n",
      "\n",
      "range=(2, 15), loss=37.79,\n",
      "\ttokens='<add>     \"\"\" Ghost Framework command-line interface.\\r\\n'\n",
      "range=(15, 18), loss=2.097,\n",
      "\ttokens='<add> \\r\\n'\n",
      "range=(18, 27), loss=18.55,\n",
      "\ttokens='<add>     :return None: None\\r\\n'\n",
      "range=(28, 31), loss=3.485,\n",
      "\ttokens='<add> \\r\\n'\n",
      "\u001b[31mNo accepted changes.\u001b[0m\n",
      "Most uncertain changes:\n",
      "TkDelta(\n",
      "  0: ('<add>     \"\"\" Ghost Framework command-line interface.\\r',)\n",
      ")\n",
      "insert lines: (0,1), cost=51\n",
      "total cost: 51\n",
      "Remaining changes:\n",
      "TkDelta(\n",
      "  1: ('<add> \\r', '<add>     :return None: None\\r')\n",
      "  2: ('<add> \\r',)\n",
      ")\n",
      "--------------------------------------------------------------------------------\n",
      "round:\n",
      "2\n",
      "--------------------------------------------------------------------------------\n",
      "path: ghost/cli\n",
      "n_references: 1\n",
      "total_reference_tks: 12\n",
      "project: EntySec?Ghost\n",
      "commit: CommitInfo(hash='4e25989af187bf9fcb2f3c4d208155a442aa4632', parents=('d480c76b551b6309850059e75bceb2ec24feb252',), msg='Update __init__.py')\n",
      "========Ground Truth========\n",
      " <0>:<add> \n",
      "     <add>     :return None: None\n",
      " <1>:<add> \n",
      "\n",
      "========Main Code========\n",
      "      # module: ghost\n",
      "      \n",
      "      \n",
      "    + def cli() -> None:\n",
      "    - def cli():\n",
      "    +     \"\"\" Ghost Framework command-line interface.\n",
      " <0>+     \"\"\"\n",
      " <1>      console = Console()\n",
      " <2>      console.shell()\n",
      " <3>  \n",
      "      \n",
      "pred change:\n",
      " <1>:<add>     console = Console()\n",
      "     <del>     console = Console()\n",
      "\n",
      "range=(2, 5), loss=0.9556,\n",
      "\ttokens='<add> \\r\\n'\n",
      "range=(5, 14), loss=19.01,\n",
      "\ttokens='<add>     :return None: None\\r\\n'\n",
      "range=(15, 18), loss=1.895,\n",
      "\ttokens='<add> \\r\\n'\n",
      "\u001b[31mNo accepted changes.\u001b[0m\n",
      "Most uncertain changes:\n",
      "TkDelta(\n",
      "  1: ('<add>     :return None: None\\r',)\n",
      ")\n",
      "insert lines: (1,2), cost=26\n",
      "total cost: 26\n",
      "Remaining changes:\n",
      "TkDelta(\n",
      "  1: ('<add> \\r',)\n",
      "  3: ('<add> \\r',)\n",
      ")\n",
      "--------------------------------------------------------------------------------\n",
      "round:\n",
      "3\n",
      "--------------------------------------------------------------------------------\n",
      "path: ghost/cli\n",
      "n_references: 1\n",
      "total_reference_tks: 12\n",
      "project: EntySec?Ghost\n",
      "commit: CommitInfo(hash='4e25989af187bf9fcb2f3c4d208155a442aa4632', parents=('d480c76b551b6309850059e75bceb2ec24feb252',), msg='Update __init__.py')\n",
      "========Ground Truth========\n",
      " <0>:<add> \n",
      " <2>:<add> \n",
      "\n",
      "========Main Code========\n",
      "      # module: ghost\n",
      "      \n",
      "      \n",
      "    + def cli() -> None:\n",
      "    - def cli():\n",
      "    +     \"\"\" Ghost Framework command-line interface.\n",
      " <0>+     :return None: None\n",
      " <1>+     \"\"\"\n",
      " <2>      console = Console()\n",
      " <3>      console.shell()\n",
      " <4>  \n",
      "      \n",
      "pred change:\n",
      " <0>:<add> \n",
      "     <add>     :param cli: CLI interface.\n",
      " <2>:<add>     if not sys.platform.startswith(\"win\"):\n",
      "     <add>         sys.platform.startswith(\"win\"))\n",
      "     <add>         sys.platform.startswith(\"win\"))\n",
      "     <add>         sys.platform.startswith(\"win\"))\n",
      "     <add>         sys.platform.startswith(\"win\"))\n",
      "     <add>         sys.platform.startswith(\"win\"))\n",
      "     <add>         sys.platform.startswith(\"win\"))\n",
      "     <add>         sys.platform.startswith(\"win\"))\n",
      "     <add>         sys.platform.startswith(\"win\"))\n",
      "     <add>         sys.platform.startswith(\"win\"))\n",
      "     <add>         sys.platform.startswith(\"win\"))\n",
      "     <add>         sys.platform.startswith(\"win\"))\n",
      "     <add>         sys.platform.startswith(\"win\"))\n",
      "     <add>         sys.platform.startswith(\"win\"))\n",
      "     <add>         sys.platform.startswith(\"win\"))\n",
      "     <add>         sys.platform.startswith(\"win\"))\n",
      "     <add>         sys.platform.startswith(\"win\"))\n",
      "     <add>         sys.platform.startswith(\"win\"))\n",
      "     <add>         sys.platform.startswith(\"win\"))\n",
      "     <add>         sys.platform.startswith(\"win\"))\n",
      "     <add>         sys.platform.startswith(\"win\"))\n",
      "     <add>         sys.platform.startswith(\"win\"))\n",
      "     <add>         sys.platform.startswith(\"win\"))\n",
      "     <add>         sys.platform.startswith(\"win\"))\n",
      "     <add>         sys.platform.startswith(\"win\"))\n",
      "     <add>         sys.platform.startswith(\"win\"))\n",
      "     <add>         sys.platform.startswith(\"win\"))\n",
      "     <add>         sys.platform.startswith(\"win\"))\n",
      "     <add>         sys.platform.startswith(\"win\"))\n",
      "     <add>         sys.platform.startswith(\"win\"))\n",
      "     <add>         sys.platform.startswith(\"win\"))\n",
      "     <add>         sys.platform.startswith(\"win\"))\n",
      "     <add>         sys.platform.startswith(\"win\"))\n",
      "     <add>         sys.exit(sys.platform.startswith(\"win\"))\n",
      "     <add>         sys.exit(sys.platform.starts\n",
      "\u001b[32mAccepted changes:\u001b[0m\n",
      "TkDelta(\n",
      "  1: ('<add> \\r',)\n",
      ")\n",
      "Remaining changes:\n",
      "TkDelta(\n",
      "  4: ('<add> \\r',)\n",
      ")\n",
      "--------------------------------------------------------------------------------\n",
      "round:\n",
      "4\n",
      "--------------------------------------------------------------------------------\n",
      "path: ghost/cli\n",
      "n_references: 1\n",
      "total_reference_tks: 12\n",
      "project: EntySec?Ghost\n",
      "commit: CommitInfo(hash='4e25989af187bf9fcb2f3c4d208155a442aa4632', parents=('d480c76b551b6309850059e75bceb2ec24feb252',), msg='Update __init__.py')\n",
      "========Ground Truth========\n",
      " <0>:<add> \n",
      "\n",
      "========Main Code========\n",
      "      # module: ghost\n",
      "      \n",
      "      \n",
      "    + def cli() -> None:\n",
      "    - def cli():\n",
      "    +     \"\"\" Ghost Framework command-line interface.\n",
      "    + \n",
      "    +     :return None: None\n",
      "    +     \"\"\"\n",
      " <0>      console = Console()\n",
      " <1>      console.shell()\n",
      " <2>  \n",
      "      \n",
      "pred change:\n",
      " <0>:<add>     \"\"\"\n",
      "     <add>     :return None: None\n",
      "     <add>     \"\"\"\n",
      "\n",
      "range=(2, 5), loss=1.906,\n",
      "\ttokens='<add> \\r\\n'\n",
      "\u001b[31mNo accepted changes.\u001b[0m\n",
      "Most uncertain changes:\n",
      "TkDelta(\n",
      "  4: ('<add> \\r',)\n",
      ")\n",
      "insert lines: (4,5), cost=4\n",
      "total cost: 4\n",
      "Remaining changes:\n",
      "TkDelta(\n",
      "\n",
      ")\n"
     ]
    },
    {
     "data": {
      "text/plain": [
       "MultiRoundEditStats(label_edit_gain=79, first_edit_gain=0, total_edit_gain=-2, rounds=4)"
      ]
     },
     "metadata": {},
     "output_type": "display_data"
    }
   ],
   "source": [
    "from coeditor.encoding import tokens_to_change, show_change, decode_tokens\n",
    "from dataclasses import replace\n",
    "from coeditor.tk_array import TkArray\n",
    "\n",
    "problem = ex\n",
    "tokenizer = service.c3_tkn\n",
    "dec_args = service.dec_args\n",
    "dec_args.num_beams = 1\n",
    "\n",
    "model.multi_round_edit_gain(problem, service.c3_tkn, dec_args, print_steps=True)"
   ]
  }
 ],
 "metadata": {
  "language_info": {
   "name": "python"
  },
  "orig_nbformat": 4
 },
 "nbformat": 4,
 "nbformat_minor": 2
}
