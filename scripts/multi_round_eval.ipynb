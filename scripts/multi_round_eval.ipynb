{
 "cells": [
  {
   "cell_type": "code",
   "execution_count": 1,
   "metadata": {},
   "outputs": [],
   "source": [
    "%load_ext autoreload\n",
    "%autoreload 2\n",
    "%load_ext snakeviz\n",
    "%load_ext line_profiler\n",
    "\n",
    "from coeditor.common import *\n",
    "import os\n",
    "from coeditor.model import RetrievalEditorModel, AttentionMode, DecodingArgs, EditCostModel, MultiRoundEvaluator, KeystrokeCostModel\n",
    "from coeditor.service import EditPredictionService, ChangeDetector\n",
    "from coeditor.c3problem import C3GeneratorCache, C3Problem, C3ProblemTokenizer\n",
    "\n",
    "os.chdir(proj_root())"
   ]
  },
  {
   "cell_type": "code",
   "execution_count": 2,
   "metadata": {},
   "outputs": [
    {
     "data": {
      "text/plain": [
       "22501"
      ]
     },
     "execution_count": 2,
     "metadata": {},
     "output_type": "execute_result"
    }
   ],
   "source": [
    "testset: list[C3Problem] = pickle_load(\n",
    "    get_dataset_dir(\"perm2k\")\n",
    "    / \"processed\"\n",
    "    / \"C3ProblemGenerator(VERSION=2.9)\"\n",
    ")[\"test\"]\n",
    "len(testset)\n"
   ]
  },
  {
   "cell_type": "code",
   "execution_count": 3,
   "metadata": {},
   "outputs": [
    {
     "name": "stderr",
     "output_type": "stream",
     "text": [
      "100%|██████████| 22501/22501 [00:22<00:00, 1004.40it/s]"
     ]
    },
    {
     "name": "stdout",
     "output_type": "stream",
     "text": [
      "len(subset)=22501\n"
     ]
    },
    {
     "name": "stderr",
     "output_type": "stream",
     "text": [
      "\n"
     ]
    }
   ],
   "source": [
    "subset = list[C3Problem]()\n",
    "for ex in tqdm(testset):\n",
    "    ex = ex.restrict_span_changes()\n",
    "    c = ex.span.get_change()\n",
    "    if len(c.before) <= 6000 and len(c.after) <= 6000:\n",
    "        subset.append(ex)\n",
    "print(f\"{len(subset)=}\")"
   ]
  },
  {
   "cell_type": "code",
   "execution_count": 4,
   "metadata": {},
   "outputs": [
    {
     "name": "stdout",
     "output_type": "stream",
     "text": [
      "len(subset)=500\n"
     ]
    }
   ],
   "source": [
    "subset = subset[0:-1:45]\n",
    "print(f\"{len(subset)=}\")"
   ]
  },
  {
   "cell_type": "code",
   "execution_count": 5,
   "metadata": {},
   "outputs": [
    {
     "name": "stderr",
     "output_type": "stream",
     "text": [
      "pmap: get_edit_gain: 100%|██████████| 500/500 [00:13<00:00, 36.32it/s] \n"
     ]
    },
    {
     "data": {
      "text/plain": [
       "{'mean': 138.86, 'median': 48.5, 'min': 5.0, 'max': 2681.0}"
      ]
     },
     "execution_count": 5,
     "metadata": {},
     "output_type": "execute_result"
    }
   ],
   "source": [
    "cm = KeystrokeCostModel()\n",
    "\n",
    "all_costs = pmap(\n",
    "    cm.get_edit_gain,\n",
    "    [ex.span.original.tolist() for ex in subset],\n",
    "    [ex.span.delta for ex in subset],\n",
    ")\n",
    "scalar_stats(all_costs)"
   ]
  },
  {
   "cell_type": "code",
   "execution_count": 6,
   "metadata": {},
   "outputs": [
    {
     "data": {
      "text/plain": [
       "(array([94., 73., 58., 27., 31., 23., 17.,  9., 12., 21., 10.,  9.,  7.,\n",
       "         6.,  7.,  5.,  3.,  5.,  5.,  8.,  4.,  3.,  2.,  6.,  1.,  1.,\n",
       "         1.,  2.,  6.,  2.,  1.,  3.,  3.,  2.,  2.,  1.,  3.,  0.,  1.,\n",
       "         0.]),\n",
       " array([  0. ,  12.5,  25. ,  37.5,  50. ,  62.5,  75. ,  87.5, 100. ,\n",
       "        112.5, 125. , 137.5, 150. , 162.5, 175. , 187.5, 200. , 212.5,\n",
       "        225. , 237.5, 250. , 262.5, 275. , 287.5, 300. , 312.5, 325. ,\n",
       "        337.5, 350. , 362.5, 375. , 387.5, 400. , 412.5, 425. , 437.5,\n",
       "        450. , 462.5, 475. , 487.5, 500. ]),\n",
       " <BarContainer object of 40 artists>)"
      ]
     },
     "execution_count": 6,
     "metadata": {},
     "output_type": "execute_result"
    },
    {
     "data": {
      "image/png": "[encoded data removed]",
      "text/plain": [
       "<Figure size 640x480 with 1 Axes>"
      ]
     },
     "metadata": {},
     "output_type": "display_data"
    }
   ],
   "source": [
    "# plot a histogram of the costs\n",
    "import matplotlib.pyplot as plt\n",
    "\n",
    "plt.hist(all_costs, bins=40, range=(0, 500))\n"
   ]
  },
  {
   "cell_type": "code",
   "execution_count": 7,
   "metadata": {},
   "outputs": [
    {
     "data": {
      "text/plain": [
       "336"
      ]
     },
     "execution_count": 7,
     "metadata": {},
     "output_type": "execute_result"
    }
   ],
   "source": [
    "subset = [ex for i, ex in enumerate(subset) if 20 <= all_costs[i] <= 500]\n",
    "len(subset)\n"
   ]
  },
  {
   "cell_type": "markdown",
   "metadata": {},
   "source": [
    "cm = EditCostModel()\n",
    "%timeit -n 1 -r 3 all_costs = [cm.get_edit_gain(ex.span.original.tolist(), ex.span.delta) for ex in tqdm(testset[:50])]"
   ]
  },
  {
   "cell_type": "code",
   "execution_count": 8,
   "metadata": {},
   "outputs": [],
   "source": [
    "tokenizer = C3ProblemTokenizer(\n",
    "    max_query_tks=1024,\n",
    "    max_ref_tks=1024,\n",
    "    max_output_tks=512,\n",
    "    max_ref_tks_sum=1024 * 15,\n",
    ")\n",
    "dense_tokenizer = C3ProblemTokenizer(\n",
    "    max_query_tks=1024,\n",
    "    max_ref_tks=1024,\n",
    "    max_output_tks=512,\n",
    "    max_ref_tks_sum=1024 * 3,\n",
    ")\n",
    "\n",
    "model_tkn_map = {\n",
    "    \"coeditor-perm2k-c3-multi-v1.7.3\": tokenizer,\n",
    "    \"coeditor-perm2k-c3-multi-dense_attention-v1.7.3\": dense_tokenizer,\n",
    "    \"coeditor-perm2k-c3-multi-no_change-v1.7.3\": tokenizer,\n",
    "    \"coeditor-perm2k-c3-multi-no_defs-v1.7.2\": tokenizer,\n",
    "}\n",
    "\n",
    "dec_args = DecodingArgs(do_sample=False, num_beams=1, length_penalty=0.0)"
   ]
  },
  {
   "cell_type": "code",
   "execution_count": 9,
   "metadata": {},
   "outputs": [
    {
     "name": "stdout",
     "output_type": "stream",
     "text": [
      "Evaluating coeditor-perm2k-c3-multi-no_change-v1.7.3...\n"
     ]
    },
    {
     "name": "stderr",
     "output_type": "stream",
     "text": [
      "100%|██████████| 336/336 [24:57<00:00,  4.46s/it]\n"
     ]
    },
    {
     "name": "stdout",
     "output_type": "stream",
     "text": [
      "Evaluating coeditor-perm2k-c3-multi-no_defs-v1.7.2...\n"
     ]
    },
    {
     "name": "stderr",
     "output_type": "stream",
     "text": [
      "100%|██████████| 336/336 [26:39<00:00,  4.76s/it]\n"
     ]
    }
   ],
   "source": [
    "results = dict[str, Any]()\n",
    "for name, tkn in list(model_tkn_map.items())[2:]:\n",
    "    print(f\"Evaluating {name}...\")\n",
    "    target_dir = proj_root()\n",
    "    model_path = get_model_dir(True) / name\n",
    "    model = RetrievalEditorModel.load(model_path)\n",
    "    model.to(\"cuda:2\")\n",
    "\n",
    "    evaluator = MultiRoundEvaluator(model, tkn, dec_args, strategy=\"most_uncertain\")\n",
    "    multi_stats = [\n",
    "        evaluator.multi_round_edit_gain(ex, print_steps=False)\n",
    "        for ex in tqdm(subset, smoothing=0.0)\n",
    "    ]\n",
    "    results[name] = multi_stats\n",
    "    model.to(\"cpu\")\n",
    "    del model\n"
   ]
  },
  {
   "cell_type": "code",
   "execution_count": 1,
   "metadata": {},
   "outputs": [
    {
     "ename": "NameError",
     "evalue": "name 'results' is not defined",
     "output_type": "error",
     "traceback": [
      "\u001b[0;31m---------------------------------------------------------------------------\u001b[0m",
      "\u001b[0;31mNameError\u001b[0m                                 Traceback (most recent call last)",
      "Cell \u001b[0;32mIn[1], line 1\u001b[0m\n\u001b[0;32m----> 1\u001b[0m \u001b[39mfor\u001b[39;00m name, stats \u001b[39min\u001b[39;00m results\u001b[39m.\u001b[39mitems():\n\u001b[1;32m      2\u001b[0m     cm \u001b[39m=\u001b[39m KeystrokeCostModel()\n\u001b[1;32m      3\u001b[0m     cm_name \u001b[39m=\u001b[39m cm\u001b[39m.\u001b[39mname\n",
      "\u001b[0;31mNameError\u001b[0m: name 'results' is not defined"
     ]
    }
   ],
   "source": [
    "for name, stats in results.items():\n",
    "    cm = KeystrokeCostModel()\n",
    "    cm_name = cm.name\n",
    "    print(SEP)\n",
    "    print(\"Model name:\", name)\n",
    "    stats = [s[cm_name] for s in multi_stats]\n",
    "\n",
    "    keys = [\"label_edit_gain\", \"first_edit_gain\", \"total_edit_gain\", \"rounds\"]\n",
    "    mean_stats = {k: scalar_stats([getattr(s, k) for s in stats]) for k in keys}   \n",
    "    pretty_print_dict(mean_stats)\n",
    "\n",
    "    print(f\"For all edits (n={len(stats)}):\")\n",
    "    label_sum = sum(s.label_edit_gain for s in stats)\n",
    "    single_sum = sum(s.first_edit_gain for s in stats)\n",
    "    multi_sum = sum(s.total_edit_gain for s in stats)\n",
    "    print(f\"Single-round Gain ratio: {single_sum / label_sum:.2%}\")\n",
    "    print(f\"Multi-round Gain ratio: {multi_sum / label_sum:.2%}\")"
   ]
  },
  {
   "cell_type": "code",
   "execution_count": 9,
   "metadata": {},
   "outputs": [
    {
     "name": "stdout",
     "output_type": "stream",
     "text": [
      "--------------------------------------------------------------------------------\n",
      "Cost model: keystrokes\n",
      "label_edit_gain: {mean: 149.09, median: 113, min: 50, max: 498}\n",
      "first_edit_gain: {mean: 44.772, median: 16, min: 0, max: 467}\n",
      "total_edit_gain: {mean: 63.585, median: 51, min: -155, max: 459}\n",
      "rounds: {mean: 3.1638, median: 3, min: 1, max: 8}\n",
      "For all edits (n=1587):\n",
      "Single-round Gain ratio: 30.03%\n",
      "Multi-round Gain ratio: 42.65%\n",
      "--------------------------------------------------------------------------------\n",
      "Cost model: diff-lines\n",
      "label_edit_gain: {mean: 66.928, median: 53, min: 8, max: 631}\n",
      "first_edit_gain: {mean: 23.029, median: 9, min: 0, max: 452}\n",
      "total_edit_gain: {mean: 36.101, median: 26, min: 0, max: 530}\n",
      "rounds: {mean: 3.1638, median: 3, min: 1, max: 8}\n",
      "For all edits (n=1587):\n",
      "Single-round Gain ratio: 34.41%\n",
      "Multi-round Gain ratio: 53.94%\n",
      "--------------------------------------------------------------------------------\n",
      "Cost model: levenshtein\n",
      "label_edit_gain: {mean: 157.9, median: 112, min: 12, max: 1447}\n",
      "first_edit_gain: {mean: 55.214, median: 14, min: 0, max: 1146}\n",
      "total_edit_gain: {mean: 63.313, median: 41, min: -530, max: 942}\n",
      "rounds: {mean: 3.1638, median: 3, min: 1, max: 8}\n",
      "For all edits (n=1587):\n",
      "Single-round Gain ratio: 34.97%\n",
      "Multi-round Gain ratio: 40.10%\n"
     ]
    }
   ],
   "source": [
    "for cm in evaluator.cost_models:\n",
    "    cm_name = cm.name\n",
    "    print(SEP)\n",
    "    print(\"Cost model:\", cm_name)\n",
    "    stats = [s[cm_name] for s in multi_stats]\n",
    "\n",
    "    keys = [\"label_edit_gain\", \"first_edit_gain\", \"total_edit_gain\", \"rounds\"]\n",
    "    mean_stats = {k: scalar_stats([getattr(s, k) for s in stats]) for k in keys}   \n",
    "    pretty_print_dict(mean_stats)\n",
    "\n",
    "    print(f\"For all edits (n={len(stats)}):\")\n",
    "    label_sum = sum(s.label_edit_gain for s in stats)\n",
    "    single_sum = sum(s.first_edit_gain for s in stats)\n",
    "    multi_sum = sum(s.total_edit_gain for s in stats)\n",
    "    print(f\"Single-round Gain ratio: {single_sum / label_sum:.2%}\")\n",
    "    print(f\"Multi-round Gain ratio: {multi_sum / label_sum:.2%}\")\n",
    "\n",
    "    # big_stats = [s for s in stats if 100 <= s.label_edit_gain]\n",
    "    # print(f\"For big edits (n={len(big_stats)}):\")\n",
    "    # label_sum = sum(s.label_edit_gain for s in big_stats)\n",
    "    # single_sum = sum(s.first_edit_gain for s in big_stats)\n",
    "    # multi_sum = sum(s.total_edit_gain for s in big_stats)\n",
    "    # print(f\"Single-round Gain ratio: {single_sum / label_sum:.2%}\")\n",
    "    # print(f\"Multi-round Gain ratio: {multi_sum / label_sum:.2%}\")"
   ]
  },
  {
   "cell_type": "code",
   "execution_count": 3,
   "metadata": {},
   "outputs": [
    {
     "ename": "NameError",
     "evalue": "name 'random' is not defined",
     "output_type": "error",
     "traceback": [
      "\u001b[0;31m---------------------------------------------------------------------------\u001b[0m",
      "\u001b[0;31mNameError\u001b[0m                                 Traceback (most recent call last)",
      "Cell \u001b[0;32mIn[3], line 2\u001b[0m\n\u001b[1;32m      1\u001b[0m \u001b[39m# find the first index where the edit gain is less than 0\u001b[39;00m\n\u001b[0;32m----> 2\u001b[0m ex_id \u001b[39m=\u001b[39m random\u001b[39m.\u001b[39mchoice([i \u001b[39mfor\u001b[39;00m i, s \u001b[39min\u001b[39;00m \u001b[39menumerate\u001b[39m(multi_stats) \u001b[39mif\u001b[39;00m s[\u001b[39m\"\u001b[39m\u001b[39mlevenshtein\u001b[39m\u001b[39m\"\u001b[39m]\u001b[39m.\u001b[39mrounds \u001b[39m>\u001b[39m \u001b[39m1\u001b[39m \u001b[39mand\u001b[39;00m s[\u001b[39m\"\u001b[39m\u001b[39mlevenshtein\u001b[39m\u001b[39m\"\u001b[39m]\u001b[39m.\u001b[39mlabel_edit_gain \u001b[39m>\u001b[39m s[\u001b[39m\"\u001b[39m\u001b[39mlevenshtein\u001b[39m\u001b[39m\"\u001b[39m]\u001b[39m.\u001b[39mtotal_edit_gain \u001b[39m>\u001b[39m \u001b[39m90\u001b[39m])\n\u001b[1;32m      3\u001b[0m ex \u001b[39m=\u001b[39m subset[ex_id]\n\u001b[1;32m      4\u001b[0m ex\u001b[39m.\u001b[39mprint()\n",
      "\u001b[0;31mNameError\u001b[0m: name 'random' is not defined"
     ]
    }
   ],
   "source": [
    "# find the first index where the edit gain is less than 0\n",
    "ex_id = random.choice([i for i, s in enumerate(multi_stats) if s[\"levenshtein\"].rounds > 1 and s[\"levenshtein\"].label_edit_gain > s[\"levenshtein\"].total_edit_gain > 90])\n",
    "ex = subset[ex_id]\n",
    "ex.print()"
   ]
  }
 ],
 "metadata": {
  "kernelspec": {
   "display_name": ".venv",
   "language": "python",
   "name": "python3"
  },
  "language_info": {
   "codemirror_mode": {
    "name": "ipython",
    "version": 3
   },
   "file_extension": ".py",
   "mimetype": "text/x-python",
   "name": "python",
   "nbconvert_exporter": "python",
   "pygments_lexer": "ipython3",
   "version": "3.11.0"
  },
  "orig_nbformat": 4
 },
 "nbformat": 4,
 "nbformat_minor": 2
}
