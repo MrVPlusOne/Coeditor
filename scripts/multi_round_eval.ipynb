{
 "cells": [
  {
   "cell_type": "code",
   "execution_count": 1,
   "metadata": {},
   "outputs": [],
   "source": [
    "%load_ext autoreload\n",
    "%autoreload 2\n",
    "%load_ext snakeviz\n",
    "%load_ext line_profiler\n",
    "\n",
    "from coeditor.common import *\n",
    "import os\n",
    "from coeditor.model import RetrievalEditorModel, AttentionMode, DecodingArgs, EditCostModel, MultiRoundEvaluator\n",
    "from coeditor.service import EditPredictionService, ChangeDetector\n",
    "from coeditor.c3problem import C3GeneratorCache, C3Problem, C3ProblemTokenizer\n",
    "\n",
    "os.chdir(proj_root())"
   ]
  },
  {
   "cell_type": "code",
   "execution_count": 2,
   "metadata": {},
   "outputs": [],
   "source": [
    "# target_dir = proj_root() / \"../SPOT-copy/\"\n",
    "target_dir = proj_root()\n",
    "model_name = \"coeditor-xl-c3-dropout-v1.6-resumed\"\n",
    "model_path = get_model_dir(True) / model_name\n",
    "model = RetrievalEditorModel.load(model_path)\n",
    "model.to(\"cuda:2\")\n",
    "pass"
   ]
  },
  {
   "cell_type": "code",
   "execution_count": 3,
   "metadata": {},
   "outputs": [
    {
     "data": {
      "text/plain": [
       "1489"
      ]
     },
     "execution_count": 3,
     "metadata": {},
     "output_type": "execute_result"
    }
   ],
   "source": [
    "testset: list[C3Problem] = pickle_load(\n",
    "    get_dataset_dir(\"xl\")\n",
    "    / \"transformed\"\n",
    "    / \"C3ProblemGenerator(VERSION=2.9)-C3ProblemChangeDropout(VERSION=1.3)\"\n",
    ")[\"test\"]\n",
    "len(testset)\n"
   ]
  },
  {
   "cell_type": "code",
   "execution_count": 4,
   "metadata": {},
   "outputs": [
    {
     "name": "stderr",
     "output_type": "stream",
     "text": [
      "100%|██████████| 1489/1489 [00:01<00:00, 1212.66it/s]\n"
     ]
    }
   ],
   "source": [
    "subset = list[C3Problem]()\n",
    "for ex in tqdm(testset):\n",
    "    ex = ex.restrict_span_changes()\n",
    "    c = ex.span.get_change()\n",
    "    if len(c.before) <= 6000 and len(c.after) <= 6000:\n",
    "        subset.append(ex)\n"
   ]
  },
  {
   "cell_type": "code",
   "execution_count": 5,
   "metadata": {},
   "outputs": [
    {
     "name": "stderr",
     "output_type": "stream",
     "text": [
      "pmap: get_edit_gain: 100%|██████████| 148/148 [00:01<00:00, 111.37it/s]\n"
     ]
    },
    {
     "data": {
      "text/plain": [
       "{'mean': 74.12837837837837, 'median': 38.5, 'min': 5, 'max': 617}"
      ]
     },
     "execution_count": 5,
     "metadata": {},
     "output_type": "execute_result"
    }
   ],
   "source": [
    "cm = EditCostModel()\n",
    "subset = subset[0:-1:10]\n",
    "all_costs = pmap(\n",
    "    cm.get_edit_gain,\n",
    "    [ex.span.original.tolist() for ex in subset],\n",
    "    [ex.span.delta for ex in subset],\n",
    ")\n",
    "scalar_stats(all_costs)"
   ]
  },
  {
   "cell_type": "code",
   "execution_count": 6,
   "metadata": {},
   "outputs": [
    {
     "data": {
      "text/plain": [
       "(array([28., 26., 18., 18., 13.,  7.,  4.,  3.,  4.,  2.,  3.,  1.,  2.,\n",
       "         1.,  2.,  2.,  1.,  0.,  2.,  3.,  0.,  1.,  0.,  0.,  0.,  1.,\n",
       "         0.,  0.,  0.,  0.,  1.,  1.,  1.,  0.,  0.,  1.,  0.,  0.,  1.,\n",
       "         0.]),\n",
       " array([  0. ,  12.5,  25. ,  37.5,  50. ,  62.5,  75. ,  87.5, 100. ,\n",
       "        112.5, 125. , 137.5, 150. , 162.5, 175. , 187.5, 200. , 212.5,\n",
       "        225. , 237.5, 250. , 262.5, 275. , 287.5, 300. , 312.5, 325. ,\n",
       "        337.5, 350. , 362.5, 375. , 387.5, 400. , 412.5, 425. , 437.5,\n",
       "        450. , 462.5, 475. , 487.5, 500. ]),\n",
       " <BarContainer object of 40 artists>)"
      ]
     },
     "execution_count": 6,
     "metadata": {},
     "output_type": "execute_result"
    },
    {
     "data": {
      "image/png": "[encoded data removed]",
      "text/plain": [
       "<Figure size 640x480 with 1 Axes>"
      ]
     },
     "metadata": {},
     "output_type": "display_data"
    }
   ],
   "source": [
    "# plot a histogram of the costs\n",
    "import matplotlib.pyplot as plt\n",
    "\n",
    "plt.hist(all_costs, bins=40, range=(0, 500))\n"
   ]
  },
  {
   "cell_type": "code",
   "execution_count": 7,
   "metadata": {},
   "outputs": [
    {
     "data": {
      "text/plain": [
       "57"
      ]
     },
     "execution_count": 7,
     "metadata": {},
     "output_type": "execute_result"
    }
   ],
   "source": [
    "subset = [ex for i, ex in enumerate(subset) if 50 <= all_costs[i] <= 500]\n",
    "len(subset)\n"
   ]
  },
  {
   "cell_type": "markdown",
   "metadata": {},
   "source": [
    "cm = EditCostModel()\n",
    "%timeit -n 1 -r 3 all_costs = [cm.get_edit_gain(ex.span.original.tolist(), ex.span.delta) for ex in tqdm(testset[:50])]"
   ]
  },
  {
   "cell_type": "code",
   "execution_count": 10,
   "metadata": {},
   "outputs": [
    {
     "name": "stderr",
     "output_type": "stream",
     "text": [
      "100%|██████████| 57/57 [02:21<00:00,  2.48s/it]\n"
     ]
    }
   ],
   "source": [
    "tokenizer = C3ProblemTokenizer(\n",
    "    max_query_tks=1024,\n",
    "    max_ref_tks=1024,\n",
    "    max_output_tks=512,\n",
    "    max_ref_tks_sum=1024 * 12,\n",
    ")\n",
    "dec_args = DecodingArgs(do_sample=False, num_beams=1, length_penalty=0.0)\n",
    "\n",
    "# %lprun -f -u 0.001 RetrievalEditorModel.multi_round_edit_gain\n",
    "evaluator = MultiRoundEvaluator(model, tokenizer, dec_args, strategy=\"least_effort\")\n",
    "multi_stats = [\n",
    "    evaluator.multi_round_edit_gain(ex, print_steps=False)\n",
    "    for ex in tqdm(subset, smoothing=0.0)\n",
    "]\n"
   ]
  },
  {
   "cell_type": "code",
   "execution_count": 11,
   "metadata": {},
   "outputs": [
    {
     "name": "stdout",
     "output_type": "stream",
     "text": [
      "label_edit_gain:\n",
      "   mean: 146.4\n",
      "   median: 102\n",
      "   min: 51\n",
      "   max: 487\n",
      "first_edit_gain:\n",
      "   mean: 45.088\n",
      "   median: 4\n",
      "   min: 0\n",
      "   max: 487\n",
      "total_edit_gain:\n",
      "   mean: 48.789\n",
      "   median: 21\n",
      "   min: -45\n",
      "   max: 487\n",
      "rounds:\n",
      "   mean: 2.7544\n",
      "   median: 2\n",
      "   min: 1\n",
      "   max: 8\n",
      "For all edits (n=57):\n",
      "Single-round Gain ratio: 30.80%\n",
      "Multi-round Gain ratio: 33.33%\n",
      "For big edits (n=30):\n",
      "Single-round Gain ratio: 30.32%\n",
      "Multi-round Gain ratio: 31.12%\n"
     ]
    }
   ],
   "source": [
    "keys = [\"label_edit_gain\", \"first_edit_gain\", \"total_edit_gain\", \"rounds\"]\n",
    "stats = {k: scalar_stats([getattr(s, k) for s in multi_stats]) for k in keys}   \n",
    "pretty_print_dict(stats)\n",
    "\n",
    "print(f\"For all edits (n={len(multi_stats)}):\")\n",
    "label_sum = sum(s.label_edit_gain for s in multi_stats)\n",
    "single_sum = sum(s.first_edit_gain for s in multi_stats)\n",
    "multi_sum = sum(s.total_edit_gain for s in multi_stats)\n",
    "print(f\"Single-round Gain ratio: {single_sum / label_sum:.2%}\")\n",
    "print(f\"Multi-round Gain ratio: {multi_sum / label_sum:.2%}\")\n",
    "\n",
    "big_stats = [s for s in multi_stats if 100 <= s.label_edit_gain]\n",
    "print(f\"For big edits (n={len(big_stats)}):\")\n",
    "label_sum = sum(s.label_edit_gain for s in big_stats)\n",
    "single_sum = sum(s.first_edit_gain for s in big_stats)\n",
    "multi_sum = sum(s.total_edit_gain for s in big_stats)\n",
    "print(f\"Single-round Gain ratio: {single_sum / label_sum:.2%}\")\n",
    "print(f\"Multi-round Gain ratio: {multi_sum / label_sum:.2%}\")"
   ]
  },
  {
   "cell_type": "code",
   "execution_count": 10,
   "metadata": {},
   "outputs": [
    {
     "name": "stdout",
     "output_type": "stream",
     "text": [
      "--------------------------------------------------------------------------------\n",
      "summary:\n",
      "path: gym.envs.classic_control.rendering/SimpleImageViewer.close\n",
      "project: gym\n",
      "commit: CommitInfo(hash='12e8b763d5dcda4962cbd17887d545f0eec6808a', parents=('01a381669bc8129545ac347cf3b7f9346f6ff898',), msg='a few minor changes: (#1250)')\n",
      "--------------------------------------------------------------------------------\n",
      "main change:\n",
      "<add>         if self.isopen and sys.meta_path:\n",
      " <add>             # ^^^ check sys.meta_path to avoid 'ImportError: sys.meta_path is None, Python is likely shutting down'\n",
      " <del>         if self.isopen:\n",
      "            self.window.close()\n",
      "            self.isopen = False\n",
      "\n",
      "--------------------------------------------------------------------------------\n",
      "edit_line_ids:\n",
      "range(0, 4)\n"
     ]
    }
   ],
   "source": [
    "# find the first index where the edit gain is less than 0\n",
    "ex_id = next(i for i, s in enumerate(multi_stats) if s.total_edit_gain < 0)\n",
    "ex = subset[ex_id]\n",
    "ex.print()"
   ]
  },
  {
   "cell_type": "code",
   "execution_count": 11,
   "metadata": {},
   "outputs": [
    {
     "name": "stdout",
     "output_type": "stream",
     "text": [
      "--------------------------------------------------------------------------------\n",
      "gold_change:\n",
      "Modified: \n",
      "  +         if self.isopen and sys.meta_path:\n",
      "  +             # ^^^ check sys.meta_path to avoid 'ImportError: sys.meta_path is None, Python is likely shutting down'\n",
      "  -         if self.isopen:\n",
      "                self.window.close()\n",
      "                self.isopen = False\n",
      " \n",
      "Remaining changes:\n",
      "TkDelta(\n",
      "  0: ('<add>         if self.isopen and sys.meta_path:', \"<add>             # ^^^ check sys.meta_path to avoid 'ImportError: sys.meta_path is None, Python is likely shutting down'\", '<del>')\n",
      ")\n",
      "replace lines: (0,1) -> (0,2), cost=139\n",
      "  -         if self.isopen:\n",
      "  +         if self.isopen and sys.meta_path:\n",
      "  +             # ^^^ check sys.meta_path to avoid 'ImportError: sys.meta_path is None, Python is likely shutting down'\n",
      "total cost: 139\n",
      "--------------------------------------------------------------------------------\n",
      "round:\n",
      "1\n",
      "--------------------------------------------------------------------------------\n",
      "path: gym.envs.classic_control.rendering/SimpleImageViewer.close\n",
      "n_references: 3\n",
      "total_reference_tks: 1006\n",
      "project: gym\n",
      "commit: CommitInfo(hash='12e8b763d5dcda4962cbd17887d545f0eec6808a', parents=('01a381669bc8129545ac347cf3b7f9346f6ff898',), msg='a few minor changes: (#1250)')\n",
      "========Ground Truth========\n",
      " <0>:<add>         if self.isopen and sys.meta_path:\n",
      "     <add>             # ^^^ check sys.meta_path to avoid 'ImportError: sys.meta_path is None, Python is likely shutting down'\n",
      "     <del>         if self.isopen:\n",
      "\n",
      "========Main Code========\n",
      "      # module: gym.envs.classic_control.rendering\n",
      "      # ================================================================\n",
      "      \n",
      "      class SimpleImageViewer(object):\n",
      "          def close(self):\n",
      " <0>          if self.isopen:\n",
      " <1>              self.window.close()\n",
      " <2>              self.isopen = False\n",
      " <3>  \n",
      "      \n",
      "pred change:\n",
      " <3>:<add>         if sys.meta_path[0] == 'gym.envs':\n",
      "     <add>             self.window.close()\n",
      "\n",
      "insert lines: (0,1), cost=45\n",
      "total cost: 45\n",
      "insert lines: (0,1), cost=119\n",
      "total cost: 119\n",
      "\u001b[31mNo accepted changes.\u001b[0m\n",
      "Most uncertain changes:\n",
      "TkDelta(\n",
      "  0: ('<add>         if self.isopen and sys.meta_path:',)\n",
      ")\n",
      "insert lines: (0,1), cost=45\n",
      "total cost: 45\n",
      "Remaining changes:\n",
      "TkDelta(\n",
      "  1: (\"<add>             # ^^^ check sys.meta_path to avoid 'ImportError: sys.meta_path is None, Python is likely shutting down'\", '<del>')\n",
      ")\n",
      "--------------------------------------------------------------------------------\n",
      "round:\n",
      "2\n",
      "--------------------------------------------------------------------------------\n",
      "path: gym.envs.classic_control.rendering/SimpleImageViewer.close\n",
      "n_references: 3\n",
      "total_reference_tks: 1006\n",
      "project: gym\n",
      "commit: CommitInfo(hash='12e8b763d5dcda4962cbd17887d545f0eec6808a', parents=('01a381669bc8129545ac347cf3b7f9346f6ff898',), msg='a few minor changes: (#1250)')\n",
      "========Ground Truth========\n",
      " <0>:<add>             # ^^^ check sys.meta_path to avoid 'ImportError: sys.meta_path is None, Python is likely shutting down'\n",
      "     <del>         if self.isopen:\n",
      "\n",
      "========Main Code========\n",
      "      # module: gym.envs.classic_control.rendering\n",
      "      # ================================================================\n",
      "      \n",
      "      class SimpleImageViewer(object):\n",
      "          def close(self):\n",
      "    +         if self.isopen and sys.meta_path:\n",
      " <0>          if self.isopen:\n",
      " <1>              self.window.close()\n",
      " <2>              self.isopen = False\n",
      " <3>  \n",
      "      \n",
      "pred change:\n",
      " <0>:<add>             if self.window is not None:\n",
      "     <del>         if self.isopen:\n",
      " <1>:<add>                 self.window.close()\n",
      "     <del>             self.window.close()\n",
      " <2>:<add>                 self.isopen = False\n",
      "     <del>             self.isopen = False\n",
      "\n",
      "insert lines: (0,1), cost=119\n",
      "total cost: 119\n",
      "\u001b[31mNo accepted changes.\u001b[0m\n",
      "Most uncertain changes:\n",
      "TkDelta(\n",
      "  1: (\"<add>             # ^^^ check sys.meta_path to avoid 'ImportError: sys.meta_path is None, Python is likely shutting down'\", '<del>')\n",
      ")\n",
      "replace lines: (0,1) -> (0,1), cost=117\n",
      "  -         if self.isopen:\n",
      "  +             # ^^^ check sys.meta_path to avoid 'ImportError: sys.meta_path is None, Python is likely shutting down'\n",
      "total cost: 117\n",
      "Remaining changes:\n",
      "TkDelta(\n",
      "\n",
      ")\n"
     ]
    },
    {
     "data": {
      "text/plain": [
       "MultiRoundEditStats(label_edit_gain=139, first_edit_gain=0, total_edit_gain=-23, rounds=2)"
      ]
     },
     "execution_count": 11,
     "metadata": {},
     "output_type": "execute_result"
    }
   ],
   "source": [
    "evaluator.multi_round_edit_gain(ex, print_steps=True)"
   ]
  }
 ],
 "metadata": {
  "kernelspec": {
   "display_name": ".venv",
   "language": "python",
   "name": "python3"
  },
  "language_info": {
   "codemirror_mode": {
    "name": "ipython",
    "version": 3
   },
   "file_extension": ".py",
   "mimetype": "text/x-python",
   "name": "python",
   "nbconvert_exporter": "python",
   "pygments_lexer": "ipython3",
   "version": "3.11.0"
  },
  "orig_nbformat": 4
 },
 "nbformat": 4,
 "nbformat_minor": 2
}
