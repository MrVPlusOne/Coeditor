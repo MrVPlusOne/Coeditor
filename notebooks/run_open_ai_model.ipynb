{
 "cells": [
  {
   "cell_type": "code",
   "execution_count": 1,
   "metadata": {},
   "outputs": [],
   "source": [
    "%load_ext autoreload\n",
    "%autoreload 2"
   ]
  },
  {
   "cell_type": "code",
   "execution_count": 5,
   "metadata": {},
   "outputs": [],
   "source": [
    "import os\n",
    "from coeditor.common import proj_root\n",
    "os.environ[\"OPENAI_API_KEY\"] = (proj_root().parent / \"openai_api_key.txt\").read_text().strip()"
   ]
  },
  {
   "cell_type": "code",
   "execution_count": 6,
   "metadata": {},
   "outputs": [
    {
     "name": "stdout",
     "output_type": "stream",
     "text": [
      "You are a programming expert tasked to fill in a missing line for a given Python code \n",
      "snippet. The snippet may habe been truncated from both ends, and the missing line is \n",
      "indicated by a special token `<MISSING LINE>`. \n",
      "You should output the missing line (along with any leading whitespaces) and \n",
      "nothing more. For example, if the input is\n",
      "```\n",
      "def fib(n):\n",
      "    if n < 2:\n",
      "<MISSING LINE>\n",
      "    else:\n",
      "        return fib(n-1) + fib(\n",
      "```\n",
      "Your output should be \"        return 1\" (without the quotes) and nothing more.\n",
      "\n",
      "Now fill in the code snippet below:\n",
      "```\n",
      "def factorial(n):\n",
      "    if n == 0: \n",
      "<MISSING LINE>\n",
      "    else:\n",
      "        return n * factorial(n-1)\n",
      "\n",
      "\n",
      "```\n",
      "Your output:\n",
      "\n",
      "\n",
      "--------------------------------------------------------------------------------\n",
      "End of Prompt\n",
      "--------------------------------------------------------------------------------\n"
     ]
    },
    {
     "data": {
      "text/plain": [
       "'        return 1'"
      ]
     },
     "execution_count": 6,
     "metadata": {},
     "output_type": "execute_result"
    }
   ],
   "source": [
    "from coeditor.experiments.openai_gpt import OpenAIGptWrapper\n",
    "\n",
    "prompt = \"\"\"\\\n",
    "def factorial(n):\n",
    "    if n == 0: \n",
    "<INSERT HERE>\n",
    "    else:\n",
    "        return n * factorial(n-1)\n",
    "\n",
    "\"\"\"\n",
    "prefix, suffix = prompt.split(\"<INSERT HERE>\")\n",
    "gpt = OpenAIGptWrapper(use_fim=True, use_nl_prompt=True, print_prompt=True)\n",
    "gpt.infill(prefix, suffix, 100)\n"
   ]
  },
  {
   "cell_type": "code",
   "execution_count": 8,
   "metadata": {},
   "outputs": [
    {
     "name": "stdout",
     "output_type": "stream",
     "text": [
      "def factorial(n):\n",
      "    if n == 0: \n",
      "\n",
      "\n",
      "--------------------------------------------------------------------------------\n",
      "End of Prompt\n",
      "--------------------------------------------------------------------------------\n"
     ]
    },
    {
     "data": {
      "text/plain": [
       "'        return 1'"
      ]
     },
     "execution_count": 8,
     "metadata": {},
     "output_type": "execute_result"
    }
   ],
   "source": [
    "gpt = OpenAIGptWrapper(use_fim=False, print_prompt=True)\n",
    "prompt = \"\"\"\\\n",
    "def factorial(n):\n",
    "    if n == 0: \n",
    "\n",
    "\"\"\"\n",
    "gpt.infill_lm(prompt, 100)"
   ]
  }
 ],
 "metadata": {
  "kernelspec": {
   "display_name": ".venv",
   "language": "python",
   "name": "python3"
  },
  "language_info": {
   "codemirror_mode": {
    "name": "ipython",
    "version": 3
   },
   "file_extension": ".py",
   "mimetype": "text/x-python",
   "name": "python",
   "nbconvert_exporter": "python",
   "pygments_lexer": "ipython3",
   "version": "3.11.0"
  },
  "orig_nbformat": 4
 },
 "nbformat": 4,
 "nbformat_minor": 2
}
