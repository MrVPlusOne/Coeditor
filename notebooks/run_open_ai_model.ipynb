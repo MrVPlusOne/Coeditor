{
 "cells": [
  {
   "cell_type": "code",
   "execution_count": 7,
   "metadata": {},
   "outputs": [
    {
     "name": "stdout",
     "output_type": "stream",
     "text": [
      "The autoreload extension is already loaded. To reload it, use:\n",
      "  %reload_ext autoreload\n"
     ]
    }
   ],
   "source": [
    "%load_ext autoreload\n",
    "%autoreload 2"
   ]
  },
  {
   "cell_type": "code",
   "execution_count": 24,
   "metadata": {},
   "outputs": [
    {
     "name": "stdout",
     "output_type": "stream",
     "text": [
      "You are tasked to fill in a missing line for a given Python code snippet (which \n",
      "may have been truncated). \n",
      "The missing line is indicated by `<MISSING LINE>`. You should \n",
      "then output the missing line (including the leading whitespaces) and nothing more.\n",
      "For example, if the input is \n",
      "```\n",
      "def fib(n):\n",
      "    if n < 2: \n",
      "MISSING LINE\n",
      "    else:\n",
      "        return fib(n-1) + fib(\n",
      "```\n",
      "You should output `        return 1` and nothing more (without the quote).\n",
      "Now complete the code below:\n",
      "```\n",
      "def factorial(n):\n",
      "    if n == 0: \n",
      "        return 1\n",
      "    else:\n",
      "<MISSING LINE>\n",
      "\n",
      "\n",
      "```\n",
      "\n",
      "--------------------------------------------------------------------------------\n",
      "End of Prompt\n",
      "--------------------------------------------------------------------------------\n"
     ]
    },
    {
     "data": {
      "text/plain": [
       "'        return n * factorial(n-1)'"
      ]
     },
     "execution_count": 24,
     "metadata": {},
     "output_type": "execute_result"
    }
   ],
   "source": [
    "from coeditor.experiments.openai_gpt import OpenAIGptWrapper\n",
    "\n",
    "prompt = \"\"\"\\\n",
    "def factorial(n):\n",
    "    if n == 0: \n",
    "        return 1\n",
    "    else:\n",
    "<INSERT HERE>\n",
    "\n",
    "\"\"\"\n",
    "prefix, suffix = prompt.split(\"<INSERT HERE>\")\n",
    "gpt = OpenAIGptWrapper(use_fim=True, print_prompt=True)\n",
    "gpt.infill(prefix, suffix, 100)\n"
   ]
  },
  {
   "cell_type": "code",
   "execution_count": 23,
   "metadata": {},
   "outputs": [
    {
     "name": "stdout",
     "output_type": "stream",
     "text": [
      "def factorial(n):\n",
      "    if n == 0: \n",
      "\n",
      "\n",
      "--------------------------------------------------------------------------------\n",
      "End of Prompt\n",
      "--------------------------------------------------------------------------------\n"
     ]
    },
    {
     "data": {
      "text/plain": [
       "'        return 1'"
      ]
     },
     "execution_count": 23,
     "metadata": {},
     "output_type": "execute_result"
    }
   ],
   "source": [
    "gpt = OpenAIGptWrapper(use_fim=False, print_prompt=True)\n",
    "prompt = \"\"\"\\\n",
    "def factorial(n):\n",
    "    if n == 0: \n",
    "\n",
    "\"\"\"\n",
    "gpt.infill_lm(prompt, 100)"
   ]
  }
 ],
 "metadata": {
  "kernelspec": {
   "display_name": ".venv",
   "language": "python",
   "name": "python3"
  },
  "language_info": {
   "codemirror_mode": {
    "name": "ipython",
    "version": 3
   },
   "file_extension": ".py",
   "mimetype": "text/x-python",
   "name": "python",
   "nbconvert_exporter": "python",
   "pygments_lexer": "ipython3",
   "version": "3.11.0"
  },
  "orig_nbformat": 4
 },
 "nbformat": 4,
 "nbformat_minor": 2
}
