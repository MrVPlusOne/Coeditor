{
 "cells": [
  {
   "cell_type": "code",
   "execution_count": 1,
   "metadata": {},
   "outputs": [],
   "source": [
    "%load_ext autoreload\n",
    "%autoreload 2\n",
    "%load_ext snakeviz\n",
    "%load_ext line_profiler\n",
    "\n",
    "from coeditor.common import *\n",
    "import os\n",
    "from coeditor.model import RetrievalEditorModel, AttentionMode, DecodingArgs, EditCostModel\n",
    "from coeditor.service import EditPredictionService, ChangeDetector\n",
    "from coeditor.c3problem import C3GeneratorCache, C3Problem\n",
    "\n",
    "os.chdir(proj_root())"
   ]
  },
  {
   "cell_type": "code",
   "execution_count": 2,
   "metadata": {},
   "outputs": [],
   "source": [
    "# target_dir = proj_root() / \"../SPOT-copy/\"\n",
    "target_dir = proj_root()\n",
    "model_name = \"coeditor-xl-c3-dropout-v1.6-resumed\"\n",
    "model_path = get_model_dir(True) / model_name\n",
    "model = RetrievalEditorModel.load(model_path)\n",
    "model.to(\"cuda:2\")\n",
    "detector = ChangeDetector(target_dir)\n",
    "service = EditPredictionService(\n",
    "    detector,\n",
    "    model,\n",
    "    dec_args = DecodingArgs(do_sample=False, num_beams=1, length_penalty=0.0)\n",
    "    # dec_args = DecodingArgs(do_sample=True, top_p=0.95, marginalize_samples=50)\n",
    ")\n"
   ]
  },
  {
   "cell_type": "code",
   "execution_count": 3,
   "metadata": {},
   "outputs": [
    {
     "name": "stdout",
     "output_type": "stream",
     "text": [
      "Target module 'scripts.train_model' has not changed.\n",
      "Target span has not changed. Creating a trivial change.\n"
     ]
    },
    {
     "name": "stderr",
     "output_type": "stream",
     "text": [
      "Analyzing /home/jiayi/Projects/Coeditor/scripts/train_model.py: 100%|██████████| 230/230 [00:01<00:00, 135.10it/s]\n"
     ]
    },
    {
     "name": "stdout",
     "output_type": "stream",
     "text": [
      "Writing logs to: .coeditor_logs\n",
      "Target file: /home/jiayi/Projects/Coeditor/scripts/train_model.py\n",
      "Edit range: (76, 0) - (106, 0)\n",
      "Target lines: 76--105\n",
      "\t--------------- Suggestion 0 (score: 1) ---------------\n",
      "\t         model = RetrievalEditorModel.from_code_t5(\"base\", reuse_embed=True)\n",
      "\t     else:\n",
      "\t         model = RetrievalEditorModel.load(resumed_from)\n",
      " \n",
      "\t     if os.getenv(\"CUDA_VISIBLE_DEVICES\") is None:\n",
      "\t         warnings.warn(\n",
      "\t             \"CUDA_VISIBLE_DEVICES not set, using 0. Note that \"\n",
      "\t             \"the Huggingface Trainer will use all visible GPUs for training.\"\n",
      "\t         )\n",
      "\t         os.environ[\"CUDA_VISIBLE_DEVICES\"] = \"0\"\n",
      " \n",
      "\t     train_tkn = encoder.edit_tokenizer\n",
      "\t     eval_tkn = copy.deepcopy(train_tkn)\n",
      "\t     eval_tkn.max_query_tks *= 2\n",
      "\t     eval_tkn.max_output_tks *= 2\n",
      "\t     eval_tkn.max_ref_tks_sum *= 2\n",
      "\t+    eval_tkn.max_scope_tks *= 2\n",
      " \n",
      "\t     eval_loader = C3DataLoader(\n",
      "\t         datasets[\"valid\"], None, eval_tkn, eval_batch_args, shuffle=False, desc=\"eval\"\n",
      "\t     )\n",
      " \n",
      "\t     if not eval_only and resumed_from is None:\n",
      "\t         with timed_action(\"Warm-up Training\"):\n",
      "\t             warmup_bargs = copy.deepcopy(batch_args)\n",
      "\t             warmup_bargs.min_queries *= 4\n",
      "\t             warmup_bargs.max_queries *= 2\n",
      " \n",
      "\t             warm_up_data = random_subset(\n",
      "\t                 datasets[\"train\"], len(datasets[\"train\"]) // 4, rng=42\n",
      "\t             )\n",
      " \n",
      "\n"
     ]
    },
    {
     "data": {
      "text/html": [
       "<div>\n",
       "<style scoped>\n",
       "    .dataframe tbody tr th:only-of-type {\n",
       "        vertical-align: middle;\n",
       "    }\n",
       "\n",
       "    .dataframe tbody tr th {\n",
       "        vertical-align: top;\n",
       "    }\n",
       "\n",
       "    .dataframe thead th {\n",
       "        text-align: right;\n",
       "    }\n",
       "</style>\n",
       "<table border=\"1\" class=\"dataframe\">\n",
       "  <thead>\n",
       "    <tr style=\"text-align: right;\">\n",
       "      <th></th>\n",
       "      <th>name</th>\n",
       "      <th>count</th>\n",
       "      <th>avg_time</th>\n",
       "      <th>total_time</th>\n",
       "    </tr>\n",
       "  </thead>\n",
       "  <tbody>\n",
       "    <tr>\n",
       "      <th>1</th>\n",
       "      <td>get c3 problem</td>\n",
       "      <td>1</td>\n",
       "      <td>3.439073</td>\n",
       "      <td>3.439073</td>\n",
       "    </tr>\n",
       "    <tr>\n",
       "      <th>0</th>\n",
       "      <td>usage analysis</td>\n",
       "      <td>1</td>\n",
       "      <td>2.789201</td>\n",
       "      <td>2.789201</td>\n",
       "    </tr>\n",
       "    <tr>\n",
       "      <th>6</th>\n",
       "      <td>run model</td>\n",
       "      <td>1</td>\n",
       "      <td>1.765540</td>\n",
       "      <td>1.765540</td>\n",
       "    </tr>\n",
       "    <tr>\n",
       "      <th>4</th>\n",
       "      <td>model.generate</td>\n",
       "      <td>1</td>\n",
       "      <td>1.759232</td>\n",
       "      <td>1.759232</td>\n",
       "    </tr>\n",
       "    <tr>\n",
       "      <th>3</th>\n",
       "      <td>decoder.forward</td>\n",
       "      <td>48</td>\n",
       "      <td>0.014586</td>\n",
       "      <td>0.700150</td>\n",
       "    </tr>\n",
       "    <tr>\n",
       "      <th>2</th>\n",
       "      <td>tokenize c3 problem</td>\n",
       "      <td>1</td>\n",
       "      <td>0.050091</td>\n",
       "      <td>0.050091</td>\n",
       "    </tr>\n",
       "    <tr>\n",
       "      <th>5</th>\n",
       "      <td>assemble changes</td>\n",
       "      <td>1</td>\n",
       "      <td>0.003297</td>\n",
       "      <td>0.003297</td>\n",
       "    </tr>\n",
       "  </tbody>\n",
       "</table>\n",
       "</div>"
      ],
      "text/plain": [
       "                  name  count  avg_time  total_time\n",
       "1       get c3 problem      1  3.439073    3.439073\n",
       "0       usage analysis      1  2.789201    2.789201\n",
       "6            run model      1  1.765540    1.765540\n",
       "4       model.generate      1  1.759232    1.759232\n",
       "3      decoder.forward     48  0.014586    0.700150\n",
       "2  tokenize c3 problem      1  0.050091    0.050091\n",
       "5     assemble changes      1  0.003297    0.003297"
      ]
     },
     "execution_count": 3,
     "metadata": {},
     "output_type": "execute_result"
    }
   ],
   "source": [
    "# service.dec_args = DecodingArgs(do_sample=True, top_p=0.9, marginalize_samples=25)\n",
    "# service.dec_args = DecodingArgs(do_sample=False, num_beams=8, length_penalty=0.0)\n",
    "service.tlogger.clear()\n",
    "response = service.suggest_edit(to_rel_path(\"scripts/train_model.py\"), 91)\n",
    "print(response)\n",
    "service.tlogger.as_dataframe()"
   ]
  }
 ],
 "metadata": {
  "kernelspec": {
   "display_name": ".venv",
   "language": "python",
   "name": "python3"
  },
  "language_info": {
   "codemirror_mode": {
    "name": "ipython",
    "version": 3
   },
   "file_extension": ".py",
   "mimetype": "text/x-python",
   "name": "python",
   "nbconvert_exporter": "python",
   "pygments_lexer": "ipython3",
   "version": "3.11.0"
  },
  "orig_nbformat": 4,
  "vscode": {
   "interpreter": {
    "hash": "f6ffc72953da4dd16b2e00785be9c4013ef131f465a8658f3921b6634d4eeec8"
   }
  }
 },
 "nbformat": 4,
 "nbformat_minor": 2
}
